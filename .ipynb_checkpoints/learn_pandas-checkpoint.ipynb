{
 "cells": [
  {
   "cell_type": "code",
   "execution_count": 64,
   "metadata": {},
   "outputs": [],
   "source": [
    "import pandas as pd\n",
    "groceries = pd.Series(data=[1,2,\"Yes\",'No'],index=['eggs','tomato','milk','butter'])\n"
   ]
  },
  {
   "cell_type": "code",
   "execution_count": 65,
   "metadata": {},
   "outputs": [
    {
     "data": {
      "text/plain": [
       "eggs        1\n",
       "tomato      2\n",
       "milk      Yes\n",
       "butter     No\n",
       "dtype: object"
      ]
     },
     "execution_count": 65,
     "metadata": {},
     "output_type": "execute_result"
    }
   ],
   "source": [
    "groceries"
   ]
  },
  {
   "cell_type": "code",
   "execution_count": 66,
   "metadata": {},
   "outputs": [
    {
     "data": {
      "text/plain": [
       "(4,)"
      ]
     },
     "execution_count": 66,
     "metadata": {},
     "output_type": "execute_result"
    }
   ],
   "source": [
    "groceries.shape"
   ]
  },
  {
   "cell_type": "code",
   "execution_count": 67,
   "metadata": {},
   "outputs": [
    {
     "data": {
      "text/plain": [
       "1"
      ]
     },
     "execution_count": 67,
     "metadata": {},
     "output_type": "execute_result"
    }
   ],
   "source": [
    "groceries.ndim"
   ]
  },
  {
   "cell_type": "code",
   "execution_count": 68,
   "metadata": {},
   "outputs": [
    {
     "data": {
      "text/plain": [
       "4"
      ]
     },
     "execution_count": 68,
     "metadata": {},
     "output_type": "execute_result"
    }
   ],
   "source": [
    "groceries.size"
   ]
  },
  {
   "cell_type": "code",
   "execution_count": 69,
   "metadata": {},
   "outputs": [
    {
     "data": {
      "text/plain": [
       "True"
      ]
     },
     "execution_count": 69,
     "metadata": {},
     "output_type": "execute_result"
    }
   ],
   "source": [
    "'eggs' in groceries"
   ]
  },
  {
   "cell_type": "code",
   "execution_count": 70,
   "metadata": {},
   "outputs": [
    {
     "data": {
      "text/plain": [
       "1"
      ]
     },
     "execution_count": 70,
     "metadata": {},
     "output_type": "execute_result"
    }
   ],
   "source": [
    "groceries.loc['eggs']"
   ]
  },
  {
   "cell_type": "code",
   "execution_count": 71,
   "metadata": {},
   "outputs": [
    {
     "data": {
      "text/plain": [
       "tomato      2\n",
       "milk      Yes\n",
       "dtype: object"
      ]
     },
     "execution_count": 71,
     "metadata": {},
     "output_type": "execute_result"
    }
   ],
   "source": [
    "groceries.iloc[[1,2]]"
   ]
  },
  {
   "cell_type": "code",
   "execution_count": 72,
   "metadata": {},
   "outputs": [],
   "source": [
    "groceries['TUTU'] = 3"
   ]
  },
  {
   "cell_type": "code",
   "execution_count": 73,
   "metadata": {},
   "outputs": [
    {
     "data": {
      "text/plain": [
       "eggs        1\n",
       "tomato      2\n",
       "milk      Yes\n",
       "butter     No\n",
       "TUTU        3\n",
       "dtype: object"
      ]
     },
     "execution_count": 73,
     "metadata": {},
     "output_type": "execute_result"
    }
   ],
   "source": [
    "groceries"
   ]
  },
  {
   "cell_type": "code",
   "execution_count": 74,
   "metadata": {},
   "outputs": [
    {
     "data": {
      "text/plain": [
       "eggs        3\n",
       "tomato      2\n",
       "milk      Yes\n",
       "butter     No\n",
       "TUTU        3\n",
       "dtype: object"
      ]
     },
     "execution_count": 74,
     "metadata": {},
     "output_type": "execute_result"
    }
   ],
   "source": [
    "groceries['eggs']  = 3\n",
    "groceries"
   ]
  },
  {
   "cell_type": "code",
   "execution_count": 75,
   "metadata": {},
   "outputs": [
    {
     "data": {
      "text/plain": [
       "tomato      2\n",
       "milk      Yes\n",
       "butter     No\n",
       "TUTU        3\n",
       "dtype: object"
      ]
     },
     "execution_count": 75,
     "metadata": {},
     "output_type": "execute_result"
    }
   ],
   "source": [
    "groceries.drop('eggs',inplace = True)\n",
    "groceries"
   ]
  },
  {
   "cell_type": "code",
   "execution_count": 76,
   "metadata": {},
   "outputs": [
    {
     "name": "stdout",
     "output_type": "stream",
     "text": [
      "milk      Yes\n",
      "butter     No\n",
      "dtype: object\n"
     ]
    },
    {
     "data": {
      "text/plain": [
       "milk    Yes\n",
       "TUTU      3\n",
       "dtype: object"
      ]
     },
     "execution_count": 76,
     "metadata": {},
     "output_type": "execute_result"
    }
   ],
   "source": [
    "print(groceries[[1,2]])\n",
    "\n",
    "groceries[['milk','TUTU']]\n"
   ]
  },
  {
   "cell_type": "code",
   "execution_count": 77,
   "metadata": {},
   "outputs": [],
   "source": [
    "# math\n",
    "groceries = pd.Series(data=[1,2,3,4,5],index=['apple','pear','banana','orange','grape'])\n"
   ]
  },
  {
   "cell_type": "code",
   "execution_count": 78,
   "metadata": {},
   "outputs": [
    {
     "data": {
      "text/plain": [
       "apple     2\n",
       "pear      3\n",
       "banana    4\n",
       "orange    5\n",
       "grape     6\n",
       "dtype: int64"
      ]
     },
     "execution_count": 78,
     "metadata": {},
     "output_type": "execute_result"
    }
   ],
   "source": [
    "groceries+1"
   ]
  },
  {
   "cell_type": "code",
   "execution_count": 79,
   "metadata": {},
   "outputs": [
    {
     "data": {
      "text/plain": [
       "apple      2\n",
       "pear       4\n",
       "banana     6\n",
       "orange     8\n",
       "grape     10\n",
       "dtype: int64"
      ]
     },
     "execution_count": 79,
     "metadata": {},
     "output_type": "execute_result"
    }
   ],
   "source": [
    "groceries*2"
   ]
  },
  {
   "cell_type": "code",
   "execution_count": 80,
   "metadata": {},
   "outputs": [
    {
     "data": {
      "text/plain": [
       "apple       2.718282\n",
       "pear        7.389056\n",
       "banana     20.085537\n",
       "orange     54.598150\n",
       "grape     148.413159\n",
       "dtype: float64"
      ]
     },
     "execution_count": 80,
     "metadata": {},
     "output_type": "execute_result"
    }
   ],
   "source": [
    "import numpy as np\n",
    "np.exp(groceries)"
   ]
  },
  {
   "cell_type": "code",
   "execution_count": 81,
   "metadata": {},
   "outputs": [],
   "source": [
    "# dataframe\n",
    "Bob = groceries\n",
    "Alice = pd.Series(data=[1,3,5,7,9],index=['apple','pear','banana','orange','grape'])\n",
    "df = {\n",
    "    'Bob':Bob,\n",
    "    'Alice':Alice\n",
    "}\n",
    "bk =  pd.DataFrame(df)\n"
   ]
  },
  {
   "cell_type": "code",
   "execution_count": 82,
   "metadata": {},
   "outputs": [
    {
     "name": "stdout",
     "output_type": "stream",
     "text": [
      "[[1 1]\n",
      " [2 3]\n",
      " [3 5]\n",
      " [4 7]\n",
      " [5 9]]\n",
      "Index(['apple', 'pear', 'banana', 'orange', 'grape'], dtype='object')\n",
      "Index(['Bob', 'Alice'], dtype='object')\n"
     ]
    }
   ],
   "source": [
    "print(bk.values)\n",
    "print(bk.index)\n",
    "print(bk.columns)"
   ]
  },
  {
   "cell_type": "code",
   "execution_count": 83,
   "metadata": {},
   "outputs": [
    {
     "name": "stdout",
     "output_type": "stream",
     "text": [
      "(5, 2)\n",
      "2\n",
      "10\n"
     ]
    }
   ],
   "source": [
    "print(bk.shape)\n",
    "print(bk.ndim)\n",
    "print(bk.size)"
   ]
  },
  {
   "cell_type": "code",
   "execution_count": 84,
   "metadata": {},
   "outputs": [],
   "source": [
    "Bob_shopcart = pd.DataFrame(Bob,columns = ['Bob'])"
   ]
  },
  {
   "cell_type": "code",
   "execution_count": 85,
   "metadata": {},
   "outputs": [
    {
     "name": "stdout",
     "output_type": "stream",
     "text": [
      "        Bob\n",
      "apple     1\n",
      "pear      2\n",
      "banana    3\n",
      "orange    4\n",
      "grape     5\n"
     ]
    }
   ],
   "source": [
    "print(Bob_shopcart)\n"
   ]
  },
  {
   "cell_type": "code",
   "execution_count": 86,
   "metadata": {},
   "outputs": [
    {
     "name": "stdout",
     "output_type": "stream",
     "text": [
      "        Bob  Alice\n",
      "apple     1      1\n",
      "pear      2      3\n",
      "banana    3      5\n",
      "orange    4      7\n",
      "grape     5      9\n"
     ]
    }
   ],
   "source": [
    "print(bk)"
   ]
  },
  {
   "cell_type": "code",
   "execution_count": 87,
   "metadata": {},
   "outputs": [
    {
     "name": "stdout",
     "output_type": "stream",
     "text": [
      "       apple  pear  banana  orange  grape\n",
      "Bob        1     2       3       4      5\n",
      "Alice      1     3       5       7      9\n"
     ]
    }
   ],
   "source": [
    "print(bk.T)"
   ]
  },
  {
   "cell_type": "code",
   "execution_count": 89,
   "metadata": {},
   "outputs": [
    {
     "name": "stdout",
     "output_type": "stream",
     "text": [
      "        Bob  Alice\n",
      "apple     1      1\n",
      "pear      2      3\n",
      "banana    3      5\n",
      "orange    4      7\n",
      "grape     5      9\n",
      "       apple  pear  banana  orange  grape\n",
      "Bob        1     2       3       4      5\n",
      "Alice      1     3       5       7      9\n"
     ]
    }
   ],
   "source": [
    "# bkt=bk\n",
    "# print(bkt)\n",
    "\n",
    "print(bk)\n",
    "bk = bk.T\n",
    "print(bk)\n",
    "item = pd.DataFrame(data = [{\"apple\":2,'pear':4,\"banana\":8,\"orange\":10,\"grape\":12}],index = ['Seri'])\n",
    "print(item)\n",
    "bkt = bkt.append(item)"
   ]
  },
  {
   "cell_type": "code",
   "execution_count": 61,
   "metadata": {},
   "outputs": [],
   "source": [
    "bk['KiWi']=bk['pear']"
   ]
  },
  {
   "cell_type": "code",
   "execution_count": 62,
   "metadata": {},
   "outputs": [
    {
     "data": {
      "text/html": [
       "<div>\n",
       "<style scoped>\n",
       "    .dataframe tbody tr th:only-of-type {\n",
       "        vertical-align: middle;\n",
       "    }\n",
       "\n",
       "    .dataframe tbody tr th {\n",
       "        vertical-align: top;\n",
       "    }\n",
       "\n",
       "    .dataframe thead th {\n",
       "        text-align: right;\n",
       "    }\n",
       "</style>\n",
       "<table border=\"1\" class=\"dataframe\">\n",
       "  <thead>\n",
       "    <tr style=\"text-align: right;\">\n",
       "      <th></th>\n",
       "      <th>apple</th>\n",
       "      <th>pear</th>\n",
       "      <th>banana</th>\n",
       "      <th>orange</th>\n",
       "      <th>grape</th>\n",
       "      <th>KiWi</th>\n",
       "    </tr>\n",
       "  </thead>\n",
       "  <tbody>\n",
       "    <tr>\n",
       "      <th>Bob</th>\n",
       "      <td>1</td>\n",
       "      <td>2</td>\n",
       "      <td>3</td>\n",
       "      <td>4</td>\n",
       "      <td>5</td>\n",
       "      <td>2</td>\n",
       "    </tr>\n",
       "    <tr>\n",
       "      <th>Alice</th>\n",
       "      <td>1</td>\n",
       "      <td>3</td>\n",
       "      <td>5</td>\n",
       "      <td>7</td>\n",
       "      <td>9</td>\n",
       "      <td>3</td>\n",
       "    </tr>\n",
       "  </tbody>\n",
       "</table>\n",
       "</div>"
      ],
      "text/plain": [
       "       apple  pear  banana  orange  grape  KiWi\n",
       "Bob        1     2       3       4      5     2\n",
       "Alice      1     3       5       7      9     3"
      ]
     },
     "execution_count": 62,
     "metadata": {},
     "output_type": "execute_result"
    }
   ],
   "source": [
    "bk"
   ]
  },
  {
   "cell_type": "code",
   "execution_count": 63,
   "metadata": {},
   "outputs": [
    {
     "data": {
      "text/html": [
       "<div>\n",
       "<style scoped>\n",
       "    .dataframe tbody tr th:only-of-type {\n",
       "        vertical-align: middle;\n",
       "    }\n",
       "\n",
       "    .dataframe tbody tr th {\n",
       "        vertical-align: top;\n",
       "    }\n",
       "\n",
       "    .dataframe thead th {\n",
       "        text-align: right;\n",
       "    }\n",
       "</style>\n",
       "<table border=\"1\" class=\"dataframe\">\n",
       "  <thead>\n",
       "    <tr style=\"text-align: right;\">\n",
       "      <th></th>\n",
       "      <th>KiWi</th>\n",
       "      <th>apple</th>\n",
       "      <th>banana</th>\n",
       "      <th>grape</th>\n",
       "      <th>orange</th>\n",
       "      <th>pear</th>\n",
       "    </tr>\n",
       "  </thead>\n",
       "  <tbody>\n",
       "    <tr>\n",
       "      <th>Bob</th>\n",
       "      <td>2.0</td>\n",
       "      <td>1</td>\n",
       "      <td>3</td>\n",
       "      <td>5</td>\n",
       "      <td>4</td>\n",
       "      <td>2</td>\n",
       "    </tr>\n",
       "    <tr>\n",
       "      <th>Alice</th>\n",
       "      <td>3.0</td>\n",
       "      <td>1</td>\n",
       "      <td>5</td>\n",
       "      <td>9</td>\n",
       "      <td>7</td>\n",
       "      <td>3</td>\n",
       "    </tr>\n",
       "    <tr>\n",
       "      <th>Seri</th>\n",
       "      <td>NaN</td>\n",
       "      <td>2</td>\n",
       "      <td>8</td>\n",
       "      <td>12</td>\n",
       "      <td>10</td>\n",
       "      <td>4</td>\n",
       "    </tr>\n",
       "  </tbody>\n",
       "</table>\n",
       "</div>"
      ],
      "text/plain": [
       "       KiWi  apple  banana  grape  orange  pear\n",
       "Bob     2.0      1       3      5       4     2\n",
       "Alice   3.0      1       5      9       7     3\n",
       "Seri    NaN      2       8     12      10     4"
      ]
     },
     "execution_count": 63,
     "metadata": {},
     "output_type": "execute_result"
    }
   ],
   "source": [
    "bkt"
   ]
  },
  {
   "cell_type": "code",
   "execution_count": 90,
   "metadata": {},
   "outputs": [
    {
     "data": {
      "text/html": [
       "<div>\n",
       "<style scoped>\n",
       "    .dataframe tbody tr th:only-of-type {\n",
       "        vertical-align: middle;\n",
       "    }\n",
       "\n",
       "    .dataframe tbody tr th {\n",
       "        vertical-align: top;\n",
       "    }\n",
       "\n",
       "    .dataframe thead th {\n",
       "        text-align: right;\n",
       "    }\n",
       "</style>\n",
       "<table border=\"1\" class=\"dataframe\">\n",
       "  <thead>\n",
       "    <tr style=\"text-align: right;\">\n",
       "      <th></th>\n",
       "      <th>apple</th>\n",
       "      <th>pear</th>\n",
       "      <th>banana</th>\n",
       "      <th>orange</th>\n",
       "      <th>grape</th>\n",
       "    </tr>\n",
       "  </thead>\n",
       "  <tbody>\n",
       "    <tr>\n",
       "      <th>Bob</th>\n",
       "      <td>1</td>\n",
       "      <td>2</td>\n",
       "      <td>3</td>\n",
       "      <td>4</td>\n",
       "      <td>5</td>\n",
       "    </tr>\n",
       "    <tr>\n",
       "      <th>Alice</th>\n",
       "      <td>1</td>\n",
       "      <td>3</td>\n",
       "      <td>5</td>\n",
       "      <td>7</td>\n",
       "      <td>9</td>\n",
       "    </tr>\n",
       "  </tbody>\n",
       "</table>\n",
       "</div>"
      ],
      "text/plain": [
       "       apple  pear  banana  orange  grape\n",
       "Bob        1     2       3       4      5\n",
       "Alice      1     3       5       7      9"
      ]
     },
     "execution_count": 90,
     "metadata": {},
     "output_type": "execute_result"
    }
   ],
   "source": [
    "# dropna will drop the null value\n",
    "bk.dropna(axis = 0)\n",
    "bk.fillna(0)\n",
    "# forward fill\n",
    "bk.fillna(method='ffill',axis=0)\n",
    "# backward fill\n",
    "bk.fillna(method='backfill',axis=1)"
   ]
  },
  {
   "cell_type": "code",
   "execution_count": 110,
   "metadata": {},
   "outputs": [],
   "source": [
    "pd.set_option('precision', 1)\n",
    "\n",
    "books = pd.Series(data = ['Great Expectations', 'Of Mice and Men', 'Romeo and Juliet', 'The Time Machine', 'Alice in Wonderland' ])\n",
    "authors = pd.Series(data = ['Charles Dickens', 'John Steinbeck', 'William Shakespeare', ' H. G. Wells', 'Lewis Carroll' ])\n",
    "user_1 = pd.Series(data = [3.2, np.nan ,2.5])\n",
    "user_2 = pd.Series(data = [5., 1.3, 4.0, 3.8])\n",
    "user_3 = pd.Series(data = [2.0, 2.3, np.nan, 4])\n",
    "user_4 = pd.Series(data = [4, 3.5, 4, 5, 4.2])\n",
    "\n",
    "dat = {'Book Title' : books,\n",
    "       'Author' : authors,\n",
    "       'User 1' : user_1,\n",
    "       'User 2' : user_2,\n",
    "       'User 3' : user_3,\n",
    "       'User 4' : user_4}\n",
    "book_ratings = pd.DataFrame(dat)\n"
   ]
  },
  {
   "cell_type": "code",
   "execution_count": 111,
   "metadata": {},
   "outputs": [
    {
     "name": "stdout",
     "output_type": "stream",
     "text": [
      "            Book Title               Author  User 1  User 2  User 3  User 4\n",
      "0   Great Expectations      Charles Dickens     3.2     5.0     2.0     4.0\n",
      "1      Of Mice and Men       John Steinbeck     NaN     1.3     2.3     3.5\n",
      "2     Romeo and Juliet  William Shakespeare     2.5     4.0     NaN     4.0\n",
      "3     The Time Machine          H. G. Wells     NaN     3.8     4.0     5.0\n",
      "4  Alice in Wonderland        Lewis Carroll     NaN     NaN     NaN     4.2\n"
     ]
    }
   ],
   "source": [
    "print(book_ratings)"
   ]
  },
  {
   "cell_type": "code",
   "execution_count": 112,
   "metadata": {},
   "outputs": [],
   "source": [
    "book_ratings.fillna(book_ratings.mean(axis = 1), inplace = True)"
   ]
  },
  {
   "cell_type": "code",
   "execution_count": 113,
   "metadata": {},
   "outputs": [
    {
     "name": "stdout",
     "output_type": "stream",
     "text": [
      "            Book Title               Author  User 1  User 2  User 3  User 4\n",
      "0   Great Expectations      Charles Dickens     3.2     5.0     2.0     4.0\n",
      "1      Of Mice and Men       John Steinbeck     NaN     1.3     2.3     3.5\n",
      "2     Romeo and Juliet  William Shakespeare     2.5     4.0     NaN     4.0\n",
      "3     The Time Machine          H. G. Wells     NaN     3.8     4.0     5.0\n",
      "4  Alice in Wonderland        Lewis Carroll     NaN     NaN     NaN     4.2\n"
     ]
    }
   ],
   "source": [
    "print(book_ratings)"
   ]
  },
  {
   "cell_type": "code",
   "execution_count": 109,
   "metadata": {},
   "outputs": [
    {
     "data": {
      "text/plain": [
       "0    3.5\n",
       "1    2.5\n",
       "2    3.3\n",
       "3    3.9\n",
       "4    3.3\n",
       "dtype: float64"
      ]
     },
     "execution_count": 109,
     "metadata": {},
     "output_type": "execute_result"
    }
   ],
   "source": [
    "book_ratings.mean(axis=1)\n"
   ]
  },
  {
   "cell_type": "code",
   "execution_count": null,
   "metadata": {},
   "outputs": [],
   "source": []
  }
 ],
 "metadata": {
  "kernelspec": {
   "display_name": "Python 3",
   "language": "python",
   "name": "python3"
  },
  "language_info": {
   "codemirror_mode": {
    "name": "ipython",
    "version": 3
   },
   "file_extension": ".py",
   "mimetype": "text/x-python",
   "name": "python",
   "nbconvert_exporter": "python",
   "pygments_lexer": "ipython3",
   "version": "3.6.2"
  }
 },
 "nbformat": 4,
 "nbformat_minor": 2
}
