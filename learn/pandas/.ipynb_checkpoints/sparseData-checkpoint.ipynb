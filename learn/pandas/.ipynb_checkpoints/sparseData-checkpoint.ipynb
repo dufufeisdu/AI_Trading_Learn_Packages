{
 "cells": [
  {
   "cell_type": "code",
   "execution_count": 1,
   "metadata": {},
   "outputs": [],
   "source": [
    "import numpy as np\n",
    "import pandas as pd"
   ]
  },
  {
   "cell_type": "code",
   "execution_count": 3,
   "metadata": {},
   "outputs": [
    {
     "data": {
      "text/plain": [
       "8000"
      ]
     },
     "execution_count": 3,
     "metadata": {},
     "output_type": "execute_result"
    }
   ],
   "source": [
    "s = pd.Series(np.random.randn(1000))\n",
    "s[2:-2] = np.nan\n",
    "s.nbytes"
   ]
  },
  {
   "cell_type": "code",
   "execution_count": 6,
   "metadata": {},
   "outputs": [
    {
     "data": {
      "text/plain": [
       "32"
      ]
     },
     "execution_count": 6,
     "metadata": {},
     "output_type": "execute_result"
    }
   ],
   "source": [
    "s1 = s.to_sparse()\n",
    "s1.nbytes"
   ]
  },
  {
   "cell_type": "code",
   "execution_count": 8,
   "metadata": {},
   "outputs": [
    {
     "data": {
      "text/plain": [
       "8000"
      ]
     },
     "execution_count": 8,
     "metadata": {},
     "output_type": "execute_result"
    }
   ],
   "source": [
    "s1.to_dense().nbytes"
   ]
  },
  {
   "cell_type": "code",
   "execution_count": 9,
   "metadata": {},
   "outputs": [
    {
     "data": {
      "text/plain": [
       "<bound method Series.to_sparse of 0      0.295353\n",
       "1     -1.273765\n",
       "2           NaN\n",
       "3           NaN\n",
       "4           NaN\n",
       "5           NaN\n",
       "6           NaN\n",
       "7           NaN\n",
       "8           NaN\n",
       "9           NaN\n",
       "10          NaN\n",
       "11          NaN\n",
       "12          NaN\n",
       "13          NaN\n",
       "14          NaN\n",
       "15          NaN\n",
       "16          NaN\n",
       "17          NaN\n",
       "18          NaN\n",
       "19          NaN\n",
       "20          NaN\n",
       "21          NaN\n",
       "22          NaN\n",
       "23          NaN\n",
       "24          NaN\n",
       "25          NaN\n",
       "26          NaN\n",
       "27          NaN\n",
       "28          NaN\n",
       "29          NaN\n",
       "         ...   \n",
       "970         NaN\n",
       "971         NaN\n",
       "972         NaN\n",
       "973         NaN\n",
       "974         NaN\n",
       "975         NaN\n",
       "976         NaN\n",
       "977         NaN\n",
       "978         NaN\n",
       "979         NaN\n",
       "980         NaN\n",
       "981         NaN\n",
       "982         NaN\n",
       "983         NaN\n",
       "984         NaN\n",
       "985         NaN\n",
       "986         NaN\n",
       "987         NaN\n",
       "988         NaN\n",
       "989         NaN\n",
       "990         NaN\n",
       "991         NaN\n",
       "992         NaN\n",
       "993         NaN\n",
       "994         NaN\n",
       "995         NaN\n",
       "996         NaN\n",
       "997         NaN\n",
       "998   -1.062934\n",
       "999   -0.173976\n",
       "Length: 1000, dtype: float64\n",
       "BlockIndex\n",
       "Block locations: array([  0, 998], dtype=int32)\n",
       "Block lengths: array([2, 2], dtype=int32)>"
      ]
     },
     "execution_count": 9,
     "metadata": {},
     "output_type": "execute_result"
    }
   ],
   "source": [
    "s1.to_sparse()\n"
   ]
  },
  {
   "cell_type": "code",
   "execution_count": null,
   "metadata": {},
   "outputs": [],
   "source": []
  }
 ],
 "metadata": {
  "kernelspec": {
   "display_name": "Python 3",
   "language": "python",
   "name": "python3"
  },
  "language_info": {
   "codemirror_mode": {
    "name": "ipython",
    "version": 3
   },
   "file_extension": ".py",
   "mimetype": "text/x-python",
   "name": "python",
   "nbconvert_exporter": "python",
   "pygments_lexer": "ipython3",
   "version": "3.6.2"
  }
 },
 "nbformat": 4,
 "nbformat_minor": 2
}
