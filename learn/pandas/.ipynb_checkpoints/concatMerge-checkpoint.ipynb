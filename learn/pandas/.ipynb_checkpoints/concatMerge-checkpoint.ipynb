{
 "cells": [
  {
   "cell_type": "code",
   "execution_count": 1,
   "metadata": {},
   "outputs": [],
   "source": [
    "import pandas as pd\n",
    "import numpy as np"
   ]
  },
  {
   "cell_type": "markdown",
   "metadata": {},
   "source": [
    "### pd.concat(objs, axis=0, join='outer', join_axes=None, ignore_index=False,keys=None, levels=None, names=None, verify_integrity=False,copy=True) "
   ]
  },
  {
   "cell_type": "code",
   "execution_count": 3,
   "metadata": {},
   "outputs": [],
   "source": [
    "###  concat() (and therefore append()) makes a full copy of the data, use generator"
   ]
  },
  {
   "cell_type": "code",
   "execution_count": 4,
   "metadata": {},
   "outputs": [
    {
     "ename": "SyntaxError",
     "evalue": "invalid syntax (<ipython-input-4-5b2211d275a0>, line 3)",
     "output_type": "error",
     "traceback": [
      "\u001b[0;36m  File \u001b[0;32m\"<ipython-input-4-5b2211d275a0>\"\u001b[0;36m, line \u001b[0;32m3\u001b[0m\n\u001b[0;31m    ]                     'C': ['C0', 'C1', 'C2', 'C3'],\u001b[0m\n\u001b[0m    ^\u001b[0m\n\u001b[0;31mSyntaxError\u001b[0m\u001b[0;31m:\u001b[0m invalid syntax\n"
     ]
    }
   ],
   "source": [
    "In [1]: df1 = pd.DataFrame({'A': ['A0', 'A1', 'A2', 'A3'],\n",
    "                         'B': ['B0', 'B1', 'B2', 'B3'],\n",
    "                            \n",
    "                        'C': ['C0', 'C1', 'C2', 'C3'],\n",
    "                        'D': ['D0', 'D1', 'D2', 'D3']},\n",
    "                          index=[0, 1, 2, 3])\n",
    "      \n",
    "\n",
    "In [2]: df2 = pd.DataFrame({'A': ['A4', 'A5', 'A6', 'A7'],\n",
    "                          'B': ['B4', 'B5', 'B6', 'B7'],\n",
    "                          'C': ['C4', 'C5', 'C6', 'C7'],\n",
    "                          'D': ['D4', 'D5', 'D6', 'D7']},\n",
    "                           index=[4, 5, 6, 7])\n",
    "      \n",
    "\n",
    "In [3]: df3 = pd.DataFrame({'A': ['A8', 'A9', 'A10', 'A11'],\n",
    "                          'B': ['B8', 'B9', 'B10', 'B11'],\n",
    "                          'C': ['C8', 'C9', 'C10', 'C11'],\n",
    "                          'D': ['D8', 'D9', 'D10', 'D11']},\n",
    "                          index=[8, 9, 10, 11])"
   ]
  },
  {
   "cell_type": "code",
   "execution_count": null,
   "metadata": {},
   "outputs": [],
   "source": []
  }
 ],
 "metadata": {
  "kernelspec": {
   "display_name": "Python 3",
   "language": "python",
   "name": "python3"
  },
  "language_info": {
   "codemirror_mode": {
    "name": "ipython",
    "version": 3
   },
   "file_extension": ".py",
   "mimetype": "text/x-python",
   "name": "python",
   "nbconvert_exporter": "python",
   "pygments_lexer": "ipython3",
   "version": "3.6.2"
  }
 },
 "nbformat": 4,
 "nbformat_minor": 2
}
