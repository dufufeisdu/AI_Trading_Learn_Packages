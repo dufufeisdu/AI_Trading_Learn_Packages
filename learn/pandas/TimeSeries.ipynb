{
 "cells": [
  {
   "cell_type": "code",
   "execution_count": 1,
   "metadata": {},
   "outputs": [],
   "source": [
    "import pandas as pd\n",
    "import numpy as np"
   ]
  },
  {
   "cell_type": "code",
   "execution_count": 4,
   "metadata": {},
   "outputs": [],
   "source": [
    "rng = pd.date_range('3/16/2018', periods=100,freq='H')"
   ]
  },
  {
   "cell_type": "code",
   "execution_count": 6,
   "metadata": {},
   "outputs": [],
   "source": [
    "ts = pd.Series(np.random.randn(len(rng)), index=rng)"
   ]
  },
  {
   "cell_type": "code",
   "execution_count": 8,
   "metadata": {},
   "outputs": [],
   "source": [
    "converted = ts.asfreq('45Min', method='pad')"
   ]
  },
  {
   "cell_type": "code",
   "execution_count": 10,
   "metadata": {},
   "outputs": [
    {
     "data": {
      "text/plain": [
       "2018-03-16   -0.210334\n",
       "2018-03-17   -0.228195\n",
       "2018-03-18   -0.038012\n",
       "2018-03-19    0.418477\n",
       "2018-03-20    1.173562\n",
       "Freq: D, dtype: float64"
      ]
     },
     "execution_count": 10,
     "metadata": {},
     "output_type": "execute_result"
    }
   ],
   "source": [
    "ts.resample('D').mean()"
   ]
  },
  {
   "cell_type": "code",
   "execution_count": 30,
   "metadata": {},
   "outputs": [
    {
     "data": {
      "text/plain": [
       "Period('1990-01', 'M')"
      ]
     },
     "execution_count": 30,
     "metadata": {},
     "output_type": "execute_result"
    }
   ],
   "source": [
    "pd.Timestamp('1690-9-1')\n",
    "import datetime\n",
    "pd.Period('1990-1-1','M')"
   ]
  },
  {
   "cell_type": "code",
   "execution_count": 31,
   "metadata": {},
   "outputs": [],
   "source": [
    "dates = [pd.Timestamp('2012-05-01'), pd.Timestamp('2012-05-02'), pd.Timestamp('2012-05-03')]\n",
    "ts = pd.Series(np.random.randn(3),index=dates)"
   ]
  },
  {
   "cell_type": "code",
   "execution_count": 32,
   "metadata": {},
   "outputs": [
    {
     "data": {
      "text/plain": [
       "DatetimeIndex(['2012-05-01', '2012-05-02', '2012-05-03'], dtype='datetime64[ns]', freq=None)"
      ]
     },
     "execution_count": 32,
     "metadata": {},
     "output_type": "execute_result"
    }
   ],
   "source": [
    "ts.index"
   ]
  },
  {
   "cell_type": "code",
   "execution_count": 33,
   "metadata": {},
   "outputs": [
    {
     "data": {
      "text/plain": [
       "2012-05-01    1.139190\n",
       "2012-05-02   -0.010307\n",
       "2012-05-03    0.827394\n",
       "dtype: float64"
      ]
     },
     "execution_count": 33,
     "metadata": {},
     "output_type": "execute_result"
    }
   ],
   "source": [
    "ts"
   ]
  },
  {
   "cell_type": "code",
   "execution_count": 34,
   "metadata": {},
   "outputs": [],
   "source": [
    "periods = [pd.Period('2012-01'), pd.Period('2012-02'), pd.Period('2012-03')]\n",
    "ts = pd.Series(np.random.randn(3),index=periods)"
   ]
  },
  {
   "cell_type": "code",
   "execution_count": 35,
   "metadata": {},
   "outputs": [
    {
     "data": {
      "text/plain": [
       "2012-01   -0.149089\n",
       "2012-02    0.641716\n",
       "2012-03    0.003394\n",
       "Freq: M, dtype: float64"
      ]
     },
     "execution_count": 35,
     "metadata": {},
     "output_type": "execute_result"
    }
   ],
   "source": [
    "ts"
   ]
  },
  {
   "cell_type": "code",
   "execution_count": 36,
   "metadata": {},
   "outputs": [
    {
     "data": {
      "text/plain": [
       "0   2009-07-31\n",
       "1   2010-01-10\n",
       "2          NaT\n",
       "3   2005-11-23\n",
       "4   2010-12-31\n",
       "dtype: datetime64[ns]"
      ]
     },
     "execution_count": 36,
     "metadata": {},
     "output_type": "execute_result"
    }
   ],
   "source": [
    "pd.to_datetime(pd.Series(['Jul 31, 2009', '2010-01-10', None,'2005/11/23', '2010.12.31']))"
   ]
  },
  {
   "cell_type": "code",
   "execution_count": 37,
   "metadata": {},
   "outputs": [
    {
     "data": {
      "text/plain": [
       "Timestamp('2016-03-04 00:00:00')"
      ]
     },
     "execution_count": 37,
     "metadata": {},
     "output_type": "execute_result"
    }
   ],
   "source": [
    "pd.to_datetime('04-03-2016',dayfirst=True)"
   ]
  },
  {
   "cell_type": "code",
   "execution_count": 41,
   "metadata": {},
   "outputs": [
    {
     "data": {
      "text/plain": [
       "Timestamp('2010-11-12 00:00:00')"
      ]
     },
     "execution_count": 41,
     "metadata": {},
     "output_type": "execute_result"
    }
   ],
   "source": [
    "pd.to_datetime('2010/11/12',format='%Y/%m/%d')"
   ]
  },
  {
   "cell_type": "code",
   "execution_count": 45,
   "metadata": {},
   "outputs": [
    {
     "data": {
      "text/plain": [
       "DatetimeIndex(['2009-07-31', 'NaT'], dtype='datetime64[ns]', freq=None)"
      ]
     },
     "execution_count": 45,
     "metadata": {},
     "output_type": "execute_result"
    }
   ],
   "source": [
    "pd.to_datetime(['2009/07/31', 'asd'],'coerce')"
   ]
  },
  {
   "cell_type": "code",
   "execution_count": 51,
   "metadata": {},
   "outputs": [
    {
     "data": {
      "text/plain": [
       "DatetimeIndex(['1970-01-01 00:00:01.499720105',\n",
       "               '1970-01-01 00:00:01.349806505',\n",
       "               '1970-01-01 00:00:01.349892905',\n",
       "               '1970-01-01 00:00:01.349979305',\n",
       "               '1970-01-01 00:00:01.350065705'],\n",
       "              dtype='datetime64[ns]', freq=None)"
      ]
     },
     "execution_count": 51,
     "metadata": {},
     "output_type": "execute_result"
    }
   ],
   "source": [
    "pd.to_datetime([1499720105, 1349806505, 1349892905,\n",
    "                 1349979305, 1350065705], unit='ns')"
   ]
  },
  {
   "cell_type": "code",
   "execution_count": 54,
   "metadata": {},
   "outputs": [
    {
     "data": {
      "text/plain": [
       "Int64Index([1349720104, 1349806504, 1349892904, 1349979304], dtype='int64')"
      ]
     },
     "execution_count": 54,
     "metadata": {},
     "output_type": "execute_result"
    }
   ],
   "source": [
    "stamps = pd.date_range('2012-10-08 18:15:05', periods=4, freq='D')\n",
    "(stamps - pd.Timestamp(1970/1/1))//pd.Timedelta('1s')"
   ]
  },
  {
   "cell_type": "code",
   "execution_count": 59,
   "metadata": {},
   "outputs": [
    {
     "data": {
      "text/plain": [
       "DatetimeIndex(['1970-01-31', '1970-02-05', '1970-02-10'], dtype='datetime64[ns]', freq=None)"
      ]
     },
     "execution_count": 59,
     "metadata": {},
     "output_type": "execute_result"
    }
   ],
   "source": [
    "pd.to_datetime([30, 35, 40], unit='D')"
   ]
  },
  {
   "cell_type": "code",
   "execution_count": 60,
   "metadata": {},
   "outputs": [],
   "source": [
    "from datetime import datetime"
   ]
  },
  {
   "cell_type": "code",
   "execution_count": 62,
   "metadata": {},
   "outputs": [],
   "source": [
    "s = datetime(2018, 1, 1)\n",
    "e = datetime(2019,1,1)"
   ]
  },
  {
   "cell_type": "code",
   "execution_count": 64,
   "metadata": {},
   "outputs": [
    {
     "data": {
      "text/plain": [
       "262"
      ]
     },
     "execution_count": 64,
     "metadata": {},
     "output_type": "execute_result"
    }
   ],
   "source": [
    "len(pd.bdate_range(s,e))"
   ]
  },
  {
   "cell_type": "code",
   "execution_count": 69,
   "metadata": {},
   "outputs": [],
   "source": [
    "a = pd.bdate_range(s,periods=10,freq='W-TUE')"
   ]
  },
  {
   "cell_type": "code",
   "execution_count": 71,
   "metadata": {},
   "outputs": [
    {
     "data": {
      "text/plain": [
       "DatetimeIndex(['2018-01-02', '2018-01-09', '2018-01-16', '2018-01-23',\n",
       "               '2018-01-30', '2018-02-06', '2018-02-13', '2018-02-20',\n",
       "               '2018-02-27', '2018-03-06'],\n",
       "              dtype='datetime64[ns]', freq='W-TUE')"
      ]
     },
     "execution_count": 71,
     "metadata": {},
     "output_type": "execute_result"
    }
   ],
   "source": [
    "a"
   ]
  },
  {
   "cell_type": "code",
   "execution_count": 74,
   "metadata": {},
   "outputs": [],
   "source": [
    "s=pd.Series(np.random.randn(len(a)),index=a)"
   ]
  },
  {
   "cell_type": "code",
   "execution_count": 76,
   "metadata": {},
   "outputs": [
    {
     "data": {
      "text/plain": [
       "2018-01-02   -1.480679\n",
       "2018-01-09    0.406662\n",
       "2018-01-16    0.406202\n",
       "2018-01-23   -0.725753\n",
       "2018-01-30    0.791455\n",
       "Freq: W-TUE, dtype: float64"
      ]
     },
     "execution_count": 76,
     "metadata": {},
     "output_type": "execute_result"
    }
   ],
   "source": [
    "s['2018-01']"
   ]
  },
  {
   "cell_type": "code",
   "execution_count": 81,
   "metadata": {},
   "outputs": [
    {
     "data": {
      "text/plain": [
       "2018-01-02   -1.480679\n",
       "2018-01-09    0.406662\n",
       "2018-01-16    0.406202\n",
       "2018-01-23   -0.725753\n",
       "2018-01-30    0.791455\n",
       "Freq: W-TUE, dtype: float64"
      ]
     },
     "execution_count": 81,
     "metadata": {},
     "output_type": "execute_result"
    }
   ],
   "source": [
    "s['2018-01':'2018-01']"
   ]
  },
  {
   "cell_type": "code",
   "execution_count": 82,
   "metadata": {},
   "outputs": [],
   "source": [
    "dft2 = pd.DataFrame(np.random.randn(20, 1),\n",
    "                        columns=['A'],\n",
    "                        index=pd.MultiIndex.from_product([pd.date_range('20130101',\n",
    "                                                                        periods=10,\n",
    "                                                                        freq='12H'),\n",
    "                                                         ['a', 'b']]))"
   ]
  },
  {
   "cell_type": "code",
   "execution_count": 87,
   "metadata": {},
   "outputs": [
    {
     "data": {
      "text/html": [
       "<div>\n",
       "<style scoped>\n",
       "    .dataframe tbody tr th:only-of-type {\n",
       "        vertical-align: middle;\n",
       "    }\n",
       "\n",
       "    .dataframe tbody tr th {\n",
       "        vertical-align: top;\n",
       "    }\n",
       "\n",
       "    .dataframe thead th {\n",
       "        text-align: right;\n",
       "    }\n",
       "</style>\n",
       "<table border=\"1\" class=\"dataframe\">\n",
       "  <thead>\n",
       "    <tr style=\"text-align: right;\">\n",
       "      <th></th>\n",
       "      <th></th>\n",
       "      <th>A</th>\n",
       "    </tr>\n",
       "  </thead>\n",
       "  <tbody>\n",
       "    <tr>\n",
       "      <th rowspan=\"2\" valign=\"top\">2013-01-01 00:00:00</th>\n",
       "      <th>a</th>\n",
       "      <td>0.889763</td>\n",
       "    </tr>\n",
       "    <tr>\n",
       "      <th>b</th>\n",
       "      <td>-0.028306</td>\n",
       "    </tr>\n",
       "    <tr>\n",
       "      <th rowspan=\"2\" valign=\"top\">2013-01-01 12:00:00</th>\n",
       "      <th>a</th>\n",
       "      <td>0.549193</td>\n",
       "    </tr>\n",
       "    <tr>\n",
       "      <th>b</th>\n",
       "      <td>-0.736226</td>\n",
       "    </tr>\n",
       "    <tr>\n",
       "      <th rowspan=\"2\" valign=\"top\">2013-01-02 00:00:00</th>\n",
       "      <th>a</th>\n",
       "      <td>0.910082</td>\n",
       "    </tr>\n",
       "    <tr>\n",
       "      <th>b</th>\n",
       "      <td>-0.100308</td>\n",
       "    </tr>\n",
       "    <tr>\n",
       "      <th rowspan=\"2\" valign=\"top\">2013-01-02 12:00:00</th>\n",
       "      <th>a</th>\n",
       "      <td>1.852374</td>\n",
       "    </tr>\n",
       "    <tr>\n",
       "      <th>b</th>\n",
       "      <td>0.151423</td>\n",
       "    </tr>\n",
       "    <tr>\n",
       "      <th rowspan=\"2\" valign=\"top\">2013-01-03 00:00:00</th>\n",
       "      <th>a</th>\n",
       "      <td>0.312479</td>\n",
       "    </tr>\n",
       "    <tr>\n",
       "      <th>b</th>\n",
       "      <td>-1.863015</td>\n",
       "    </tr>\n",
       "    <tr>\n",
       "      <th rowspan=\"2\" valign=\"top\">2013-01-03 12:00:00</th>\n",
       "      <th>a</th>\n",
       "      <td>0.316897</td>\n",
       "    </tr>\n",
       "    <tr>\n",
       "      <th>b</th>\n",
       "      <td>1.136179</td>\n",
       "    </tr>\n",
       "    <tr>\n",
       "      <th rowspan=\"2\" valign=\"top\">2013-01-04 00:00:00</th>\n",
       "      <th>a</th>\n",
       "      <td>-0.077225</td>\n",
       "    </tr>\n",
       "    <tr>\n",
       "      <th>b</th>\n",
       "      <td>0.789618</td>\n",
       "    </tr>\n",
       "    <tr>\n",
       "      <th rowspan=\"2\" valign=\"top\">2013-01-04 12:00:00</th>\n",
       "      <th>a</th>\n",
       "      <td>-0.669661</td>\n",
       "    </tr>\n",
       "    <tr>\n",
       "      <th>b</th>\n",
       "      <td>2.333680</td>\n",
       "    </tr>\n",
       "    <tr>\n",
       "      <th rowspan=\"2\" valign=\"top\">2013-01-05 00:00:00</th>\n",
       "      <th>a</th>\n",
       "      <td>-1.358255</td>\n",
       "    </tr>\n",
       "    <tr>\n",
       "      <th>b</th>\n",
       "      <td>-1.156184</td>\n",
       "    </tr>\n",
       "    <tr>\n",
       "      <th rowspan=\"2\" valign=\"top\">2013-01-05 12:00:00</th>\n",
       "      <th>a</th>\n",
       "      <td>0.162898</td>\n",
       "    </tr>\n",
       "    <tr>\n",
       "      <th>b</th>\n",
       "      <td>2.730758</td>\n",
       "    </tr>\n",
       "  </tbody>\n",
       "</table>\n",
       "</div>"
      ],
      "text/plain": [
       "                              A\n",
       "2013-01-01 00:00:00 a  0.889763\n",
       "                    b -0.028306\n",
       "2013-01-01 12:00:00 a  0.549193\n",
       "                    b -0.736226\n",
       "2013-01-02 00:00:00 a  0.910082\n",
       "                    b -0.100308\n",
       "2013-01-02 12:00:00 a  1.852374\n",
       "                    b  0.151423\n",
       "2013-01-03 00:00:00 a  0.312479\n",
       "                    b -1.863015\n",
       "2013-01-03 12:00:00 a  0.316897\n",
       "                    b  1.136179\n",
       "2013-01-04 00:00:00 a -0.077225\n",
       "                    b  0.789618\n",
       "2013-01-04 12:00:00 a -0.669661\n",
       "                    b  2.333680\n",
       "2013-01-05 00:00:00 a -1.358255\n",
       "                    b -1.156184\n",
       "2013-01-05 12:00:00 a  0.162898\n",
       "                    b  2.730758"
      ]
     },
     "execution_count": 87,
     "metadata": {},
     "output_type": "execute_result"
    }
   ],
   "source": [
    "idx = pd.IndexSlice\n",
    "dft2\n"
   ]
  },
  {
   "cell_type": "code",
   "execution_count": 95,
   "metadata": {},
   "outputs": [
    {
     "data": {
      "text/html": [
       "<div>\n",
       "<style scoped>\n",
       "    .dataframe tbody tr th:only-of-type {\n",
       "        vertical-align: middle;\n",
       "    }\n",
       "\n",
       "    .dataframe tbody tr th {\n",
       "        vertical-align: top;\n",
       "    }\n",
       "\n",
       "    .dataframe thead th {\n",
       "        text-align: right;\n",
       "    }\n",
       "</style>\n",
       "<table border=\"1\" class=\"dataframe\">\n",
       "  <thead>\n",
       "    <tr style=\"text-align: right;\">\n",
       "      <th></th>\n",
       "      <th></th>\n",
       "      <th>A</th>\n",
       "    </tr>\n",
       "  </thead>\n",
       "  <tbody>\n",
       "    <tr>\n",
       "      <th>2013-01-01 00:00:00</th>\n",
       "      <th>a</th>\n",
       "      <td>0.889763</td>\n",
       "    </tr>\n",
       "    <tr>\n",
       "      <th>2013-01-01 12:00:00</th>\n",
       "      <th>a</th>\n",
       "      <td>0.549193</td>\n",
       "    </tr>\n",
       "    <tr>\n",
       "      <th>2013-01-02 00:00:00</th>\n",
       "      <th>a</th>\n",
       "      <td>0.910082</td>\n",
       "    </tr>\n",
       "    <tr>\n",
       "      <th>2013-01-02 12:00:00</th>\n",
       "      <th>a</th>\n",
       "      <td>1.852374</td>\n",
       "    </tr>\n",
       "    <tr>\n",
       "      <th>2013-01-03 00:00:00</th>\n",
       "      <th>a</th>\n",
       "      <td>0.312479</td>\n",
       "    </tr>\n",
       "    <tr>\n",
       "      <th>2013-01-03 12:00:00</th>\n",
       "      <th>a</th>\n",
       "      <td>0.316897</td>\n",
       "    </tr>\n",
       "    <tr>\n",
       "      <th>2013-01-04 00:00:00</th>\n",
       "      <th>a</th>\n",
       "      <td>-0.077225</td>\n",
       "    </tr>\n",
       "    <tr>\n",
       "      <th>2013-01-04 12:00:00</th>\n",
       "      <th>a</th>\n",
       "      <td>-0.669661</td>\n",
       "    </tr>\n",
       "    <tr>\n",
       "      <th>2013-01-05 00:00:00</th>\n",
       "      <th>a</th>\n",
       "      <td>-1.358255</td>\n",
       "    </tr>\n",
       "    <tr>\n",
       "      <th>2013-01-05 12:00:00</th>\n",
       "      <th>a</th>\n",
       "      <td>0.162898</td>\n",
       "    </tr>\n",
       "  </tbody>\n",
       "</table>\n",
       "</div>"
      ],
      "text/plain": [
       "                              A\n",
       "2013-01-01 00:00:00 a  0.889763\n",
       "2013-01-01 12:00:00 a  0.549193\n",
       "2013-01-02 00:00:00 a  0.910082\n",
       "2013-01-02 12:00:00 a  1.852374\n",
       "2013-01-03 00:00:00 a  0.312479\n",
       "2013-01-03 12:00:00 a  0.316897\n",
       "2013-01-04 00:00:00 a -0.077225\n",
       "2013-01-04 12:00:00 a -0.669661\n",
       "2013-01-05 00:00:00 a -1.358255\n",
       "2013-01-05 12:00:00 a  0.162898"
      ]
     },
     "execution_count": 95,
     "metadata": {},
     "output_type": "execute_result"
    }
   ],
   "source": [
    "dft2.loc[idx[:,'a'],['A']]"
   ]
  },
  {
   "cell_type": "code",
   "execution_count": 96,
   "metadata": {},
   "outputs": [],
   "source": [
    "series_monthly = pd.Series([1, 2, 3],\n",
    "                              pd.DatetimeIndex(['2011-12',\n",
    "                                                '2012-01',\n",
    "                                                '2012-02']))"
   ]
  },
  {
   "cell_type": "code",
   "execution_count": 97,
   "metadata": {},
   "outputs": [
    {
     "data": {
      "text/plain": [
       "'day'"
      ]
     },
     "execution_count": 97,
     "metadata": {},
     "output_type": "execute_result"
    }
   ],
   "source": [
    "series_monthly.index.resolution"
   ]
  },
  {
   "cell_type": "code",
   "execution_count": 100,
   "metadata": {},
   "outputs": [
    {
     "data": {
      "text/html": [
       "<div>\n",
       "<style scoped>\n",
       "    .dataframe tbody tr th:only-of-type {\n",
       "        vertical-align: middle;\n",
       "    }\n",
       "\n",
       "    .dataframe tbody tr th {\n",
       "        vertical-align: top;\n",
       "    }\n",
       "\n",
       "    .dataframe thead th {\n",
       "        text-align: right;\n",
       "    }\n",
       "</style>\n",
       "<table border=\"1\" class=\"dataframe\">\n",
       "  <thead>\n",
       "    <tr style=\"text-align: right;\">\n",
       "      <th></th>\n",
       "      <th></th>\n",
       "      <th>A</th>\n",
       "    </tr>\n",
       "  </thead>\n",
       "  <tbody>\n",
       "    <tr>\n",
       "      <th rowspan=\"2\" valign=\"top\">2013-01-01 00:00:00</th>\n",
       "      <th>a</th>\n",
       "      <td>0.549193</td>\n",
       "    </tr>\n",
       "    <tr>\n",
       "      <th>b</th>\n",
       "      <td>-0.736226</td>\n",
       "    </tr>\n",
       "    <tr>\n",
       "      <th rowspan=\"2\" valign=\"top\">2013-01-01 12:00:00</th>\n",
       "      <th>a</th>\n",
       "      <td>0.910082</td>\n",
       "    </tr>\n",
       "    <tr>\n",
       "      <th>b</th>\n",
       "      <td>-0.100308</td>\n",
       "    </tr>\n",
       "    <tr>\n",
       "      <th rowspan=\"2\" valign=\"top\">2013-01-02 00:00:00</th>\n",
       "      <th>a</th>\n",
       "      <td>1.852374</td>\n",
       "    </tr>\n",
       "    <tr>\n",
       "      <th>b</th>\n",
       "      <td>0.151423</td>\n",
       "    </tr>\n",
       "    <tr>\n",
       "      <th rowspan=\"2\" valign=\"top\">2013-01-02 12:00:00</th>\n",
       "      <th>a</th>\n",
       "      <td>0.312479</td>\n",
       "    </tr>\n",
       "    <tr>\n",
       "      <th>b</th>\n",
       "      <td>-1.863015</td>\n",
       "    </tr>\n",
       "    <tr>\n",
       "      <th rowspan=\"2\" valign=\"top\">2013-01-03 00:00:00</th>\n",
       "      <th>a</th>\n",
       "      <td>0.316897</td>\n",
       "    </tr>\n",
       "    <tr>\n",
       "      <th>b</th>\n",
       "      <td>1.136179</td>\n",
       "    </tr>\n",
       "    <tr>\n",
       "      <th rowspan=\"2\" valign=\"top\">2013-01-03 12:00:00</th>\n",
       "      <th>a</th>\n",
       "      <td>-0.077225</td>\n",
       "    </tr>\n",
       "    <tr>\n",
       "      <th>b</th>\n",
       "      <td>0.789618</td>\n",
       "    </tr>\n",
       "    <tr>\n",
       "      <th rowspan=\"2\" valign=\"top\">2013-01-04 00:00:00</th>\n",
       "      <th>a</th>\n",
       "      <td>-0.669661</td>\n",
       "    </tr>\n",
       "    <tr>\n",
       "      <th>b</th>\n",
       "      <td>2.333680</td>\n",
       "    </tr>\n",
       "    <tr>\n",
       "      <th rowspan=\"2\" valign=\"top\">2013-01-04 12:00:00</th>\n",
       "      <th>a</th>\n",
       "      <td>-1.358255</td>\n",
       "    </tr>\n",
       "    <tr>\n",
       "      <th>b</th>\n",
       "      <td>-1.156184</td>\n",
       "    </tr>\n",
       "    <tr>\n",
       "      <th rowspan=\"2\" valign=\"top\">2013-01-05 00:00:00</th>\n",
       "      <th>a</th>\n",
       "      <td>0.162898</td>\n",
       "    </tr>\n",
       "    <tr>\n",
       "      <th>b</th>\n",
       "      <td>2.730758</td>\n",
       "    </tr>\n",
       "    <tr>\n",
       "      <th rowspan=\"2\" valign=\"top\">2013-01-05 12:00:00</th>\n",
       "      <th>a</th>\n",
       "      <td>NaN</td>\n",
       "    </tr>\n",
       "    <tr>\n",
       "      <th>b</th>\n",
       "      <td>NaN</td>\n",
       "    </tr>\n",
       "  </tbody>\n",
       "</table>\n",
       "</div>"
      ],
      "text/plain": [
       "                              A\n",
       "2013-01-01 00:00:00 a  0.549193\n",
       "                    b -0.736226\n",
       "2013-01-01 12:00:00 a  0.910082\n",
       "                    b -0.100308\n",
       "2013-01-02 00:00:00 a  1.852374\n",
       "                    b  0.151423\n",
       "2013-01-02 12:00:00 a  0.312479\n",
       "                    b -1.863015\n",
       "2013-01-03 00:00:00 a  0.316897\n",
       "                    b  1.136179\n",
       "2013-01-03 12:00:00 a -0.077225\n",
       "                    b  0.789618\n",
       "2013-01-04 00:00:00 a -0.669661\n",
       "                    b  2.333680\n",
       "2013-01-04 12:00:00 a -1.358255\n",
       "                    b -1.156184\n",
       "2013-01-05 00:00:00 a  0.162898\n",
       "                    b  2.730758\n",
       "2013-01-05 12:00:00 a       NaN\n",
       "                    b       NaN"
      ]
     },
     "execution_count": 100,
     "metadata": {},
     "output_type": "execute_result"
    }
   ],
   "source": [
    "dft2.shift(-2)"
   ]
  },
  {
   "cell_type": "code",
   "execution_count": 99,
   "metadata": {},
   "outputs": [
    {
     "data": {
      "text/html": [
       "<div>\n",
       "<style scoped>\n",
       "    .dataframe tbody tr th:only-of-type {\n",
       "        vertical-align: middle;\n",
       "    }\n",
       "\n",
       "    .dataframe tbody tr th {\n",
       "        vertical-align: top;\n",
       "    }\n",
       "\n",
       "    .dataframe thead th {\n",
       "        text-align: right;\n",
       "    }\n",
       "</style>\n",
       "<table border=\"1\" class=\"dataframe\">\n",
       "  <thead>\n",
       "    <tr style=\"text-align: right;\">\n",
       "      <th></th>\n",
       "      <th></th>\n",
       "      <th>A</th>\n",
       "    </tr>\n",
       "  </thead>\n",
       "  <tbody>\n",
       "    <tr>\n",
       "      <th rowspan=\"2\" valign=\"top\">2013-01-01 00:00:00</th>\n",
       "      <th>a</th>\n",
       "      <td>0.889763</td>\n",
       "    </tr>\n",
       "    <tr>\n",
       "      <th>b</th>\n",
       "      <td>-0.028306</td>\n",
       "    </tr>\n",
       "    <tr>\n",
       "      <th rowspan=\"2\" valign=\"top\">2013-01-01 12:00:00</th>\n",
       "      <th>a</th>\n",
       "      <td>0.549193</td>\n",
       "    </tr>\n",
       "    <tr>\n",
       "      <th>b</th>\n",
       "      <td>-0.736226</td>\n",
       "    </tr>\n",
       "    <tr>\n",
       "      <th rowspan=\"2\" valign=\"top\">2013-01-02 00:00:00</th>\n",
       "      <th>a</th>\n",
       "      <td>0.910082</td>\n",
       "    </tr>\n",
       "    <tr>\n",
       "      <th>b</th>\n",
       "      <td>-0.100308</td>\n",
       "    </tr>\n",
       "    <tr>\n",
       "      <th rowspan=\"2\" valign=\"top\">2013-01-02 12:00:00</th>\n",
       "      <th>a</th>\n",
       "      <td>1.852374</td>\n",
       "    </tr>\n",
       "    <tr>\n",
       "      <th>b</th>\n",
       "      <td>0.151423</td>\n",
       "    </tr>\n",
       "    <tr>\n",
       "      <th rowspan=\"2\" valign=\"top\">2013-01-03 00:00:00</th>\n",
       "      <th>a</th>\n",
       "      <td>0.312479</td>\n",
       "    </tr>\n",
       "    <tr>\n",
       "      <th>b</th>\n",
       "      <td>-1.863015</td>\n",
       "    </tr>\n",
       "    <tr>\n",
       "      <th rowspan=\"2\" valign=\"top\">2013-01-03 12:00:00</th>\n",
       "      <th>a</th>\n",
       "      <td>0.316897</td>\n",
       "    </tr>\n",
       "    <tr>\n",
       "      <th>b</th>\n",
       "      <td>1.136179</td>\n",
       "    </tr>\n",
       "    <tr>\n",
       "      <th rowspan=\"2\" valign=\"top\">2013-01-04 00:00:00</th>\n",
       "      <th>a</th>\n",
       "      <td>-0.077225</td>\n",
       "    </tr>\n",
       "    <tr>\n",
       "      <th>b</th>\n",
       "      <td>0.789618</td>\n",
       "    </tr>\n",
       "    <tr>\n",
       "      <th rowspan=\"2\" valign=\"top\">2013-01-04 12:00:00</th>\n",
       "      <th>a</th>\n",
       "      <td>-0.669661</td>\n",
       "    </tr>\n",
       "    <tr>\n",
       "      <th>b</th>\n",
       "      <td>2.333680</td>\n",
       "    </tr>\n",
       "    <tr>\n",
       "      <th rowspan=\"2\" valign=\"top\">2013-01-05 00:00:00</th>\n",
       "      <th>a</th>\n",
       "      <td>-1.358255</td>\n",
       "    </tr>\n",
       "    <tr>\n",
       "      <th>b</th>\n",
       "      <td>-1.156184</td>\n",
       "    </tr>\n",
       "    <tr>\n",
       "      <th rowspan=\"2\" valign=\"top\">2013-01-05 12:00:00</th>\n",
       "      <th>a</th>\n",
       "      <td>0.162898</td>\n",
       "    </tr>\n",
       "    <tr>\n",
       "      <th>b</th>\n",
       "      <td>2.730758</td>\n",
       "    </tr>\n",
       "  </tbody>\n",
       "</table>\n",
       "</div>"
      ],
      "text/plain": [
       "                              A\n",
       "2013-01-01 00:00:00 a  0.889763\n",
       "                    b -0.028306\n",
       "2013-01-01 12:00:00 a  0.549193\n",
       "                    b -0.736226\n",
       "2013-01-02 00:00:00 a  0.910082\n",
       "                    b -0.100308\n",
       "2013-01-02 12:00:00 a  1.852374\n",
       "                    b  0.151423\n",
       "2013-01-03 00:00:00 a  0.312479\n",
       "                    b -1.863015\n",
       "2013-01-03 12:00:00 a  0.316897\n",
       "                    b  1.136179\n",
       "2013-01-04 00:00:00 a -0.077225\n",
       "                    b  0.789618\n",
       "2013-01-04 12:00:00 a -0.669661\n",
       "                    b  2.333680\n",
       "2013-01-05 00:00:00 a -1.358255\n",
       "                    b -1.156184\n",
       "2013-01-05 12:00:00 a  0.162898\n",
       "                    b  2.730758"
      ]
     },
     "execution_count": 99,
     "metadata": {},
     "output_type": "execute_result"
    }
   ],
   "source": [
    "dft2"
   ]
  },
  {
   "cell_type": "code",
   "execution_count": 101,
   "metadata": {},
   "outputs": [],
   "source": [
    "a = [2,5,1,6]\n",
    "b = [2,6,2,5]\n",
    "price = pd.DataFrame({'A':a,'B':b})"
   ]
  },
  {
   "cell_type": "code",
   "execution_count": 102,
   "metadata": {},
   "outputs": [],
   "source": [
    "c = [100,240,120,10]\n",
    "d = [340,220,500,10]\n",
    "volumn = pd.DataFrame({'A':c,'B':d})"
   ]
  },
  {
   "cell_type": "code",
   "execution_count": 103,
   "metadata": {},
   "outputs": [
    {
     "data": {
      "text/html": [
       "<div>\n",
       "<style scoped>\n",
       "    .dataframe tbody tr th:only-of-type {\n",
       "        vertical-align: middle;\n",
       "    }\n",
       "\n",
       "    .dataframe tbody tr th {\n",
       "        vertical-align: top;\n",
       "    }\n",
       "\n",
       "    .dataframe thead th {\n",
       "        text-align: right;\n",
       "    }\n",
       "</style>\n",
       "<table border=\"1\" class=\"dataframe\">\n",
       "  <thead>\n",
       "    <tr style=\"text-align: right;\">\n",
       "      <th></th>\n",
       "      <th>A</th>\n",
       "      <th>B</th>\n",
       "    </tr>\n",
       "  </thead>\n",
       "  <tbody>\n",
       "    <tr>\n",
       "      <th>0</th>\n",
       "      <td>0.126582</td>\n",
       "      <td>0.222951</td>\n",
       "    </tr>\n",
       "    <tr>\n",
       "      <th>1</th>\n",
       "      <td>0.759494</td>\n",
       "      <td>0.432787</td>\n",
       "    </tr>\n",
       "    <tr>\n",
       "      <th>2</th>\n",
       "      <td>0.075949</td>\n",
       "      <td>0.327869</td>\n",
       "    </tr>\n",
       "    <tr>\n",
       "      <th>3</th>\n",
       "      <td>0.037975</td>\n",
       "      <td>0.016393</td>\n",
       "    </tr>\n",
       "  </tbody>\n",
       "</table>\n",
       "</div>"
      ],
      "text/plain": [
       "          A         B\n",
       "0  0.126582  0.222951\n",
       "1  0.759494  0.432787\n",
       "2  0.075949  0.327869\n",
       "3  0.037975  0.016393"
      ]
     },
     "execution_count": 103,
     "metadata": {},
     "output_type": "execute_result"
    }
   ],
   "source": [
    "price*volumn/(price*volumn).sum()"
   ]
  },
  {
   "cell_type": "code",
   "execution_count": 110,
   "metadata": {},
   "outputs": [],
   "source": [
    "i = [[0,0,0],\n",
    "    [1.59904743, 1.66397210, 1.67345829],\n",
    "                [-0.37065629, -0.36541822, -0.36015840],\n",
    "                [-0.41055669, 0.60004777, 0.00536958]]"
   ]
  },
  {
   "cell_type": "code",
   "execution_count": 111,
   "metadata": {},
   "outputs": [
    {
     "data": {
      "text/plain": [
       "array([[ 0.89856076,  0.7205586 ,  0.8458721 ],\n",
       "       [ 0.7205586 ,  0.78707297,  0.76450378],\n",
       "       [ 0.8458721 ,  0.76450378,  0.83182775]])"
      ]
     },
     "execution_count": 111,
     "metadata": {},
     "output_type": "execute_result"
    }
   ],
   "source": [
    "i = np.array(i).T\n",
    "np.cov(i)"
   ]
  },
  {
   "cell_type": "code",
   "execution_count": 112,
   "metadata": {},
   "outputs": [
    {
     "data": {
      "text/plain": [
       "array([[ 0.        ,  1.59904743, -0.37065629, -0.41055669],\n",
       "       [ 0.        ,  1.6639721 , -0.36541822,  0.60004777],\n",
       "       [ 0.        ,  1.67345829, -0.3601584 ,  0.00536958]])"
      ]
     },
     "execution_count": 112,
     "metadata": {},
     "output_type": "execute_result"
    }
   ],
   "source": [
    "i"
   ]
  },
  {
   "cell_type": "code",
   "execution_count": 113,
   "metadata": {},
   "outputs": [
    {
     "data": {
      "text/plain": [
       "6"
      ]
     },
     "execution_count": 113,
     "metadata": {},
     "output_type": "execute_result"
    }
   ],
   "source": [
    "np.array([1,2,3]).sum()"
   ]
  },
  {
   "cell_type": "code",
   "execution_count": 114,
   "metadata": {},
   "outputs": [],
   "source": [
    "rng2 = pd.date_range('2011-01-01', '2012-01-01', freq='W')"
   ]
  },
  {
   "cell_type": "code",
   "execution_count": 115,
   "metadata": {},
   "outputs": [
    {
     "data": {
      "text/plain": [
       "DatetimeIndex(['2011-01-02', '2011-01-09', '2011-01-16', '2011-01-23',\n",
       "               '2011-01-30', '2011-02-06', '2011-02-13', '2011-02-20',\n",
       "               '2011-02-27', '2011-03-06', '2011-03-13', '2011-03-20',\n",
       "               '2011-03-27', '2011-04-03', '2011-04-10', '2011-04-17',\n",
       "               '2011-04-24', '2011-05-01', '2011-05-08', '2011-05-15',\n",
       "               '2011-05-22', '2011-05-29', '2011-06-05', '2011-06-12',\n",
       "               '2011-06-19', '2011-06-26', '2011-07-03', '2011-07-10',\n",
       "               '2011-07-17', '2011-07-24', '2011-07-31', '2011-08-07',\n",
       "               '2011-08-14', '2011-08-21', '2011-08-28', '2011-09-04',\n",
       "               '2011-09-11', '2011-09-18', '2011-09-25', '2011-10-02',\n",
       "               '2011-10-09', '2011-10-16', '2011-10-23', '2011-10-30',\n",
       "               '2011-11-06', '2011-11-13', '2011-11-20', '2011-11-27',\n",
       "               '2011-12-04', '2011-12-11', '2011-12-18', '2011-12-25',\n",
       "               '2012-01-01'],\n",
       "              dtype='datetime64[ns]', freq='W-SUN')"
      ]
     },
     "execution_count": 115,
     "metadata": {},
     "output_type": "execute_result"
    }
   ],
   "source": [
    "rng2"
   ]
  },
  {
   "cell_type": "code",
   "execution_count": 116,
   "metadata": {},
   "outputs": [],
   "source": [
    "ts2 = pd.Series(np.random.randn(len(rng2)), index=rng2)"
   ]
  },
  {
   "cell_type": "code",
   "execution_count": 118,
   "metadata": {},
   "outputs": [
    {
     "data": {
      "text/plain": [
       "2011-01-02    0.834991\n",
       "2011-01-09   -0.008855\n",
       "2011-01-16   -2.411106\n",
       "2011-01-23    0.646615\n",
       "2011-01-30    2.508635\n",
       "Freq: W-SUN, dtype: float64"
      ]
     },
     "execution_count": 118,
     "metadata": {},
     "output_type": "execute_result"
    }
   ],
   "source": [
    "ts2.truncate(before='2011-01',after='2011-02')"
   ]
  },
  {
   "cell_type": "code",
   "execution_count": 119,
   "metadata": {},
   "outputs": [
    {
     "data": {
      "text/plain": [
       "2011-01-02    0.834991\n",
       "2011-01-09   -0.008855\n",
       "2011-01-16   -2.411106\n",
       "2011-01-23    0.646615\n",
       "2011-01-30    2.508635\n",
       "Freq: W-SUN, dtype: float64"
      ]
     },
     "execution_count": 119,
     "metadata": {},
     "output_type": "execute_result"
    }
   ],
   "source": [
    "ts2['2011-01':'2011-01']"
   ]
  },
  {
   "cell_type": "code",
   "execution_count": 125,
   "metadata": {},
   "outputs": [
    {
     "data": {
      "text/plain": [
       "'Sunday'"
      ]
     },
     "execution_count": 125,
     "metadata": {},
     "output_type": "execute_result"
    }
   ],
   "source": [
    "pd.Timestamp('2018-9-30').weekday_name"
   ]
  },
  {
   "cell_type": "code",
   "execution_count": 126,
   "metadata": {},
   "outputs": [
    {
     "ename": "AttributeError",
     "evalue": "'Timestamp' object has no attribute 'dt'",
     "output_type": "error",
     "traceback": [
      "\u001b[0;31m---------------------------------------------------------------------------\u001b[0m",
      "\u001b[0;31mAttributeError\u001b[0m                            Traceback (most recent call last)",
      "\u001b[0;32m<ipython-input-126-65799fc62f2d>\u001b[0m in \u001b[0;36m<module>\u001b[0;34m()\u001b[0m\n\u001b[0;32m----> 1\u001b[0;31m \u001b[0mpd\u001b[0m\u001b[0;34m.\u001b[0m\u001b[0mTimestamp\u001b[0m\u001b[0;34m(\u001b[0m\u001b[0;34m'2018-9-30'\u001b[0m\u001b[0;34m)\u001b[0m\u001b[0;34m.\u001b[0m\u001b[0mdt\u001b[0m\u001b[0;34m\u001b[0m\u001b[0m\n\u001b[0m",
      "\u001b[0;31mAttributeError\u001b[0m: 'Timestamp' object has no attribute 'dt'"
     ]
    }
   ],
   "source": [
    "pd.Timestamp('2018-9-30').dt"
   ]
  },
  {
   "cell_type": "code",
   "execution_count": 127,
   "metadata": {},
   "outputs": [],
   "source": [
    "d = datetime(2008, 8, 18, 9, 0)"
   ]
  },
  {
   "cell_type": "code",
   "execution_count": 131,
   "metadata": {},
   "outputs": [
    {
     "data": {
      "text/plain": [
       "datetime.datetime(2008, 4, 5, 9, 0)"
      ]
     },
     "execution_count": 131,
     "metadata": {},
     "output_type": "execute_result"
    }
   ],
   "source": [
    "from dateutil.relativedelta import relativedelta\n",
    "d+relativedelta(month=4,day=5)"
   ]
  },
  {
   "cell_type": "code",
   "execution_count": 132,
   "metadata": {},
   "outputs": [],
   "source": [
    "from pandas.tseries.offsets import *"
   ]
  },
  {
   "cell_type": "code",
   "execution_count": 133,
   "metadata": {},
   "outputs": [
    {
     "data": {
      "text/plain": [
       "Timestamp('2008-04-05 09:00:00')"
      ]
     },
     "execution_count": 133,
     "metadata": {},
     "output_type": "execute_result"
    }
   ],
   "source": [
    "d+DateOffset(month=4,day=5)"
   ]
  },
  {
   "cell_type": "code",
   "execution_count": 135,
   "metadata": {},
   "outputs": [
    {
     "data": {
      "text/plain": [
       "Timestamp('2018-08-31 00:00:00')"
      ]
     },
     "execution_count": 135,
     "metadata": {},
     "output_type": "execute_result"
    }
   ],
   "source": [
    "BMonthEnd().rollforward(datetime(2018,8,12))"
   ]
  },
  {
   "cell_type": "code",
   "execution_count": 136,
   "metadata": {},
   "outputs": [
    {
     "data": {
      "text/plain": [
       "Timestamp('2018-08-13 00:00:00')"
      ]
     },
     "execution_count": 136,
     "metadata": {},
     "output_type": "execute_result"
    }
   ],
   "source": [
    "day = Day()\n",
    "day.apply(datetime(2018,8,12))"
   ]
  },
  {
   "cell_type": "code",
   "execution_count": 138,
   "metadata": {},
   "outputs": [],
   "source": [
    "d = datetime(2018,8,12,9,00)"
   ]
  },
  {
   "cell_type": "code",
   "execution_count": 140,
   "metadata": {},
   "outputs": [
    {
     "data": {
      "text/plain": [
       "Timestamp('2018-08-05 09:00:00')"
      ]
     },
     "execution_count": 140,
     "metadata": {},
     "output_type": "execute_result"
    }
   ],
   "source": [
    "d-Week()"
   ]
  },
  {
   "cell_type": "code",
   "execution_count": 141,
   "metadata": {},
   "outputs": [
    {
     "data": {
      "text/plain": [
       "Timestamp('2018-08-05 00:00:00')"
      ]
     },
     "execution_count": 141,
     "metadata": {},
     "output_type": "execute_result"
    }
   ],
   "source": [
    "d-Week(normalize=True)"
   ]
  },
  {
   "cell_type": "code",
   "execution_count": 149,
   "metadata": {},
   "outputs": [
    {
     "data": {
      "text/plain": [
       "DatetimeIndex(['2011-01-02 00:02:00', '2011-01-09 00:02:00',\n",
       "               '2011-01-16 00:02:00', '2011-01-23 00:02:00',\n",
       "               '2011-01-30 00:02:00', '2011-02-06 00:02:00',\n",
       "               '2011-02-13 00:02:00', '2011-02-20 00:02:00',\n",
       "               '2011-02-27 00:02:00', '2011-03-06 00:02:00',\n",
       "               '2011-03-13 00:02:00', '2011-03-20 00:02:00',\n",
       "               '2011-03-27 00:02:00', '2011-04-03 00:02:00',\n",
       "               '2011-04-10 00:02:00', '2011-04-17 00:02:00',\n",
       "               '2011-04-24 00:02:00', '2011-05-01 00:02:00',\n",
       "               '2011-05-08 00:02:00', '2011-05-15 00:02:00',\n",
       "               '2011-05-22 00:02:00', '2011-05-29 00:02:00',\n",
       "               '2011-06-05 00:02:00', '2011-06-12 00:02:00',\n",
       "               '2011-06-19 00:02:00', '2011-06-26 00:02:00',\n",
       "               '2011-07-03 00:02:00', '2011-07-10 00:02:00',\n",
       "               '2011-07-17 00:02:00', '2011-07-24 00:02:00',\n",
       "               '2011-07-31 00:02:00', '2011-08-07 00:02:00',\n",
       "               '2011-08-14 00:02:00', '2011-08-21 00:02:00',\n",
       "               '2011-08-28 00:02:00', '2011-09-04 00:02:00',\n",
       "               '2011-09-11 00:02:00', '2011-09-18 00:02:00',\n",
       "               '2011-09-25 00:02:00', '2011-10-02 00:02:00',\n",
       "               '2011-10-09 00:02:00', '2011-10-16 00:02:00',\n",
       "               '2011-10-23 00:02:00', '2011-10-30 00:02:00',\n",
       "               '2011-11-06 00:02:00', '2011-11-13 00:02:00',\n",
       "               '2011-11-20 00:02:00', '2011-11-27 00:02:00',\n",
       "               '2011-12-04 00:02:00', '2011-12-11 00:02:00',\n",
       "               '2011-12-18 00:02:00', '2011-12-25 00:02:00',\n",
       "               '2012-01-01 00:02:00'],\n",
       "              dtype='datetime64[ns]', freq='W-SUN')"
      ]
     },
     "execution_count": 149,
     "metadata": {},
     "output_type": "execute_result"
    }
   ],
   "source": [
    "rng2 + Minute(2)"
   ]
  },
  {
   "cell_type": "code",
   "execution_count": 147,
   "metadata": {},
   "outputs": [
    {
     "data": {
      "text/plain": [
       "DatetimeIndex(['2010-12-31', '2011-01-07', '2011-01-14', '2011-01-21',\n",
       "               '2011-01-28', '2011-02-04', '2011-02-11', '2011-02-18',\n",
       "               '2011-02-25', '2011-03-04', '2011-03-11', '2011-03-18',\n",
       "               '2011-03-25', '2011-04-01', '2011-04-08', '2011-04-15',\n",
       "               '2011-04-22', '2011-04-29', '2011-05-06', '2011-05-13',\n",
       "               '2011-05-20', '2011-05-27', '2011-06-03', '2011-06-10',\n",
       "               '2011-06-17', '2011-06-24', '2011-07-01', '2011-07-08',\n",
       "               '2011-07-15', '2011-07-22', '2011-07-29', '2011-08-05',\n",
       "               '2011-08-12', '2011-08-19', '2011-08-26', '2011-09-02',\n",
       "               '2011-09-09', '2011-09-16', '2011-09-23', '2011-09-30',\n",
       "               '2011-10-07', '2011-10-14', '2011-10-21', '2011-10-28',\n",
       "               '2011-11-04', '2011-11-11', '2011-11-18', '2011-11-25',\n",
       "               '2011-12-02', '2011-12-09', '2011-12-16', '2011-12-23',\n",
       "               '2011-12-30'],\n",
       "              dtype='datetime64[ns]', freq='W-FRI')"
      ]
     },
     "execution_count": 147,
     "metadata": {},
     "output_type": "execute_result"
    }
   ],
   "source": [
    "rng2-Day(2)"
   ]
  },
  {
   "cell_type": "code",
   "execution_count": 150,
   "metadata": {},
   "outputs": [],
   "source": [
    "weekmask_egypt = 'Sun Mon Tue Wed Thu'\n",
    "holidays = ['2012-05-01', datetime(2013, 5, 1), np.datetime64('2014-05-01')]\n",
    "bday_egypt = CustomBusinessDay(holidays=holidays, weekmask=weekmask_egypt)"
   ]
  },
  {
   "cell_type": "code",
   "execution_count": 151,
   "metadata": {},
   "outputs": [
    {
     "data": {
      "text/plain": [
       "Timestamp('2013-05-05 00:00:00')"
      ]
     },
     "execution_count": 151,
     "metadata": {},
     "output_type": "execute_result"
    }
   ],
   "source": [
    "dt = datetime(2013, 4, 30)\n",
    "dt+2*bday_egypt"
   ]
  },
  {
   "cell_type": "code",
   "execution_count": 152,
   "metadata": {},
   "outputs": [],
   "source": [
    "dts = pd.date_range('2013-04-29','2013-06-20',freq=bday_egypt)"
   ]
  },
  {
   "cell_type": "code",
   "execution_count": 153,
   "metadata": {},
   "outputs": [
    {
     "data": {
      "text/plain": [
       "DatetimeIndex(['2013-04-29', '2013-04-30', '2013-05-02', '2013-05-05',\n",
       "               '2013-05-06', '2013-05-07', '2013-05-08', '2013-05-09',\n",
       "               '2013-05-12', '2013-05-13', '2013-05-14', '2013-05-15',\n",
       "               '2013-05-16', '2013-05-19', '2013-05-20', '2013-05-21',\n",
       "               '2013-05-22', '2013-05-23', '2013-05-26', '2013-05-27',\n",
       "               '2013-05-28', '2013-05-29', '2013-05-30', '2013-06-02',\n",
       "               '2013-06-03', '2013-06-04', '2013-06-05', '2013-06-06',\n",
       "               '2013-06-09', '2013-06-10', '2013-06-11', '2013-06-12',\n",
       "               '2013-06-13', '2013-06-16', '2013-06-17', '2013-06-18',\n",
       "               '2013-06-19', '2013-06-20'],\n",
       "              dtype='datetime64[ns]', freq='C')"
      ]
     },
     "execution_count": 153,
     "metadata": {},
     "output_type": "execute_result"
    }
   ],
   "source": [
    "dts"
   ]
  },
  {
   "cell_type": "code",
   "execution_count": 156,
   "metadata": {},
   "outputs": [
    {
     "data": {
      "text/plain": [
       "2013-04-29    Mon\n",
       "2013-04-30    Tue\n",
       "2013-05-02    Thu\n",
       "2013-05-05    Sun\n",
       "2013-05-06    Mon\n",
       "2013-05-07    Tue\n",
       "2013-05-08    Wed\n",
       "2013-05-09    Thu\n",
       "2013-05-12    Sun\n",
       "2013-05-13    Mon\n",
       "2013-05-14    Tue\n",
       "2013-05-15    Wed\n",
       "2013-05-16    Thu\n",
       "2013-05-19    Sun\n",
       "2013-05-20    Mon\n",
       "2013-05-21    Tue\n",
       "2013-05-22    Wed\n",
       "2013-05-23    Thu\n",
       "2013-05-26    Sun\n",
       "2013-05-27    Mon\n",
       "2013-05-28    Tue\n",
       "2013-05-29    Wed\n",
       "2013-05-30    Thu\n",
       "2013-06-02    Sun\n",
       "2013-06-03    Mon\n",
       "2013-06-04    Tue\n",
       "2013-06-05    Wed\n",
       "2013-06-06    Thu\n",
       "2013-06-09    Sun\n",
       "2013-06-10    Mon\n",
       "2013-06-11    Tue\n",
       "2013-06-12    Wed\n",
       "2013-06-13    Thu\n",
       "2013-06-16    Sun\n",
       "2013-06-17    Mon\n",
       "2013-06-18    Tue\n",
       "2013-06-19    Wed\n",
       "2013-06-20    Thu\n",
       "Freq: C, dtype: object"
      ]
     },
     "execution_count": 156,
     "metadata": {},
     "output_type": "execute_result"
    }
   ],
   "source": [
    "pd.Series(dts.weekday, dts).map(pd.Series('Mon Tue Wed Thu Fri Sat Sun'.split()))"
   ]
  },
  {
   "cell_type": "code",
   "execution_count": 158,
   "metadata": {},
   "outputs": [
    {
     "data": {
      "text/plain": [
       "'Mon'"
      ]
     },
     "execution_count": 158,
     "metadata": {},
     "output_type": "execute_result"
    }
   ],
   "source": [
    "pd.Series('Mon Tue Wed Thu Fri Sat Sun'.split())[0]"
   ]
  },
  {
   "cell_type": "code",
   "execution_count": 159,
   "metadata": {},
   "outputs": [],
   "source": [
    "from pandas.tseries.holiday import USFederalHolidayCalendar"
   ]
  },
  {
   "cell_type": "code",
   "execution_count": 160,
   "metadata": {},
   "outputs": [],
   "source": [
    "bday_us = CustomBusinessDay(calendar=USFederalHolidayCalendar())"
   ]
  },
  {
   "cell_type": "code",
   "execution_count": 163,
   "metadata": {},
   "outputs": [
    {
     "data": {
      "text/plain": [
       "pandas.tseries.holiday.USFederalHolidayCalendar"
      ]
     },
     "execution_count": 163,
     "metadata": {},
     "output_type": "execute_result"
    }
   ],
   "source": [
    "type(USFederalHolidayCalendar())\n",
    "    "
   ]
  },
  {
   "cell_type": "code",
   "execution_count": 164,
   "metadata": {},
   "outputs": [],
   "source": [
    "bh = BusinessHour()"
   ]
  },
  {
   "cell_type": "code",
   "execution_count": 165,
   "metadata": {},
   "outputs": [
    {
     "data": {
      "text/plain": [
       "Timestamp('2014-08-04 10:00:00')"
      ]
     },
     "execution_count": 165,
     "metadata": {},
     "output_type": "execute_result"
    }
   ],
   "source": [
    "pd.Timestamp('2014-08-01 17:00') + bh"
   ]
  },
  {
   "cell_type": "code",
   "execution_count": 166,
   "metadata": {},
   "outputs": [
    {
     "name": "stdout",
     "output_type": "stream",
     "text": [
      "From Init\n"
     ]
    }
   ],
   "source": [
    "class A():\n",
    "    def __init__(self,a):\n",
    "        self.a = a\n",
    "        print('From Init')\n",
    "    def __call__(tu,tut):\n",
    "        print('From call')\n",
    "a = A(12)"
   ]
  },
  {
   "cell_type": "code",
   "execution_count": 169,
   "metadata": {},
   "outputs": [
    {
     "name": "stdout",
     "output_type": "stream",
     "text": [
      "From call\n"
     ]
    }
   ],
   "source": [
    "a(12)"
   ]
  },
  {
   "cell_type": "code",
   "execution_count": 174,
   "metadata": {},
   "outputs": [
    {
     "data": {
      "text/plain": [
       "DatetimeIndex(['2012-02-01', '2012-02-02', '2012-02-03', '2012-02-06',\n",
       "               '2012-02-07'],\n",
       "              dtype='datetime64[ns]', freq='B')"
      ]
     },
     "execution_count": 174,
     "metadata": {},
     "output_type": "execute_result"
    }
   ],
   "source": [
    "pd.date_range(\"2012-2-1\", periods=5, freq=BDay())\n"
   ]
  },
  {
   "cell_type": "code",
   "execution_count": 181,
   "metadata": {},
   "outputs": [
    {
     "data": {
      "text/plain": [
       "DatetimeIndex(['2012-02-01 00:00:00', '2012-02-01 00:00:01',\n",
       "               '2012-02-01 00:00:02', '2012-02-01 00:00:03',\n",
       "               '2012-02-01 00:00:04'],\n",
       "              dtype='datetime64[ns]', freq='S')"
      ]
     },
     "execution_count": 181,
     "metadata": {},
     "output_type": "execute_result"
    }
   ],
   "source": [
    "pd.date_range(\"2012-2-1\", periods=5, freq='1s')"
   ]
  },
  {
   "cell_type": "code",
   "execution_count": 186,
   "metadata": {},
   "outputs": [
    {
     "data": {
      "text/plain": [
       "Timestamp('2014-01-31 00:00:00')"
      ]
     },
     "execution_count": 186,
     "metadata": {},
     "output_type": "execute_result"
    }
   ],
   "source": [
    "pd.Timestamp('2014-01-02') + MonthEnd(n=1)"
   ]
  },
  {
   "cell_type": "code",
   "execution_count": 187,
   "metadata": {},
   "outputs": [
    {
     "data": {
      "text/plain": [
       "2012-01   -0.149089\n",
       "2012-02    0.641716\n",
       "2012-03    0.003394\n",
       "Freq: M, dtype: float64"
      ]
     },
     "execution_count": 187,
     "metadata": {},
     "output_type": "execute_result"
    }
   ],
   "source": [
    "ts"
   ]
  },
  {
   "cell_type": "code",
   "execution_count": 194,
   "metadata": {},
   "outputs": [
    {
     "data": {
      "text/plain": [
       "2012-02   -0.149089\n",
       "2012-03    0.641716\n",
       "2012-04    0.003394\n",
       "Freq: M, dtype: float64"
      ]
     },
     "execution_count": 194,
     "metadata": {},
     "output_type": "execute_result"
    }
   ],
   "source": [
    "ts.shift(1,freq='M')"
   ]
  },
  {
   "cell_type": "code",
   "execution_count": 192,
   "metadata": {},
   "outputs": [
    {
     "data": {
      "text/plain": [
       "2012-01   -0.149089\n",
       "2012-02    0.641716\n",
       "2012-03    0.003394\n",
       "Freq: M, dtype: float64"
      ]
     },
     "execution_count": 192,
     "metadata": {},
     "output_type": "execute_result"
    }
   ],
   "source": [
    "ts"
   ]
  },
  {
   "cell_type": "code",
   "execution_count": 203,
   "metadata": {},
   "outputs": [],
   "source": [
    "dr = pd.date_range('1/1/2010', periods=30, freq='D')"
   ]
  },
  {
   "cell_type": "code",
   "execution_count": 205,
   "metadata": {},
   "outputs": [],
   "source": [
    "ts = pd.Series(np.random.randn(30), index=dr)"
   ]
  },
  {
   "cell_type": "code",
   "execution_count": 206,
   "metadata": {},
   "outputs": [
    {
     "data": {
      "text/plain": [
       "2010-01-01   -0.274727\n",
       "2010-01-02    0.796968\n",
       "2010-01-03   -0.610162\n",
       "2010-01-04    1.592418\n",
       "2010-01-05    0.739320\n",
       "2010-01-06   -1.114382\n",
       "2010-01-07   -0.278158\n",
       "2010-01-08    1.298397\n",
       "2010-01-09    2.052456\n",
       "2010-01-10   -1.020037\n",
       "2010-01-11    0.255859\n",
       "2010-01-12   -0.331137\n",
       "2010-01-13   -0.356881\n",
       "2010-01-14   -0.361835\n",
       "2010-01-15    0.535246\n",
       "2010-01-16   -0.509774\n",
       "2010-01-17   -0.367470\n",
       "2010-01-18    0.793830\n",
       "2010-01-19    2.253958\n",
       "2010-01-20    1.498041\n",
       "2010-01-21   -0.549394\n",
       "2010-01-22    0.108090\n",
       "2010-01-23    0.035668\n",
       "2010-01-24    0.677392\n",
       "2010-01-25   -0.889687\n",
       "2010-01-26    0.478938\n",
       "2010-01-27   -1.497256\n",
       "2010-01-28   -0.110989\n",
       "2010-01-29    0.044419\n",
       "2010-01-30   -0.052814\n",
       "Freq: D, dtype: float64"
      ]
     },
     "execution_count": 206,
     "metadata": {},
     "output_type": "execute_result"
    }
   ],
   "source": [
    "ts"
   ]
  },
  {
   "cell_type": "code",
   "execution_count": 207,
   "metadata": {},
   "outputs": [
    {
     "data": {
      "text/plain": [
       "2010-01-03   -0.610162\n",
       "2010-01-10   -1.020037\n",
       "2010-01-17   -0.367470\n",
       "2010-01-24    0.677392\n",
       "Freq: W-SUN, dtype: float64"
      ]
     },
     "execution_count": 207,
     "metadata": {},
     "output_type": "execute_result"
    }
   ],
   "source": [
    "ts.asfreq('W')"
   ]
  },
  {
   "cell_type": "code",
   "execution_count": 211,
   "metadata": {},
   "outputs": [
    {
     "data": {
      "text/plain": [
       "array([datetime.datetime(2010, 1, 1, 0, 0),\n",
       "       datetime.datetime(2010, 1, 2, 0, 0),\n",
       "       datetime.datetime(2010, 1, 3, 0, 0),\n",
       "       datetime.datetime(2010, 1, 4, 0, 0),\n",
       "       datetime.datetime(2010, 1, 5, 0, 0),\n",
       "       datetime.datetime(2010, 1, 6, 0, 0),\n",
       "       datetime.datetime(2010, 1, 7, 0, 0),\n",
       "       datetime.datetime(2010, 1, 8, 0, 0),\n",
       "       datetime.datetime(2010, 1, 9, 0, 0),\n",
       "       datetime.datetime(2010, 1, 10, 0, 0),\n",
       "       datetime.datetime(2010, 1, 11, 0, 0),\n",
       "       datetime.datetime(2010, 1, 12, 0, 0),\n",
       "       datetime.datetime(2010, 1, 13, 0, 0),\n",
       "       datetime.datetime(2010, 1, 14, 0, 0),\n",
       "       datetime.datetime(2010, 1, 15, 0, 0),\n",
       "       datetime.datetime(2010, 1, 16, 0, 0),\n",
       "       datetime.datetime(2010, 1, 17, 0, 0),\n",
       "       datetime.datetime(2010, 1, 18, 0, 0),\n",
       "       datetime.datetime(2010, 1, 19, 0, 0),\n",
       "       datetime.datetime(2010, 1, 20, 0, 0),\n",
       "       datetime.datetime(2010, 1, 21, 0, 0),\n",
       "       datetime.datetime(2010, 1, 22, 0, 0),\n",
       "       datetime.datetime(2010, 1, 23, 0, 0),\n",
       "       datetime.datetime(2010, 1, 24, 0, 0),\n",
       "       datetime.datetime(2010, 1, 25, 0, 0),\n",
       "       datetime.datetime(2010, 1, 26, 0, 0),\n",
       "       datetime.datetime(2010, 1, 27, 0, 0),\n",
       "       datetime.datetime(2010, 1, 28, 0, 0),\n",
       "       datetime.datetime(2010, 1, 29, 0, 0),\n",
       "       datetime.datetime(2010, 1, 30, 0, 0)], dtype=object)"
      ]
     },
     "execution_count": 211,
     "metadata": {},
     "output_type": "execute_result"
    }
   ],
   "source": [
    "ts.index.to_pydatetime()"
   ]
  },
  {
   "cell_type": "code",
   "execution_count": 214,
   "metadata": {},
   "outputs": [
    {
     "data": {
      "text/plain": [
       "2010-01-03    0.796968\n",
       "2010-01-10    2.052456\n",
       "2010-01-17    0.535246\n",
       "2010-01-24    2.253958\n",
       "2010-01-31    0.478938\n",
       "Freq: W-SUN, dtype: float64"
      ]
     },
     "execution_count": 214,
     "metadata": {},
     "output_type": "execute_result"
    }
   ],
   "source": [
    "ts.resample('W').max()"
   ]
  },
  {
   "cell_type": "code",
   "execution_count": 215,
   "metadata": {},
   "outputs": [
    {
     "data": {
      "text/plain": [
       "2012-01-01 00:00:00    341\n",
       "2012-01-01 00:00:01    346\n",
       "2012-01-01 00:00:02    466\n",
       "2012-01-01 00:00:03    320\n",
       "2012-01-01 00:00:04    288\n",
       "2012-01-01 00:00:05     69\n",
       "2012-01-01 00:00:06    195\n",
       "2012-01-01 00:00:07     94\n",
       "2012-01-01 00:00:08    160\n",
       "2012-01-01 00:00:09    391\n",
       "2012-01-01 00:00:10    165\n",
       "2012-01-01 00:00:11    356\n",
       "2012-01-01 00:00:12    147\n",
       "2012-01-01 00:00:13    425\n",
       "2012-01-01 00:00:14    169\n",
       "2012-01-01 00:00:15     59\n",
       "2012-01-01 00:00:16    159\n",
       "2012-01-01 00:00:17    443\n",
       "2012-01-01 00:00:18    450\n",
       "2012-01-01 00:00:19      8\n",
       "2012-01-01 00:00:20     40\n",
       "2012-01-01 00:00:21      9\n",
       "2012-01-01 00:00:22    390\n",
       "2012-01-01 00:00:23    173\n",
       "2012-01-01 00:00:24    274\n",
       "2012-01-01 00:00:25    486\n",
       "2012-01-01 00:00:26    481\n",
       "2012-01-01 00:00:27    351\n",
       "2012-01-01 00:00:28    443\n",
       "2012-01-01 00:00:29    337\n",
       "                      ... \n",
       "2012-01-01 00:01:10    344\n",
       "2012-01-01 00:01:11    160\n",
       "2012-01-01 00:01:12     93\n",
       "2012-01-01 00:01:13    186\n",
       "2012-01-01 00:01:14     99\n",
       "2012-01-01 00:01:15    424\n",
       "2012-01-01 00:01:16     29\n",
       "2012-01-01 00:01:17    486\n",
       "2012-01-01 00:01:18    427\n",
       "2012-01-01 00:01:19    236\n",
       "2012-01-01 00:01:20      2\n",
       "2012-01-01 00:01:21     93\n",
       "2012-01-01 00:01:22     47\n",
       "2012-01-01 00:01:23      1\n",
       "2012-01-01 00:01:24    483\n",
       "2012-01-01 00:01:25    204\n",
       "2012-01-01 00:01:26    402\n",
       "2012-01-01 00:01:27     15\n",
       "2012-01-01 00:01:28    261\n",
       "2012-01-01 00:01:29    386\n",
       "2012-01-01 00:01:30    311\n",
       "2012-01-01 00:01:31     88\n",
       "2012-01-01 00:01:32    104\n",
       "2012-01-01 00:01:33    457\n",
       "2012-01-01 00:01:34     79\n",
       "2012-01-01 00:01:35    239\n",
       "2012-01-01 00:01:36     81\n",
       "2012-01-01 00:01:37     78\n",
       "2012-01-01 00:01:38    329\n",
       "2012-01-01 00:01:39    485\n",
       "Freq: S, Length: 100, dtype: int64"
      ]
     },
     "execution_count": 215,
     "metadata": {},
     "output_type": "execute_result"
    }
   ],
   "source": [
    "rng = pd.date_range('1/1/2012', periods=100, freq='S')\n",
    "ts = pd.Series(np.random.randint(0, 500, len(rng)), index=rng)\n",
    "ts"
   ]
  },
  {
   "cell_type": "code",
   "execution_count": 221,
   "metadata": {},
   "outputs": [
    {
     "data": {
      "text/plain": [
       "2011-12-31 23:55:00    341.000000\n",
       "2012-01-01 00:00:00    248.030303\n",
       "Freq: 5T, dtype: float64"
      ]
     },
     "execution_count": 221,
     "metadata": {},
     "output_type": "execute_result"
    }
   ],
   "source": [
    "ts.resample('5Min', closed='right').mean()"
   ]
  },
  {
   "cell_type": "code",
   "execution_count": 219,
   "metadata": {},
   "outputs": [
    {
     "data": {
      "text/plain": [
       "248.96000000000001"
      ]
     },
     "execution_count": 219,
     "metadata": {},
     "output_type": "execute_result"
    }
   ],
   "source": [
    "ts.mean()"
   ]
  },
  {
   "cell_type": "code",
   "execution_count": 222,
   "metadata": {},
   "outputs": [],
   "source": [
    "df = pd.DataFrame(np.random.randn(1000, 3),\n",
    "                      index=pd.date_range('1/1/2012', freq='S', periods=1000),\n",
    "                      columns=['A', 'B', 'C'])"
   ]
  },
  {
   "cell_type": "code",
   "execution_count": 223,
   "metadata": {},
   "outputs": [
    {
     "data": {
      "text/html": [
       "<div>\n",
       "<style scoped>\n",
       "    .dataframe tbody tr th:only-of-type {\n",
       "        vertical-align: middle;\n",
       "    }\n",
       "\n",
       "    .dataframe tbody tr th {\n",
       "        vertical-align: top;\n",
       "    }\n",
       "\n",
       "    .dataframe thead th {\n",
       "        text-align: right;\n",
       "    }\n",
       "</style>\n",
       "<table border=\"1\" class=\"dataframe\">\n",
       "  <thead>\n",
       "    <tr style=\"text-align: right;\">\n",
       "      <th></th>\n",
       "      <th>A</th>\n",
       "      <th>B</th>\n",
       "      <th>C</th>\n",
       "    </tr>\n",
       "  </thead>\n",
       "  <tbody>\n",
       "    <tr>\n",
       "      <th>2012-01-01 00:00:00</th>\n",
       "      <td>-0.058262</td>\n",
       "      <td>-0.003812</td>\n",
       "      <td>0.111957</td>\n",
       "    </tr>\n",
       "    <tr>\n",
       "      <th>2012-01-01 00:03:00</th>\n",
       "      <td>-0.055682</td>\n",
       "      <td>-0.072728</td>\n",
       "      <td>0.006923</td>\n",
       "    </tr>\n",
       "    <tr>\n",
       "      <th>2012-01-01 00:06:00</th>\n",
       "      <td>0.176386</td>\n",
       "      <td>-0.010599</td>\n",
       "      <td>-0.059948</td>\n",
       "    </tr>\n",
       "    <tr>\n",
       "      <th>2012-01-01 00:09:00</th>\n",
       "      <td>0.041583</td>\n",
       "      <td>-0.056557</td>\n",
       "      <td>-0.037454</td>\n",
       "    </tr>\n",
       "    <tr>\n",
       "      <th>2012-01-01 00:12:00</th>\n",
       "      <td>0.100586</td>\n",
       "      <td>0.092796</td>\n",
       "      <td>0.092118</td>\n",
       "    </tr>\n",
       "    <tr>\n",
       "      <th>2012-01-01 00:15:00</th>\n",
       "      <td>0.130789</td>\n",
       "      <td>-0.052180</td>\n",
       "      <td>0.001288</td>\n",
       "    </tr>\n",
       "  </tbody>\n",
       "</table>\n",
       "</div>"
      ],
      "text/plain": [
       "                            A         B         C\n",
       "2012-01-01 00:00:00 -0.058262 -0.003812  0.111957\n",
       "2012-01-01 00:03:00 -0.055682 -0.072728  0.006923\n",
       "2012-01-01 00:06:00  0.176386 -0.010599 -0.059948\n",
       "2012-01-01 00:09:00  0.041583 -0.056557 -0.037454\n",
       "2012-01-01 00:12:00  0.100586  0.092796  0.092118\n",
       "2012-01-01 00:15:00  0.130789 -0.052180  0.001288"
      ]
     },
     "execution_count": 223,
     "metadata": {},
     "output_type": "execute_result"
    }
   ],
   "source": [
    "r = df.resample('3T')\n",
    "r.mean()"
   ]
  },
  {
   "cell_type": "code",
   "execution_count": 224,
   "metadata": {},
   "outputs": [
    {
     "data": {
      "text/html": [
       "<div>\n",
       "<style scoped>\n",
       "    .dataframe tbody tr th:only-of-type {\n",
       "        vertical-align: middle;\n",
       "    }\n",
       "\n",
       "    .dataframe tbody tr th {\n",
       "        vertical-align: top;\n",
       "    }\n",
       "\n",
       "    .dataframe thead tr th {\n",
       "        text-align: left;\n",
       "    }\n",
       "</style>\n",
       "<table border=\"1\" class=\"dataframe\">\n",
       "  <thead>\n",
       "    <tr>\n",
       "      <th></th>\n",
       "      <th colspan=\"2\" halign=\"left\">A</th>\n",
       "      <th colspan=\"2\" halign=\"left\">B</th>\n",
       "    </tr>\n",
       "    <tr>\n",
       "      <th></th>\n",
       "      <th>sum</th>\n",
       "      <th>std</th>\n",
       "      <th>mean</th>\n",
       "      <th>std</th>\n",
       "    </tr>\n",
       "  </thead>\n",
       "  <tbody>\n",
       "    <tr>\n",
       "      <th>2012-01-01 00:00:00</th>\n",
       "      <td>-10.487171</td>\n",
       "      <td>0.912054</td>\n",
       "      <td>-0.003812</td>\n",
       "      <td>1.038650</td>\n",
       "    </tr>\n",
       "    <tr>\n",
       "      <th>2012-01-01 00:03:00</th>\n",
       "      <td>-10.022772</td>\n",
       "      <td>0.925135</td>\n",
       "      <td>-0.072728</td>\n",
       "      <td>1.027801</td>\n",
       "    </tr>\n",
       "    <tr>\n",
       "      <th>2012-01-01 00:06:00</th>\n",
       "      <td>31.749433</td>\n",
       "      <td>0.958148</td>\n",
       "      <td>-0.010599</td>\n",
       "      <td>0.949342</td>\n",
       "    </tr>\n",
       "    <tr>\n",
       "      <th>2012-01-01 00:09:00</th>\n",
       "      <td>7.485012</td>\n",
       "      <td>1.059239</td>\n",
       "      <td>-0.056557</td>\n",
       "      <td>1.020964</td>\n",
       "    </tr>\n",
       "    <tr>\n",
       "      <th>2012-01-01 00:12:00</th>\n",
       "      <td>18.105485</td>\n",
       "      <td>1.055798</td>\n",
       "      <td>0.092796</td>\n",
       "      <td>1.056822</td>\n",
       "    </tr>\n",
       "    <tr>\n",
       "      <th>2012-01-01 00:15:00</th>\n",
       "      <td>13.078916</td>\n",
       "      <td>0.992289</td>\n",
       "      <td>-0.052180</td>\n",
       "      <td>0.980230</td>\n",
       "    </tr>\n",
       "  </tbody>\n",
       "</table>\n",
       "</div>"
      ],
      "text/plain": [
       "                             A                   B          \n",
       "                           sum       std      mean       std\n",
       "2012-01-01 00:00:00 -10.487171  0.912054 -0.003812  1.038650\n",
       "2012-01-01 00:03:00 -10.022772  0.925135 -0.072728  1.027801\n",
       "2012-01-01 00:06:00  31.749433  0.958148 -0.010599  0.949342\n",
       "2012-01-01 00:09:00   7.485012  1.059239 -0.056557  1.020964\n",
       "2012-01-01 00:12:00  18.105485  1.055798  0.092796  1.056822\n",
       "2012-01-01 00:15:00  13.078916  0.992289 -0.052180  0.980230"
      ]
     },
     "execution_count": 224,
     "metadata": {},
     "output_type": "execute_result"
    }
   ],
   "source": [
    "r.agg({'A' : ['sum','std'], 'B' : ['mean','std'] })"
   ]
  },
  {
   "cell_type": "code",
   "execution_count": 227,
   "metadata": {},
   "outputs": [
    {
     "data": {
      "text/plain": [
       "Period('2014-07-01 11:00', 'H')"
      ]
     },
     "execution_count": 227,
     "metadata": {},
     "output_type": "execute_result"
    }
   ],
   "source": [
    "\n",
    "p = pd.Period('2014-07-01 09:00', freq='H')\n",
    "p + np.timedelta64(7200, 's')"
   ]
  },
  {
   "cell_type": "code",
   "execution_count": 228,
   "metadata": {},
   "outputs": [
    {
     "data": {
      "text/plain": [
       "10"
      ]
     },
     "execution_count": 228,
     "metadata": {},
     "output_type": "execute_result"
    }
   ],
   "source": [
    "pd.Period('2012',freq='y')-pd.Period('2002',freq='y')"
   ]
  },
  {
   "cell_type": "code",
   "execution_count": 230,
   "metadata": {},
   "outputs": [
    {
     "data": {
      "text/plain": [
       "PeriodIndex(['2012', '2013', '2014', '2015', '2016', '2017', '2018', '2019',\n",
       "             '2020', '2021', '2022'],\n",
       "            dtype='period[A-DEC]', freq='A-DEC')"
      ]
     },
     "execution_count": 230,
     "metadata": {},
     "output_type": "execute_result"
    }
   ],
   "source": [
    "pd.period_range('2012','2022',freq='y')"
   ]
  },
  {
   "cell_type": "code",
   "execution_count": 234,
   "metadata": {},
   "outputs": [],
   "source": [
    "pi = pd.PeriodIndex(['2012','2013','2014'],freq='y')"
   ]
  },
  {
   "cell_type": "code",
   "execution_count": 236,
   "metadata": {},
   "outputs": [
    {
     "data": {
      "text/plain": [
       "PeriodIndex(['2012-12-31', '2013-12-31', '2014-12-31'], dtype='period[D]', freq='D')"
      ]
     },
     "execution_count": 236,
     "metadata": {},
     "output_type": "execute_result"
    }
   ],
   "source": [
    "pi.astype('period[D]')"
   ]
  },
  {
   "cell_type": "code",
   "execution_count": 237,
   "metadata": {},
   "outputs": [],
   "source": [
    "dti = pd.date_range('2011-01-01', freq='M', periods=3)"
   ]
  },
  {
   "cell_type": "code",
   "execution_count": 239,
   "metadata": {},
   "outputs": [
    {
     "data": {
      "text/plain": [
       "PeriodIndex(['2011-01', '2011-02', '2011-03'], dtype='period[M]', freq='M')"
      ]
     },
     "execution_count": 239,
     "metadata": {},
     "output_type": "execute_result"
    }
   ],
   "source": [
    "dti.astype('period[M]')"
   ]
  },
  {
   "cell_type": "code",
   "execution_count": 240,
   "metadata": {},
   "outputs": [
    {
     "data": {
      "text/plain": [
       "Period('2011-01', 'M')"
      ]
     },
     "execution_count": 240,
     "metadata": {},
     "output_type": "execute_result"
    }
   ],
   "source": [
    "p = pd.Period('2011', freq='A-DEC')\n",
    "p.asfreq('M', how='start')"
   ]
  },
  {
   "cell_type": "code",
   "execution_count": 241,
   "metadata": {},
   "outputs": [
    {
     "data": {
      "text/plain": [
       "Period('2011-12', 'M')"
      ]
     },
     "execution_count": 241,
     "metadata": {},
     "output_type": "execute_result"
    }
   ],
   "source": [
    "p.asfreq('M', 'e')"
   ]
  },
  {
   "cell_type": "code",
   "execution_count": 242,
   "metadata": {},
   "outputs": [],
   "source": [
    "prng = pd.period_range('1990Q1', '2000Q4', freq='Q-NOV')"
   ]
  },
  {
   "cell_type": "code",
   "execution_count": 243,
   "metadata": {},
   "outputs": [],
   "source": [
    "ts = pd.Series(np.random.randn(len(prng)), prng)"
   ]
  },
  {
   "cell_type": "code",
   "execution_count": 244,
   "metadata": {},
   "outputs": [
    {
     "data": {
      "text/plain": [
       "1990Q1   -1.355598\n",
       "1990Q2    0.287019\n",
       "1990Q3    0.271443\n",
       "1990Q4   -0.589613\n",
       "1991Q1   -0.200817\n",
       "1991Q2   -0.088707\n",
       "1991Q3   -0.492310\n",
       "1991Q4    0.566624\n",
       "1992Q1   -0.686237\n",
       "1992Q2    0.494465\n",
       "1992Q3   -0.337784\n",
       "1992Q4   -1.845003\n",
       "1993Q1   -0.507052\n",
       "1993Q2   -0.205022\n",
       "1993Q3   -0.612128\n",
       "1993Q4    0.911695\n",
       "1994Q1   -0.587285\n",
       "1994Q2    0.091351\n",
       "1994Q3   -0.265588\n",
       "1994Q4   -0.928438\n",
       "1995Q1   -1.872174\n",
       "1995Q2   -0.508108\n",
       "1995Q3    0.149628\n",
       "1995Q4    0.226445\n",
       "1996Q1    1.792845\n",
       "1996Q2   -0.313948\n",
       "1996Q3   -0.844095\n",
       "1996Q4   -1.200576\n",
       "1997Q1   -1.491122\n",
       "1997Q2   -0.017032\n",
       "1997Q3    2.209340\n",
       "1997Q4   -1.288961\n",
       "1998Q1    0.593673\n",
       "1998Q2   -0.843937\n",
       "1998Q3   -1.712979\n",
       "1998Q4   -0.288111\n",
       "1999Q1    1.036746\n",
       "1999Q2    0.786549\n",
       "1999Q3    0.428259\n",
       "1999Q4   -0.177612\n",
       "2000Q1   -1.508315\n",
       "2000Q2   -0.108701\n",
       "2000Q3   -0.285824\n",
       "2000Q4   -0.857590\n",
       "Freq: Q-NOV, dtype: float64"
      ]
     },
     "execution_count": 244,
     "metadata": {},
     "output_type": "execute_result"
    }
   ],
   "source": [
    "ts"
   ]
  },
  {
   "cell_type": "code",
   "execution_count": 246,
   "metadata": {},
   "outputs": [
    {
     "data": {
      "text/plain": [
       "PeriodIndex(['1990-03-01 09:00', '1990-06-01 09:00', '1990-09-01 09:00',\n",
       "             '1990-12-01 09:00', '1991-03-01 09:00', '1991-06-01 09:00',\n",
       "             '1991-09-01 09:00', '1991-12-01 09:00', '1992-03-01 09:00',\n",
       "             '1992-06-01 09:00', '1992-09-01 09:00', '1992-12-01 09:00',\n",
       "             '1993-03-01 09:00', '1993-06-01 09:00', '1993-09-01 09:00',\n",
       "             '1993-12-01 09:00', '1994-03-01 09:00', '1994-06-01 09:00',\n",
       "             '1994-09-01 09:00', '1994-12-01 09:00', '1995-03-01 09:00',\n",
       "             '1995-06-01 09:00', '1995-09-01 09:00', '1995-12-01 09:00',\n",
       "             '1996-03-01 09:00', '1996-06-01 09:00', '1996-09-01 09:00',\n",
       "             '1996-12-01 09:00', '1997-03-01 09:00', '1997-06-01 09:00',\n",
       "             '1997-09-01 09:00', '1997-12-01 09:00', '1998-03-01 09:00',\n",
       "             '1998-06-01 09:00', '1998-09-01 09:00', '1998-12-01 09:00',\n",
       "             '1999-03-01 09:00', '1999-06-01 09:00', '1999-09-01 09:00',\n",
       "             '1999-12-01 09:00', '2000-03-01 09:00', '2000-06-01 09:00',\n",
       "             '2000-09-01 09:00', '2000-12-01 09:00'],\n",
       "            dtype='period[H]', freq='H')"
      ]
     },
     "execution_count": 246,
     "metadata": {},
     "output_type": "execute_result"
    }
   ],
   "source": [
    "(prng.asfreq('M', 'e') + 1).asfreq('H', 's') + 9"
   ]
  },
  {
   "cell_type": "code",
   "execution_count": 247,
   "metadata": {},
   "outputs": [],
   "source": [
    "def conv(x):\n",
    "     return pd.Period(year = x // 10000, month = x//100 % 100, day = x%100, freq='D')\n"
   ]
  },
  {
   "cell_type": "code",
   "execution_count": 250,
   "metadata": {},
   "outputs": [
    {
     "data": {
      "text/plain": [
       "0   2012-12-31\n",
       "1   2014-11-30\n",
       "2   9999-12-31\n",
       "dtype: object"
      ]
     },
     "execution_count": 250,
     "metadata": {},
     "output_type": "execute_result"
    }
   ],
   "source": [
    "s = pd.Series([20121231, 20141130, 99991231])\n",
    "s.map(conv)"
   ]
  },
  {
   "cell_type": "code",
   "execution_count": 254,
   "metadata": {},
   "outputs": [],
   "source": [
    "rng_pytz = pd.date_range('3/6/2012 00:00', periods=10, freq='D',tz='UTC')"
   ]
  },
  {
   "cell_type": "code",
   "execution_count": 252,
   "metadata": {},
   "outputs": [
    {
     "data": {
      "text/plain": [
       "<UTC>"
      ]
     },
     "execution_count": 252,
     "metadata": {},
     "output_type": "execute_result"
    }
   ],
   "source": [
    "rng_pytz.tz"
   ]
  },
  {
   "cell_type": "code",
   "execution_count": 255,
   "metadata": {},
   "outputs": [],
   "source": [
    "ts = pd.Series(np.random.randn(len(rng_pytz)), rng_pytz)"
   ]
  },
  {
   "cell_type": "code",
   "execution_count": 257,
   "metadata": {},
   "outputs": [
    {
     "data": {
      "text/plain": [
       "2012-03-06 00:00:00+00:00   -0.462740\n",
       "2012-03-07 00:00:00+00:00    0.013612\n",
       "2012-03-08 00:00:00+00:00    0.318002\n",
       "2012-03-09 00:00:00+00:00    0.296285\n",
       "2012-03-10 00:00:00+00:00    0.601752\n",
       "2012-03-11 00:00:00+00:00    0.870732\n",
       "2012-03-12 00:00:00+00:00   -1.426365\n",
       "2012-03-13 00:00:00+00:00   -0.130085\n",
       "2012-03-14 00:00:00+00:00   -0.325419\n",
       "2012-03-15 00:00:00+00:00    0.537904\n",
       "Freq: D, dtype: float64"
      ]
     },
     "execution_count": 257,
     "metadata": {},
     "output_type": "execute_result"
    }
   ],
   "source": [
    "ts.tz_convert('UTC')"
   ]
  },
  {
   "cell_type": "code",
   "execution_count": 259,
   "metadata": {},
   "outputs": [
    {
     "data": {
      "text/plain": [
       "2012-03-06 08:00:00+08:00   -0.462740\n",
       "2012-03-07 08:00:00+08:00    0.013612\n",
       "2012-03-08 08:00:00+08:00    0.318002\n",
       "2012-03-09 08:00:00+08:00    0.296285\n",
       "2012-03-10 08:00:00+08:00    0.601752\n",
       "2012-03-11 08:00:00+08:00    0.870732\n",
       "2012-03-12 08:00:00+08:00   -1.426365\n",
       "2012-03-13 08:00:00+08:00   -0.130085\n",
       "2012-03-14 08:00:00+08:00   -0.325419\n",
       "2012-03-15 08:00:00+08:00    0.537904\n",
       "Freq: D, dtype: float64"
      ]
     },
     "execution_count": 259,
     "metadata": {},
     "output_type": "execute_result"
    }
   ],
   "source": [
    "ts.tz_convert('Asia/Shanghai')"
   ]
  },
  {
   "cell_type": "code",
   "execution_count": 260,
   "metadata": {},
   "outputs": [
    {
     "data": {
      "text/plain": [
       "2012-03-06   -0.462740\n",
       "2012-03-07    0.013612\n",
       "2012-03-08    0.318002\n",
       "2012-03-09    0.296285\n",
       "2012-03-10    0.601752\n",
       "2012-03-11    0.870732\n",
       "2012-03-12   -1.426365\n",
       "2012-03-13   -0.130085\n",
       "2012-03-14   -0.325419\n",
       "2012-03-15    0.537904\n",
       "Freq: D, dtype: float64"
      ]
     },
     "execution_count": 260,
     "metadata": {},
     "output_type": "execute_result"
    }
   ],
   "source": [
    "ts.tz_convert(None)"
   ]
  },
  {
   "cell_type": "code",
   "execution_count": 261,
   "metadata": {},
   "outputs": [
    {
     "data": {
      "text/plain": [
       "0   2013-01-01 00:00:00-05:00\n",
       "1   2013-01-02 00:00:00-05:00\n",
       "2   2013-01-03 00:00:00-05:00\n",
       "dtype: datetime64[ns, US/Eastern]"
      ]
     },
     "execution_count": 261,
     "metadata": {},
     "output_type": "execute_result"
    }
   ],
   "source": [
    "pd.Series(pd.date_range('20130101',periods=3,tz='US/Eastern'))"
   ]
  },
  {
   "cell_type": "code",
   "execution_count": 264,
   "metadata": {},
   "outputs": [],
   "source": [
    "s_naive = pd.Series(pd.date_range('20130101',periods=3))"
   ]
  },
  {
   "cell_type": "code",
   "execution_count": 265,
   "metadata": {},
   "outputs": [
    {
     "data": {
      "text/plain": [
       "<pandas.core.indexes.accessors.DatetimeProperties object at 0x112b9d748>"
      ]
     },
     "execution_count": 265,
     "metadata": {},
     "output_type": "execute_result"
    }
   ],
   "source": [
    "s_naive.dt"
   ]
  },
  {
   "cell_type": "code",
   "execution_count": 266,
   "metadata": {},
   "outputs": [
    {
     "data": {
      "text/plain": [
       "Timedelta('1 days 00:00:00')"
      ]
     },
     "execution_count": 266,
     "metadata": {},
     "output_type": "execute_result"
    }
   ],
   "source": [
    "pd.Timedelta(1, unit='d')"
   ]
  },
  {
   "cell_type": "code",
   "execution_count": 272,
   "metadata": {},
   "outputs": [
    {
     "data": {
      "text/plain": [
       "'0.21.1'"
      ]
     },
     "execution_count": 272,
     "metadata": {},
     "output_type": "execute_result"
    }
   ],
   "source": [
    "pd.__version__"
   ]
  },
  {
   "cell_type": "code",
   "execution_count": 274,
   "metadata": {},
   "outputs": [],
   "source": [
    "s = [pd.Timedelta(days=i) for i in range(5)]"
   ]
  },
  {
   "cell_type": "code",
   "execution_count": 277,
   "metadata": {},
   "outputs": [
    {
     "data": {
      "text/html": [
       "<div>\n",
       "<style scoped>\n",
       "    .dataframe tbody tr th:only-of-type {\n",
       "        vertical-align: middle;\n",
       "    }\n",
       "\n",
       "    .dataframe tbody tr th {\n",
       "        vertical-align: top;\n",
       "    }\n",
       "\n",
       "    .dataframe thead th {\n",
       "        text-align: right;\n",
       "    }\n",
       "</style>\n",
       "<table border=\"1\" class=\"dataframe\">\n",
       "  <thead>\n",
       "    <tr style=\"text-align: right;\">\n",
       "      <th></th>\n",
       "      <th>0</th>\n",
       "    </tr>\n",
       "  </thead>\n",
       "  <tbody>\n",
       "    <tr>\n",
       "      <th>2018-09-20</th>\n",
       "      <td>0 days</td>\n",
       "    </tr>\n",
       "    <tr>\n",
       "      <th>2018-09-21</th>\n",
       "      <td>1 days</td>\n",
       "    </tr>\n",
       "    <tr>\n",
       "      <th>2018-09-22</th>\n",
       "      <td>2 days</td>\n",
       "    </tr>\n",
       "    <tr>\n",
       "      <th>2018-09-23</th>\n",
       "      <td>3 days</td>\n",
       "    </tr>\n",
       "    <tr>\n",
       "      <th>2018-09-24</th>\n",
       "      <td>4 days</td>\n",
       "    </tr>\n",
       "  </tbody>\n",
       "</table>\n",
       "</div>"
      ],
      "text/plain": [
       "                0\n",
       "2018-09-20 0 days\n",
       "2018-09-21 1 days\n",
       "2018-09-22 2 days\n",
       "2018-09-23 3 days\n",
       "2018-09-24 4 days"
      ]
     },
     "execution_count": 277,
     "metadata": {},
     "output_type": "execute_result"
    }
   ],
   "source": [
    "pd.DataFrame(s,index=pd.date_range('2018-9-20',periods=5,freq='D'))"
   ]
  },
  {
   "cell_type": "code",
   "execution_count": 279,
   "metadata": {},
   "outputs": [
    {
     "data": {
      "text/plain": [
       "TimedeltaIndex(['0 days', '1 days', '2 days', '3 days', '4 days'], dtype='timedelta64[ns]', freq=None)"
      ]
     },
     "execution_count": 279,
     "metadata": {},
     "output_type": "execute_result"
    }
   ],
   "source": [
    "dr = pd.date_range('2018-9-20',periods=5,freq='D')\n",
    "y=dr-dr[0]\n",
    "y"
   ]
  },
  {
   "cell_type": "code",
   "execution_count": 282,
   "metadata": {},
   "outputs": [],
   "source": [
    "s = pd.Series(np.random.randint(1,4,10))"
   ]
  },
  {
   "cell_type": "code",
   "execution_count": 286,
   "metadata": {},
   "outputs": [
    {
     "data": {
      "text/plain": [
       "0"
      ]
     },
     "execution_count": 286,
     "metadata": {},
     "output_type": "execute_result"
    }
   ],
   "source": [
    "s.idxmin()"
   ]
  },
  {
   "cell_type": "code",
   "execution_count": 293,
   "metadata": {},
   "outputs": [
    {
     "data": {
      "text/plain": [
       "DatetimeIndex(['2018-09-20', '2018-09-21', '2018-09-22', '2018-09-23',\n",
       "               '2018-09-24'],\n",
       "              dtype='datetime64[ns]', freq='D')"
      ]
     },
     "execution_count": 293,
     "metadata": {},
     "output_type": "execute_result"
    }
   ],
   "source": [
    "dr"
   ]
  },
  {
   "cell_type": "code",
   "execution_count": 294,
   "metadata": {},
   "outputs": [
    {
     "data": {
      "text/plain": [
       "TimedeltaIndex(['1 days', '2 days', '3 days', '4 days', '5 days'], dtype='timedelta64[ns]', freq='D')"
      ]
     },
     "execution_count": 294,
     "metadata": {},
     "output_type": "execute_result"
    }
   ],
   "source": [
    "pd.timedelta_range('1 days','5 days')"
   ]
  },
  {
   "cell_type": "code",
   "execution_count": 295,
   "metadata": {},
   "outputs": [
    {
     "data": {
      "text/plain": [
       "array([ 86400000000000,           'NaT', 172800000000000], dtype='timedelta64[ns]')"
      ]
     },
     "execution_count": 295,
     "metadata": {},
     "output_type": "execute_result"
    }
   ],
   "source": [
    "tdi = pd.TimedeltaIndex(['1 days', pd.NaT, '2 days'])\n",
    "tdi.values"
   ]
  },
  {
   "cell_type": "code",
   "execution_count": 297,
   "metadata": {},
   "outputs": [
    {
     "data": {
      "text/plain": [
       "[Timedelta('1 days 00:00:00'), NaT, Timedelta('2 days 00:00:00')]"
      ]
     },
     "execution_count": 297,
     "metadata": {},
     "output_type": "execute_result"
    }
   ],
   "source": [
    "tdi.tolist()"
   ]
  },
  {
   "cell_type": "code",
   "execution_count": null,
   "metadata": {},
   "outputs": [],
   "source": []
  }
 ],
 "metadata": {
  "kernelspec": {
   "display_name": "Python 3",
   "language": "python",
   "name": "python3"
  },
  "language_info": {
   "codemirror_mode": {
    "name": "ipython",
    "version": 3
   },
   "file_extension": ".py",
   "mimetype": "text/x-python",
   "name": "python",
   "nbconvert_exporter": "python",
   "pygments_lexer": "ipython3",
   "version": "3.6.2"
  }
 },
 "nbformat": 4,
 "nbformat_minor": 2
}
