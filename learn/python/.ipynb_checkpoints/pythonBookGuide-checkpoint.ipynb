{
 "cells": [
  {
   "cell_type": "markdown",
   "metadata": {},
   "source": [
    "$$re$$"
   ]
  },
  {
   "cell_type": "code",
   "execution_count": 1,
   "metadata": {},
   "outputs": [],
   "source": [
    "import re"
   ]
  },
  {
   "cell_type": "code",
   "execution_count": 4,
   "metadata": {},
   "outputs": [
    {
     "name": "stdout",
     "output_type": "stream",
     "text": [
      "<_sre.SRE_Match object; span=(0, 5), match='pyton'>\n"
     ]
    }
   ],
   "source": []
  },
  {
   "cell_type": "code",
   "execution_count": 5,
   "metadata": {},
   "outputs": [
    {
     "data": {
      "text/plain": [
       "()"
      ]
     },
     "execution_count": 5,
     "metadata": {},
     "output_type": "execute_result"
    }
   ],
   "source": []
  },
  {
   "cell_type": "code",
   "execution_count": 9,
   "metadata": {},
   "outputs": [],
   "source": [
    "a = (i for i in range(10))"
   ]
  },
  {
   "cell_type": "code",
   "execution_count": 10,
   "metadata": {},
   "outputs": [
    {
     "data": {
      "text/plain": [
       "0"
      ]
     },
     "execution_count": 10,
     "metadata": {},
     "output_type": "execute_result"
    }
   ],
   "source": [
    "next(a)"
   ]
  },
  {
   "cell_type": "code",
   "execution_count": 12,
   "metadata": {},
   "outputs": [
    {
     "data": {
      "text/plain": [
       "1"
      ]
     },
     "execution_count": 12,
     "metadata": {},
     "output_type": "execute_result"
    }
   ],
   "source": [
    "next(a)"
   ]
  },
  {
   "cell_type": "code",
   "execution_count": 13,
   "metadata": {},
   "outputs": [
    {
     "data": {
      "text/plain": [
       "True"
      ]
     },
     "execution_count": 13,
     "metadata": {},
     "output_type": "execute_result"
    }
   ],
   "source": [
    "a = 1\n",
    "b = 2\n",
    "c = 3\n",
    "a<b<c"
   ]
  },
  {
   "cell_type": "code",
   "execution_count": 14,
   "metadata": {},
   "outputs": [
    {
     "data": {
      "text/plain": [
       "False"
      ]
     },
     "execution_count": 14,
     "metadata": {},
     "output_type": "execute_result"
    }
   ],
   "source": [
    "1==2<3"
   ]
  },
  {
   "cell_type": "code",
   "execution_count": 17,
   "metadata": {},
   "outputs": [
    {
     "data": {
      "text/plain": [
       "False"
      ]
     },
     "execution_count": 17,
     "metadata": {},
     "output_type": "execute_result"
    }
   ],
   "source": [
    "4<5>3>6"
   ]
  },
  {
   "cell_type": "code",
   "execution_count": 18,
   "metadata": {},
   "outputs": [
    {
     "data": {
      "text/plain": [
       "2.0"
      ]
     },
     "execution_count": 18,
     "metadata": {},
     "output_type": "execute_result"
    }
   ],
   "source": [
    "10//4.0"
   ]
  },
  {
   "cell_type": "code",
   "execution_count": 19,
   "metadata": {},
   "outputs": [
    {
     "data": {
      "text/plain": [
       "(2, -3)"
      ]
     },
     "execution_count": 19,
     "metadata": {},
     "output_type": "execute_result"
    }
   ],
   "source": [
    "5//2,5//-2"
   ]
  },
  {
   "cell_type": "code",
   "execution_count": 23,
   "metadata": {},
   "outputs": [
    {
     "data": {
      "text/plain": [
       "-2"
      ]
     },
     "execution_count": 23,
     "metadata": {},
     "output_type": "execute_result"
    }
   ],
   "source": [
    "import math\n",
    "math.trunc(5/-2)"
   ]
  },
  {
   "cell_type": "code",
   "execution_count": 24,
   "metadata": {},
   "outputs": [
    {
     "data": {
      "text/plain": [
       "2.718281828459045"
      ]
     },
     "execution_count": 24,
     "metadata": {},
     "output_type": "execute_result"
    }
   ],
   "source": [
    "math.e"
   ]
  },
  {
   "cell_type": "code",
   "execution_count": 25,
   "metadata": {},
   "outputs": [
    {
     "data": {
      "text/plain": [
       "3.141592653589793"
      ]
     },
     "execution_count": 25,
     "metadata": {},
     "output_type": "execute_result"
    }
   ],
   "source": [
    "math.pi"
   ]
  },
  {
   "cell_type": "code",
   "execution_count": 26,
   "metadata": {},
   "outputs": [
    {
     "data": {
      "text/plain": [
       "'12.23'"
      ]
     },
     "execution_count": 26,
     "metadata": {},
     "output_type": "execute_result"
    }
   ],
   "source": [
    "'{0:.2f}'.format(12.234)"
   ]
  },
  {
   "cell_type": "code",
   "execution_count": 27,
   "metadata": {},
   "outputs": [
    {
     "data": {
      "text/plain": [
       "5.551115123125783e-17"
      ]
     },
     "execution_count": 27,
     "metadata": {},
     "output_type": "execute_result"
    }
   ],
   "source": [
    "0.1+0.1+0.1-0.3"
   ]
  },
  {
   "cell_type": "code",
   "execution_count": 28,
   "metadata": {},
   "outputs": [],
   "source": [
    "s = set()"
   ]
  },
  {
   "cell_type": "code",
   "execution_count": 29,
   "metadata": {},
   "outputs": [
    {
     "data": {
      "text/plain": [
       "set"
      ]
     },
     "execution_count": 29,
     "metadata": {},
     "output_type": "execute_result"
    }
   ],
   "source": [
    "type(s)"
   ]
  },
  {
   "cell_type": "code",
   "execution_count": 31,
   "metadata": {},
   "outputs": [
    {
     "data": {
      "text/plain": [
       "True"
      ]
     },
     "execution_count": 31,
     "metadata": {},
     "output_type": "execute_result"
    }
   ],
   "source": [
    "isinstance(s,set)"
   ]
  },
  {
   "cell_type": "code",
   "execution_count": 32,
   "metadata": {},
   "outputs": [
    {
     "data": {
      "text/plain": [
       "True"
      ]
     },
     "execution_count": 32,
     "metadata": {},
     "output_type": "execute_result"
    }
   ],
   "source": [
    "isinstance(True,int)"
   ]
  },
  {
   "cell_type": "code",
   "execution_count": 33,
   "metadata": {},
   "outputs": [
    {
     "data": {
      "text/plain": [
       "True"
      ]
     },
     "execution_count": 33,
     "metadata": {},
     "output_type": "execute_result"
    }
   ],
   "source": [
    "isinstance(True,bool)"
   ]
  },
  {
   "cell_type": "code",
   "execution_count": 34,
   "metadata": {},
   "outputs": [
    {
     "data": {
      "text/plain": [
       "True"
      ]
     },
     "execution_count": 34,
     "metadata": {},
     "output_type": "execute_result"
    }
   ],
   "source": [
    "issubclass(bool,int)"
   ]
  },
  {
   "cell_type": "code",
   "execution_count": 40,
   "metadata": {},
   "outputs": [
    {
     "data": {
      "text/plain": [
       "78"
      ]
     },
     "execution_count": 40,
     "metadata": {},
     "output_type": "execute_result"
    }
   ],
   "source": [
    "import sys\n",
    "sys.getrefcount(100)"
   ]
  },
  {
   "cell_type": "code",
   "execution_count": 41,
   "metadata": {},
   "outputs": [],
   "source": [
    "title=\"meaning\"'of'\"\"\"life\"\"\""
   ]
  },
  {
   "cell_type": "code",
   "execution_count": 42,
   "metadata": {},
   "outputs": [
    {
     "data": {
      "text/plain": [
       "'meaningoflife'"
      ]
     },
     "execution_count": 42,
     "metadata": {},
     "output_type": "execute_result"
    }
   ],
   "source": [
    "title"
   ]
  },
  {
   "cell_type": "code",
   "execution_count": 50,
   "metadata": {},
   "outputs": [
    {
     "data": {
      "text/plain": [
       "'\\u0fff'"
      ]
     },
     "execution_count": 50,
     "metadata": {},
     "output_type": "execute_result"
    }
   ],
   "source": [
    "'\\U00000fff'"
   ]
  },
  {
   "cell_type": "code",
   "execution_count": 52,
   "metadata": {},
   "outputs": [
    {
     "data": {
      "text/plain": [
       "('sparm', \"'sparm'\")"
      ]
     },
     "execution_count": 52,
     "metadata": {},
     "output_type": "execute_result"
    }
   ],
   "source": [
    "str('sparm'),repr('sparm')"
   ]
  },
  {
   "cell_type": "code",
   "execution_count": 54,
   "metadata": {},
   "outputs": [],
   "source": [
    "title=\"meaning \"'of'\"\"\" life\"\"\""
   ]
  },
  {
   "cell_type": "code",
   "execution_count": 55,
   "metadata": {},
   "outputs": [
    {
     "data": {
      "text/plain": [
       "'Meaning Of Life'"
      ]
     },
     "execution_count": 55,
     "metadata": {},
     "output_type": "execute_result"
    }
   ],
   "source": [
    "title.title()"
   ]
  },
  {
   "cell_type": "code",
   "execution_count": 58,
   "metadata": {},
   "outputs": [],
   "source": [
    "s = [[]]*4"
   ]
  },
  {
   "cell_type": "code",
   "execution_count": 60,
   "metadata": {},
   "outputs": [],
   "source": [
    "s[0].append(2)"
   ]
  },
  {
   "cell_type": "code",
   "execution_count": 61,
   "metadata": {},
   "outputs": [
    {
     "data": {
      "text/plain": [
       "[[2], [2], [2], [2]]"
      ]
     },
     "execution_count": 61,
     "metadata": {},
     "output_type": "execute_result"
    }
   ],
   "source": [
    "s"
   ]
  },
  {
   "cell_type": "code",
   "execution_count": 1,
   "metadata": {},
   "outputs": [],
   "source": [
    "file = open('example.txt','w')"
   ]
  },
  {
   "cell_type": "code",
   "execution_count": 2,
   "metadata": {},
   "outputs": [
    {
     "data": {
      "text/plain": [
       "3"
      ]
     },
     "execution_count": 2,
     "metadata": {},
     "output_type": "execute_result"
    }
   ],
   "source": [
    "file.write('abc')"
   ]
  },
  {
   "cell_type": "code",
   "execution_count": 3,
   "metadata": {},
   "outputs": [],
   "source": [
    "file.close()\n"
   ]
  },
  {
   "cell_type": "code",
   "execution_count": 4,
   "metadata": {},
   "outputs": [
    {
     "name": "stdout",
     "output_type": "stream",
     "text": [
      "abc\n"
     ]
    }
   ],
   "source": [
    "r = open('example.txt')\n",
    "for line in r:\n",
    "    print(line)"
   ]
  },
  {
   "cell_type": "code",
   "execution_count": 7,
   "metadata": {},
   "outputs": [],
   "source": [
    "a = [1,2,3]\n",
    "b = [a]"
   ]
  },
  {
   "cell_type": "code",
   "execution_count": 8,
   "metadata": {},
   "outputs": [],
   "source": [
    "c=b.copy()"
   ]
  },
  {
   "cell_type": "code",
   "execution_count": 9,
   "metadata": {},
   "outputs": [
    {
     "data": {
      "text/plain": [
       "[[1, 2, 3]]"
      ]
     },
     "execution_count": 9,
     "metadata": {},
     "output_type": "execute_result"
    }
   ],
   "source": [
    "c"
   ]
  },
  {
   "cell_type": "code",
   "execution_count": 10,
   "metadata": {},
   "outputs": [
    {
     "data": {
      "text/plain": [
       "[[1, 2, 3, 4]]"
      ]
     },
     "execution_count": 10,
     "metadata": {},
     "output_type": "execute_result"
    }
   ],
   "source": [
    "a.append(4)\n",
    "c"
   ]
  },
  {
   "cell_type": "code",
   "execution_count": 11,
   "metadata": {},
   "outputs": [],
   "source": [
    "import copy\n",
    "d = copy.deepcopy(b)"
   ]
  },
  {
   "cell_type": "code",
   "execution_count": 12,
   "metadata": {},
   "outputs": [
    {
     "data": {
      "text/plain": [
       "[[1, 2, 3, 4]]"
      ]
     },
     "execution_count": 12,
     "metadata": {},
     "output_type": "execute_result"
    }
   ],
   "source": [
    "d"
   ]
  },
  {
   "cell_type": "code",
   "execution_count": 13,
   "metadata": {},
   "outputs": [
    {
     "data": {
      "text/plain": [
       "[[1, 2, 3, 4]]"
      ]
     },
     "execution_count": 13,
     "metadata": {},
     "output_type": "execute_result"
    }
   ],
   "source": [
    "a.append(5)\n",
    "d"
   ]
  },
  {
   "cell_type": "code",
   "execution_count": 14,
   "metadata": {},
   "outputs": [
    {
     "name": "stdout",
     "output_type": "stream",
     "text": [
      "False\n"
     ]
    }
   ],
   "source": [
    "a = 0j\n",
    "if a:\n",
    "    print(True)\n",
    "else:\n",
    "    print(False)"
   ]
  },
  {
   "cell_type": "code",
   "execution_count": 15,
   "metadata": {},
   "outputs": [
    {
     "data": {
      "text/plain": [
       "0j"
      ]
     },
     "execution_count": 15,
     "metadata": {},
     "output_type": "execute_result"
    }
   ],
   "source": [
    "a"
   ]
  },
  {
   "cell_type": "code",
   "execution_count": 17,
   "metadata": {},
   "outputs": [
    {
     "data": {
      "text/plain": [
       "(False, False, False, False, False)"
      ]
     },
     "execution_count": 17,
     "metadata": {},
     "output_type": "execute_result"
    }
   ],
   "source": [
    "bool(0j),bool(\"\"),bool(None),bool(0),bool(0.0)"
   ]
  },
  {
   "cell_type": "code",
   "execution_count": 18,
   "metadata": {},
   "outputs": [],
   "source": [
    "a = [1]\n",
    "a = [a]"
   ]
  },
  {
   "cell_type": "code",
   "execution_count": 21,
   "metadata": {},
   "outputs": [],
   "source": [
    "a.append(a)"
   ]
  },
  {
   "cell_type": "code",
   "execution_count": 22,
   "metadata": {},
   "outputs": [
    {
     "data": {
      "text/plain": [
       "[[1], [...], [...]]"
      ]
     },
     "execution_count": 22,
     "metadata": {},
     "output_type": "execute_result"
    }
   ],
   "source": [
    "a"
   ]
  },
  {
   "cell_type": "code",
   "execution_count": 23,
   "metadata": {},
   "outputs": [
    {
     "data": {
      "text/plain": [
       "(2, 2, 3)"
      ]
     },
     "execution_count": 23,
     "metadata": {},
     "output_type": "execute_result"
    }
   ],
   "source": [
    "T = (1,2,3)\n",
    "# T=>(2,2,3)\n",
    "T = (2,)+T[1:]\n",
    "T"
   ]
  },
  {
   "cell_type": "code",
   "execution_count": 24,
   "metadata": {},
   "outputs": [
    {
     "data": {
      "text/plain": [
       "''"
      ]
     },
     "execution_count": 24,
     "metadata": {},
     "output_type": "execute_result"
    }
   ],
   "source": [
    "s = \"test\"\n",
    "s[:0]"
   ]
  },
  {
   "cell_type": "code",
   "execution_count": 25,
   "metadata": {},
   "outputs": [],
   "source": [
    "s = list(s)\n",
    "s.reverse()"
   ]
  },
  {
   "cell_type": "code",
   "execution_count": 26,
   "metadata": {},
   "outputs": [
    {
     "data": {
      "text/plain": [
       "['t', 's', 'e', 't']"
      ]
     },
     "execution_count": 26,
     "metadata": {},
     "output_type": "execute_result"
    }
   ],
   "source": [
    "s"
   ]
  },
  {
   "cell_type": "code",
   "execution_count": 27,
   "metadata": {},
   "outputs": [],
   "source": [
    "s.sort()"
   ]
  },
  {
   "cell_type": "code",
   "execution_count": 28,
   "metadata": {},
   "outputs": [
    {
     "data": {
      "text/plain": [
       "['e', 's', 't', 't']"
      ]
     },
     "execution_count": 28,
     "metadata": {},
     "output_type": "execute_result"
    }
   ],
   "source": [
    "s"
   ]
  },
  {
   "cell_type": "code",
   "execution_count": 29,
   "metadata": {},
   "outputs": [
    {
     "data": {
      "text/plain": [
       "['e', 's', 't', 't']"
      ]
     },
     "execution_count": 29,
     "metadata": {},
     "output_type": "execute_result"
    }
   ],
   "source": [
    "sorted(s)"
   ]
  },
  {
   "cell_type": "code",
   "execution_count": 30,
   "metadata": {},
   "outputs": [
    {
     "data": {
      "text/plain": [
       "''"
      ]
     },
     "execution_count": 30,
     "metadata": {},
     "output_type": "execute_result"
    }
   ],
   "source": [
    "s=\"abcde\"\n",
    "s[3:1]"
   ]
  },
  {
   "cell_type": "code",
   "execution_count": 33,
   "metadata": {},
   "outputs": [
    {
     "data": {
      "text/plain": [
       "'dc'"
      ]
     },
     "execution_count": 33,
     "metadata": {},
     "output_type": "execute_result"
    }
   ],
   "source": [
    "s[3:1:-1]"
   ]
  },
  {
   "cell_type": "code",
   "execution_count": 32,
   "metadata": {},
   "outputs": [
    {
     "data": {
      "text/plain": [
       "'abcde'"
      ]
     },
     "execution_count": 32,
     "metadata": {},
     "output_type": "execute_result"
    }
   ],
   "source": [
    "s"
   ]
  },
  {
   "cell_type": "code",
   "execution_count": 34,
   "metadata": {},
   "outputs": [
    {
     "data": {
      "text/plain": [
       "'a'"
      ]
     },
     "execution_count": 34,
     "metadata": {},
     "output_type": "execute_result"
    }
   ],
   "source": [
    "s[0][0][0]"
   ]
  },
  {
   "cell_type": "code",
   "execution_count": 35,
   "metadata": {},
   "outputs": [
    {
     "data": {
      "text/plain": [
       "'a'"
      ]
     },
     "execution_count": 35,
     "metadata": {},
     "output_type": "execute_result"
    }
   ],
   "source": [
    "s = list(s)\n",
    "s[0][0][0]"
   ]
  },
  {
   "cell_type": "code",
   "execution_count": 37,
   "metadata": {},
   "outputs": [
    {
     "data": {
      "text/plain": [
       "'spem'"
      ]
     },
     "execution_count": 37,
     "metadata": {},
     "output_type": "execute_result"
    }
   ],
   "source": [
    "s='spam'\n",
    "# s=>spem\n",
    "s[0:2]+'e'+s[3:]"
   ]
  },
  {
   "cell_type": "code",
   "execution_count": 7,
   "metadata": {},
   "outputs": [],
   "source": [
    "a,*b = 'abc'\n"
   ]
  },
  {
   "cell_type": "code",
   "execution_count": 8,
   "metadata": {},
   "outputs": [
    {
     "data": {
      "text/plain": [
       "['b', 'c']"
      ]
     },
     "execution_count": 8,
     "metadata": {},
     "output_type": "execute_result"
    }
   ],
   "source": [
    "b"
   ]
  },
  {
   "cell_type": "code",
   "execution_count": 3,
   "metadata": {},
   "outputs": [
    {
     "data": {
      "text/plain": [
       "'a'"
      ]
     },
     "execution_count": 3,
     "metadata": {},
     "output_type": "execute_result"
    }
   ],
   "source": [
    "a"
   ]
  },
  {
   "cell_type": "code",
   "execution_count": 9,
   "metadata": {},
   "outputs": [],
   "source": [
    "a,b,c,d=\"spam\""
   ]
  },
  {
   "cell_type": "code",
   "execution_count": 10,
   "metadata": {},
   "outputs": [
    {
     "data": {
      "text/plain": [
       "'s'"
      ]
     },
     "execution_count": 10,
     "metadata": {},
     "output_type": "execute_result"
    }
   ],
   "source": [
    "a"
   ]
  },
  {
   "cell_type": "code",
   "execution_count": 11,
   "metadata": {},
   "outputs": [
    {
     "data": {
      "text/plain": [
       "'p'"
      ]
     },
     "execution_count": 11,
     "metadata": {},
     "output_type": "execute_result"
    }
   ],
   "source": [
    "b"
   ]
  },
  {
   "cell_type": "code",
   "execution_count": 12,
   "metadata": {},
   "outputs": [
    {
     "data": {
      "text/plain": [
       "'m'"
      ]
     },
     "execution_count": 12,
     "metadata": {},
     "output_type": "execute_result"
    }
   ],
   "source": [
    "d"
   ]
  },
  {
   "cell_type": "code",
   "execution_count": 13,
   "metadata": {},
   "outputs": [],
   "source": [
    "a,b,c=['a','b','dc']"
   ]
  },
  {
   "cell_type": "code",
   "execution_count": 14,
   "metadata": {},
   "outputs": [
    {
     "data": {
      "text/plain": [
       "'dc'"
      ]
     },
     "execution_count": 14,
     "metadata": {},
     "output_type": "execute_result"
    }
   ],
   "source": [
    "c"
   ]
  },
  {
   "cell_type": "code",
   "execution_count": 15,
   "metadata": {},
   "outputs": [
    {
     "data": {
      "text/plain": [
       "'a'"
      ]
     },
     "execution_count": 15,
     "metadata": {},
     "output_type": "execute_result"
    }
   ],
   "source": [
    "a"
   ]
  },
  {
   "cell_type": "code",
   "execution_count": 16,
   "metadata": {},
   "outputs": [
    {
     "data": {
      "text/plain": [
       "'b'"
      ]
     },
     "execution_count": 16,
     "metadata": {},
     "output_type": "execute_result"
    }
   ],
   "source": [
    "b"
   ]
  },
  {
   "cell_type": "code",
   "execution_count": 18,
   "metadata": {},
   "outputs": [],
   "source": [
    "a,b='sp'"
   ]
  },
  {
   "cell_type": "code",
   "execution_count": 19,
   "metadata": {},
   "outputs": [
    {
     "data": {
      "text/plain": [
       "'s'"
      ]
     },
     "execution_count": 19,
     "metadata": {},
     "output_type": "execute_result"
    }
   ],
   "source": [
    "a\n"
   ]
  },
  {
   "cell_type": "code",
   "execution_count": 20,
   "metadata": {},
   "outputs": [
    {
     "data": {
      "text/plain": [
       "'p'"
      ]
     },
     "execution_count": 20,
     "metadata": {},
     "output_type": "execute_result"
    }
   ],
   "source": [
    "b"
   ]
  },
  {
   "cell_type": "code",
   "execution_count": 21,
   "metadata": {},
   "outputs": [],
   "source": [
    "a,*b='spam'"
   ]
  },
  {
   "cell_type": "code",
   "execution_count": 27,
   "metadata": {},
   "outputs": [],
   "source": [
    "a,b,c=range(3)"
   ]
  },
  {
   "cell_type": "code",
   "execution_count": 28,
   "metadata": {},
   "outputs": [
    {
     "data": {
      "text/plain": [
       "2"
      ]
     },
     "execution_count": 28,
     "metadata": {},
     "output_type": "execute_result"
    }
   ],
   "source": [
    "c"
   ]
  },
  {
   "cell_type": "code",
   "execution_count": 29,
   "metadata": {},
   "outputs": [
    {
     "data": {
      "text/plain": [
       "False"
      ]
     },
     "execution_count": 29,
     "metadata": {},
     "output_type": "execute_result"
    }
   ],
   "source": [
    "bool([])"
   ]
  },
  {
   "cell_type": "code",
   "execution_count": 30,
   "metadata": {},
   "outputs": [],
   "source": [
    "a = [1]\n"
   ]
  },
  {
   "cell_type": "code",
   "execution_count": 31,
   "metadata": {},
   "outputs": [
    {
     "data": {
      "text/plain": [
       "1"
      ]
     },
     "execution_count": 31,
     "metadata": {},
     "output_type": "execute_result"
    }
   ],
   "source": [
    "a[0]"
   ]
  },
  {
   "cell_type": "code",
   "execution_count": 32,
   "metadata": {},
   "outputs": [
    {
     "data": {
      "text/plain": [
       "[]"
      ]
     },
     "execution_count": 32,
     "metadata": {},
     "output_type": "execute_result"
    }
   ],
   "source": [
    "a[1:]"
   ]
  },
  {
   "cell_type": "code",
   "execution_count": 33,
   "metadata": {},
   "outputs": [
    {
     "ename": "IndexError",
     "evalue": "list index out of range",
     "output_type": "error",
     "traceback": [
      "\u001b[0;31m---------------------------------------------------------------------------\u001b[0m",
      "\u001b[0;31mIndexError\u001b[0m                                Traceback (most recent call last)",
      "\u001b[0;32m<ipython-input-33-8bc71255a22e>\u001b[0m in \u001b[0;36m<module>\u001b[0;34m()\u001b[0m\n\u001b[0;32m----> 1\u001b[0;31m \u001b[0ma\u001b[0m\u001b[0;34m[\u001b[0m\u001b[0;36m1\u001b[0m\u001b[0;34m]\u001b[0m\u001b[0;34m\u001b[0m\u001b[0m\n\u001b[0m",
      "\u001b[0;31mIndexError\u001b[0m: list index out of range"
     ]
    }
   ],
   "source": [
    "a[1]"
   ]
  },
  {
   "cell_type": "code",
   "execution_count": 34,
   "metadata": {},
   "outputs": [
    {
     "data": {
      "text/plain": [
       "[]"
      ]
     },
     "execution_count": 34,
     "metadata": {},
     "output_type": "execute_result"
    }
   ],
   "source": [
    "a[2:]"
   ]
  },
  {
   "cell_type": "code",
   "execution_count": 35,
   "metadata": {},
   "outputs": [
    {
     "data": {
      "text/plain": [
       "[1]"
      ]
     },
     "execution_count": 35,
     "metadata": {},
     "output_type": "execute_result"
    }
   ],
   "source": [
    "a[-1:]"
   ]
  },
  {
   "cell_type": "code",
   "execution_count": 36,
   "metadata": {},
   "outputs": [
    {
     "data": {
      "text/plain": [
       "[1]"
      ]
     },
     "execution_count": 36,
     "metadata": {},
     "output_type": "execute_result"
    }
   ],
   "source": [
    "a[-2:]"
   ]
  },
  {
   "cell_type": "code",
   "execution_count": 37,
   "metadata": {},
   "outputs": [
    {
     "ename": "IndexError",
     "evalue": "list index out of range",
     "output_type": "error",
     "traceback": [
      "\u001b[0;31m---------------------------------------------------------------------------\u001b[0m",
      "\u001b[0;31mIndexError\u001b[0m                                Traceback (most recent call last)",
      "\u001b[0;32m<ipython-input-37-72069be183a9>\u001b[0m in \u001b[0;36m<module>\u001b[0;34m()\u001b[0m\n\u001b[0;32m----> 1\u001b[0;31m \u001b[0ma\u001b[0m\u001b[0;34m[\u001b[0m\u001b[0;34m-\u001b[0m\u001b[0;36m2\u001b[0m\u001b[0;34m]\u001b[0m\u001b[0;34m\u001b[0m\u001b[0m\n\u001b[0m",
      "\u001b[0;31mIndexError\u001b[0m: list index out of range"
     ]
    }
   ],
   "source": [
    "a[-2]"
   ]
  },
  {
   "cell_type": "code",
   "execution_count": 38,
   "metadata": {},
   "outputs": [
    {
     "data": {
      "text/plain": [
       "1"
      ]
     },
     "execution_count": 38,
     "metadata": {},
     "output_type": "execute_result"
    }
   ],
   "source": [
    "a[-1]"
   ]
  },
  {
   "cell_type": "code",
   "execution_count": 40,
   "metadata": {},
   "outputs": [
    {
     "data": {
      "text/plain": [
       "[1]"
      ]
     },
     "execution_count": 40,
     "metadata": {},
     "output_type": "execute_result"
    }
   ],
   "source": [
    "a[-3:]"
   ]
  },
  {
   "cell_type": "code",
   "execution_count": 41,
   "metadata": {},
   "outputs": [],
   "source": [
    "a = 'abcdefg'"
   ]
  },
  {
   "cell_type": "code",
   "execution_count": 43,
   "metadata": {},
   "outputs": [
    {
     "data": {
      "text/plain": [
       "'ef'"
      ]
     },
     "execution_count": 43,
     "metadata": {},
     "output_type": "execute_result"
    }
   ],
   "source": [
    "a[-3:-1]"
   ]
  },
  {
   "cell_type": "code",
   "execution_count": 44,
   "metadata": {},
   "outputs": [
    {
     "name": "stdout",
     "output_type": "stream",
     "text": [
      "CPU times: user 5 µs, sys: 1e+03 ns, total: 6 µs\n",
      "Wall time: 11.2 µs\n"
     ]
    },
    {
     "data": {
      "text/plain": [
       "'abcdefg'"
      ]
     },
     "execution_count": 44,
     "metadata": {},
     "output_type": "execute_result"
    }
   ],
   "source": [
    "%time a[-1000000000000:]"
   ]
  },
  {
   "cell_type": "code",
   "execution_count": 45,
   "metadata": {},
   "outputs": [
    {
     "name": "stdout",
     "output_type": "stream",
     "text": [
      "CPU times: user 4 µs, sys: 1e+03 ns, total: 5 µs\n",
      "Wall time: 7.87 µs\n"
     ]
    },
    {
     "data": {
      "text/plain": [
       "'abcdefg'"
      ]
     },
     "execution_count": 45,
     "metadata": {},
     "output_type": "execute_result"
    }
   ],
   "source": [
    "%time a[-8:]"
   ]
  },
  {
   "cell_type": "code",
   "execution_count": 46,
   "metadata": {},
   "outputs": [
    {
     "name": "stdout",
     "output_type": "stream",
     "text": [
      "CPU times: user 4 µs, sys: 1 µs, total: 5 µs\n",
      "Wall time: 9.06 µs\n"
     ]
    },
    {
     "data": {
      "text/plain": [
       "'abcdefg'"
      ]
     },
     "execution_count": 46,
     "metadata": {},
     "output_type": "execute_result"
    }
   ],
   "source": [
    "%time a[-1000000:]"
   ]
  },
  {
   "cell_type": "code",
   "execution_count": 48,
   "metadata": {},
   "outputs": [],
   "source": [
    "c,*d,f=a"
   ]
  },
  {
   "cell_type": "code",
   "execution_count": 49,
   "metadata": {},
   "outputs": [
    {
     "data": {
      "text/plain": [
       "['b', 'c', 'd', 'e', 'f']"
      ]
     },
     "execution_count": 49,
     "metadata": {},
     "output_type": "execute_result"
    }
   ],
   "source": [
    "d"
   ]
  },
  {
   "cell_type": "code",
   "execution_count": 50,
   "metadata": {},
   "outputs": [
    {
     "data": {
      "text/plain": [
       "'a'"
      ]
     },
     "execution_count": 50,
     "metadata": {},
     "output_type": "execute_result"
    }
   ],
   "source": [
    "c"
   ]
  },
  {
   "cell_type": "code",
   "execution_count": 51,
   "metadata": {},
   "outputs": [
    {
     "data": {
      "text/plain": [
       "'g'"
      ]
     },
     "execution_count": 51,
     "metadata": {},
     "output_type": "execute_result"
    }
   ],
   "source": [
    "f"
   ]
  },
  {
   "cell_type": "markdown",
   "metadata": {},
   "source": [
    "$$一个解包总是返回多个匹配项的列表$$"
   ]
  },
  {
   "cell_type": "code",
   "execution_count": 52,
   "metadata": {},
   "outputs": [],
   "source": [
    "L = [1,23,4]\n",
    "L+=[5,6]"
   ]
  },
  {
   "cell_type": "code",
   "execution_count": 53,
   "metadata": {},
   "outputs": [
    {
     "data": {
      "text/plain": [
       "[1, 23, 4, 5, 6]"
      ]
     },
     "execution_count": 53,
     "metadata": {},
     "output_type": "execute_result"
    }
   ],
   "source": [
    "L"
   ]
  },
  {
   "cell_type": "code",
   "execution_count": 54,
   "metadata": {},
   "outputs": [
    {
     "name": "stdout",
     "output_type": "stream",
     "text": [
      "[1, 23, 4, 5, 6]%%abcdefg\n"
     ]
    }
   ],
   "source": [
    "print(L,a,sep='%%')"
   ]
  },
  {
   "cell_type": "code",
   "execution_count": 55,
   "metadata": {},
   "outputs": [],
   "source": [
    "print(L,a,file=open('example.txt','w'))"
   ]
  },
  {
   "cell_type": "code",
   "execution_count": 61,
   "metadata": {},
   "outputs": [],
   "source": [
    "class aa():\n",
    "    def __init__(self):\n",
    "        print('aa init Done')\n",
    "    def write(self,string):\n",
    "        print(string,file=open('aa.txt','w'))\n",
    "        print('write done')\n",
    "        "
   ]
  },
  {
   "cell_type": "code",
   "execution_count": 64,
   "metadata": {},
   "outputs": [
    {
     "name": "stdout",
     "output_type": "stream",
     "text": [
      "aa init Done\n",
      "write done\n",
      "write done\n"
     ]
    }
   ],
   "source": [
    "b = aa()\n",
    "print('she is pretty',file=b)"
   ]
  },
  {
   "cell_type": "code",
   "execution_count": 65,
   "metadata": {},
   "outputs": [],
   "source": [
    "a = ..."
   ]
  },
  {
   "cell_type": "code",
   "execution_count": 66,
   "metadata": {},
   "outputs": [
    {
     "data": {
      "text/plain": [
       "Ellipsis"
      ]
     },
     "execution_count": 66,
     "metadata": {},
     "output_type": "execute_result"
    }
   ],
   "source": [
    "a"
   ]
  },
  {
   "cell_type": "code",
   "execution_count": 69,
   "metadata": {},
   "outputs": [],
   "source": [
    "a = [1,2,3]\n",
    "b = \"abc\"\n",
    "c = dict(zip(b,a))"
   ]
  },
  {
   "cell_type": "code",
   "execution_count": 70,
   "metadata": {},
   "outputs": [
    {
     "data": {
      "text/plain": [
       "{'a': 1, 'b': 2, 'c': 3}"
      ]
     },
     "execution_count": 70,
     "metadata": {},
     "output_type": "execute_result"
    }
   ],
   "source": [
    "c"
   ]
  },
  {
   "cell_type": "code",
   "execution_count": 71,
   "metadata": {},
   "outputs": [],
   "source": [
    "c = enumerate(zip(b,a))"
   ]
  },
  {
   "cell_type": "code",
   "execution_count": 72,
   "metadata": {},
   "outputs": [
    {
     "data": {
      "text/plain": [
       "(0, ('a', 1))"
      ]
     },
     "execution_count": 72,
     "metadata": {},
     "output_type": "execute_result"
    }
   ],
   "source": [
    "next(c)"
   ]
  },
  {
   "cell_type": "code",
   "execution_count": 73,
   "metadata": {},
   "outputs": [
    {
     "data": {
      "text/plain": [
       "''"
      ]
     },
     "execution_count": 73,
     "metadata": {},
     "output_type": "execute_result"
    }
   ],
   "source": [
    "'a'*0"
   ]
  },
  {
   "cell_type": "code",
   "execution_count": 76,
   "metadata": {},
   "outputs": [
    {
     "name": "stdout",
     "output_type": "stream",
     "text": [
      "CPU times: user 4 µs, sys: 1 µs, total: 5 µs\n",
      "Wall time: 7.87 µs\n",
      "[1, 23, 4, 5, 6] ABCDEFG\n",
      "\n"
     ]
    }
   ],
   "source": [
    "%time \n",
    "for l in open('example.txt','r'):\n",
    "    print(l.upper())"
   ]
  },
  {
   "cell_type": "code",
   "execution_count": 77,
   "metadata": {},
   "outputs": [
    {
     "name": "stdout",
     "output_type": "stream",
     "text": [
      "CPU times: user 3 µs, sys: 1 µs, total: 4 µs\n",
      "Wall time: 6.91 µs\n",
      "[1, 23, 4, 5, 6] ABCDEFG\n",
      "\n"
     ]
    }
   ],
   "source": [
    "%time \n",
    "for l in open('example.txt','r').readlines():\n",
    "    print(l.upper())"
   ]
  },
  {
   "cell_type": "code",
   "execution_count": 79,
   "metadata": {},
   "outputs": [],
   "source": [
    "I = iter([1,2,3])"
   ]
  },
  {
   "cell_type": "code",
   "execution_count": 80,
   "metadata": {},
   "outputs": [
    {
     "data": {
      "text/plain": [
       "<list_iterator at 0x1088c2c50>"
      ]
     },
     "execution_count": 80,
     "metadata": {},
     "output_type": "execute_result"
    }
   ],
   "source": [
    "I"
   ]
  },
  {
   "cell_type": "code",
   "execution_count": 81,
   "metadata": {},
   "outputs": [
    {
     "data": {
      "text/plain": [
       "1"
      ]
     },
     "execution_count": 81,
     "metadata": {},
     "output_type": "execute_result"
    }
   ],
   "source": [
    "next(I)"
   ]
  },
  {
   "cell_type": "code",
   "execution_count": 83,
   "metadata": {},
   "outputs": [],
   "source": [
    "L = [i for i in range(10)]"
   ]
  },
  {
   "cell_type": "code",
   "execution_count": 84,
   "metadata": {},
   "outputs": [
    {
     "data": {
      "text/plain": [
       "[0, 1, 2, 3, 4, 5, 6, 7, 8, 9]"
      ]
     },
     "execution_count": 84,
     "metadata": {},
     "output_type": "execute_result"
    }
   ],
   "source": [
    "L"
   ]
  },
  {
   "cell_type": "code",
   "execution_count": 86,
   "metadata": {},
   "outputs": [
    {
     "data": {
      "text/plain": [
       "'0$$1$$2$$3$$4$$5$$6$$7$$8$$9'"
      ]
     },
     "execution_count": 86,
     "metadata": {},
     "output_type": "execute_result"
    }
   ],
   "source": [
    "L = [str(i) for i in L]\n",
    "\"$$\".join(L)"
   ]
  },
  {
   "cell_type": "code",
   "execution_count": 87,
   "metadata": {},
   "outputs": [
    {
     "data": {
      "text/plain": [
       "<zip at 0x1088ce748>"
      ]
     },
     "execution_count": 87,
     "metadata": {},
     "output_type": "execute_result"
    }
   ],
   "source": [
    "a = [1,2,3]\n",
    "b = ['a','b','c']\n",
    "zip(a,b)"
   ]
  },
  {
   "cell_type": "code",
   "execution_count": 89,
   "metadata": {},
   "outputs": [],
   "source": [
    "(c,d) = zip(*zip(a,b))"
   ]
  },
  {
   "cell_type": "code",
   "execution_count": 90,
   "metadata": {},
   "outputs": [
    {
     "data": {
      "text/plain": [
       "((1, 2, 3), ('a', 'b', 'c'))"
      ]
     },
     "execution_count": 90,
     "metadata": {},
     "output_type": "execute_result"
    }
   ],
   "source": [
    "c,d"
   ]
  },
  {
   "cell_type": "markdown",
   "metadata": {},
   "source": [
    "$$ Range 不是迭代器 $$"
   ]
  },
  {
   "cell_type": "code",
   "execution_count": 91,
   "metadata": {},
   "outputs": [
    {
     "ename": "TypeError",
     "evalue": "'range' object is not an iterator",
     "output_type": "error",
     "traceback": [
      "\u001b[0;31m---------------------------------------------------------------------------\u001b[0m",
      "\u001b[0;31mTypeError\u001b[0m                                 Traceback (most recent call last)",
      "\u001b[0;32m<ipython-input-91-3b5152ad1934>\u001b[0m in \u001b[0;36m<module>\u001b[0;34m()\u001b[0m\n\u001b[1;32m      1\u001b[0m \u001b[0ma\u001b[0m \u001b[0;34m=\u001b[0m \u001b[0mrange\u001b[0m\u001b[0;34m(\u001b[0m\u001b[0;36m10\u001b[0m\u001b[0;34m)\u001b[0m\u001b[0;34m\u001b[0m\u001b[0m\n\u001b[0;32m----> 2\u001b[0;31m \u001b[0mnext\u001b[0m\u001b[0;34m(\u001b[0m\u001b[0ma\u001b[0m\u001b[0;34m)\u001b[0m\u001b[0;34m\u001b[0m\u001b[0m\n\u001b[0m",
      "\u001b[0;31mTypeError\u001b[0m: 'range' object is not an iterator"
     ]
    }
   ],
   "source": [
    "a = range(10)\n",
    "next(a)"
   ]
  },
  {
   "cell_type": "code",
   "execution_count": 92,
   "metadata": {},
   "outputs": [
    {
     "data": {
      "text/plain": [
       "0"
      ]
     },
     "execution_count": 92,
     "metadata": {},
     "output_type": "execute_result"
    }
   ],
   "source": [
    "a= iter(a)\n",
    "next(a)"
   ]
  },
  {
   "cell_type": "code",
   "execution_count": 93,
   "metadata": {},
   "outputs": [],
   "source": [
    "dic = dict(zip(d,c))"
   ]
  },
  {
   "cell_type": "code",
   "execution_count": 94,
   "metadata": {},
   "outputs": [
    {
     "data": {
      "text/plain": [
       "{'a': 1, 'b': 2, 'c': 3}"
      ]
     },
     "execution_count": 94,
     "metadata": {},
     "output_type": "execute_result"
    }
   ],
   "source": [
    "dic"
   ]
  },
  {
   "cell_type": "code",
   "execution_count": 95,
   "metadata": {},
   "outputs": [
    {
     "data": {
      "text/plain": [
       "['__add__',\n",
       " '__class__',\n",
       " '__contains__',\n",
       " '__delattr__',\n",
       " '__delitem__',\n",
       " '__dir__',\n",
       " '__doc__',\n",
       " '__eq__',\n",
       " '__format__',\n",
       " '__ge__',\n",
       " '__getattribute__',\n",
       " '__getitem__',\n",
       " '__gt__',\n",
       " '__hash__',\n",
       " '__iadd__',\n",
       " '__imul__',\n",
       " '__init__',\n",
       " '__init_subclass__',\n",
       " '__iter__',\n",
       " '__le__',\n",
       " '__len__',\n",
       " '__lt__',\n",
       " '__mul__',\n",
       " '__ne__',\n",
       " '__new__',\n",
       " '__reduce__',\n",
       " '__reduce_ex__',\n",
       " '__repr__',\n",
       " '__reversed__',\n",
       " '__rmul__',\n",
       " '__setattr__',\n",
       " '__setitem__',\n",
       " '__sizeof__',\n",
       " '__str__',\n",
       " '__subclasshook__',\n",
       " 'append',\n",
       " 'clear',\n",
       " 'copy',\n",
       " 'count',\n",
       " 'extend',\n",
       " 'index',\n",
       " 'insert',\n",
       " 'pop',\n",
       " 'remove',\n",
       " 'reverse',\n",
       " 'sort']"
      ]
     },
     "execution_count": 95,
     "metadata": {},
     "output_type": "execute_result"
    }
   ],
   "source": [
    "dir([])"
   ]
  },
  {
   "cell_type": "code",
   "execution_count": 96,
   "metadata": {},
   "outputs": [
    {
     "ename": "ModuleNotFoundError",
     "evalue": "No module named 'docstrings'",
     "output_type": "error",
     "traceback": [
      "\u001b[0;31m---------------------------------------------------------------------------\u001b[0m",
      "\u001b[0;31mModuleNotFoundError\u001b[0m                       Traceback (most recent call last)",
      "\u001b[0;32m<ipython-input-96-9ad1c2a4b702>\u001b[0m in \u001b[0;36m<module>\u001b[0;34m()\u001b[0m\n\u001b[0;32m----> 1\u001b[0;31m \u001b[0;32mimport\u001b[0m \u001b[0mdocstrings\u001b[0m\u001b[0;34m\u001b[0m\u001b[0m\n\u001b[0m",
      "\u001b[0;31mModuleNotFoundError\u001b[0m: No module named 'docstrings'"
     ]
    }
   ],
   "source": [
    "import docstrings\n"
   ]
  },
  {
   "cell_type": "code",
   "execution_count": 97,
   "metadata": {},
   "outputs": [
    {
     "ename": "AttributeError",
     "evalue": "type object 'str' has no attribute 'reverse'",
     "output_type": "error",
     "traceback": [
      "\u001b[0;31m---------------------------------------------------------------------------\u001b[0m",
      "\u001b[0;31mAttributeError\u001b[0m                            Traceback (most recent call last)",
      "\u001b[0;32m<ipython-input-97-39b9d5b32bf0>\u001b[0m in \u001b[0;36m<module>\u001b[0;34m()\u001b[0m\n\u001b[0;32m----> 1\u001b[0;31m \u001b[0mstr\u001b[0m\u001b[0;34m.\u001b[0m\u001b[0mreverse\u001b[0m\u001b[0;34m.\u001b[0m\u001b[0m__doc__\u001b[0m\u001b[0;34m\u001b[0m\u001b[0m\n\u001b[0m",
      "\u001b[0;31mAttributeError\u001b[0m: type object 'str' has no attribute 'reverse'"
     ]
    }
   ],
   "source": [
    "str.reverse.__doc__"
   ]
  },
  {
   "cell_type": "code",
   "execution_count": 98,
   "metadata": {},
   "outputs": [
    {
     "ename": "NameError",
     "evalue": "name 'sys' is not defined",
     "output_type": "error",
     "traceback": [
      "\u001b[0;31m---------------------------------------------------------------------------\u001b[0m",
      "\u001b[0;31mNameError\u001b[0m                                 Traceback (most recent call last)",
      "\u001b[0;32m<ipython-input-98-fdabde0a35d1>\u001b[0m in \u001b[0;36m<module>\u001b[0;34m()\u001b[0m\n\u001b[0;32m----> 1\u001b[0;31m \u001b[0msys\u001b[0m\u001b[0;34m.\u001b[0m\u001b[0m__doc__\u001b[0m\u001b[0;34m\u001b[0m\u001b[0m\n\u001b[0m",
      "\u001b[0;31mNameError\u001b[0m: name 'sys' is not defined"
     ]
    }
   ],
   "source": [
    "sys.__doc__"
   ]
  },
  {
   "cell_type": "code",
   "execution_count": 99,
   "metadata": {},
   "outputs": [],
   "source": [
    "import sys"
   ]
  },
  {
   "cell_type": "code",
   "execution_count": 101,
   "metadata": {},
   "outputs": [
    {
     "name": "stdout",
     "output_type": "stream",
     "text": [
      "This module provides access to some objects used or maintained by the\n",
      "interpreter and to functions that interact strongly with the interpreter.\n",
      "\n",
      "Dynamic objects:\n",
      "\n",
      "argv -- command line arguments; argv[0] is the script pathname if known\n",
      "path -- module search path; path[0] is the script directory, else ''\n",
      "modules -- dictionary of loaded modules\n",
      "\n",
      "displayhook -- called to show results in an interactive session\n",
      "excepthook -- called to handle any uncaught exception other than SystemExit\n",
      "  To customize printing in an interactive session or to install a custom\n",
      "  top-level exception handler, assign other functions to replace these.\n",
      "\n",
      "stdin -- standard input file object; used by input()\n",
      "stdout -- standard output file object; used by print()\n",
      "stderr -- standard error object; used for error messages\n",
      "  By assigning other file objects (or objects that behave like files)\n",
      "  to these, it is possible to redirect all of the interpreter's I/O.\n",
      "\n",
      "last_type -- type of last uncaught exception\n",
      "last_value -- value of last uncaught exception\n",
      "last_traceback -- traceback of last uncaught exception\n",
      "  These three are only available in an interactive session after a\n",
      "  traceback has been printed.\n",
      "\n",
      "Static objects:\n",
      "\n",
      "builtin_module_names -- tuple of module names built into this interpreter\n",
      "copyright -- copyright notice pertaining to this interpreter\n",
      "exec_prefix -- prefix used to find the machine-specific Python library\n",
      "executable -- absolute path of the executable binary of the Python interpreter\n",
      "float_info -- a struct sequence with information about the float implementation.\n",
      "float_repr_style -- string indicating the style of repr() output for floats\n",
      "hash_info -- a struct sequence with information about the hash algorithm.\n",
      "hexversion -- version information encoded as a single integer\n",
      "implementation -- Python implementation information.\n",
      "int_info -- a struct sequence with information about the int implementation.\n",
      "maxsize -- the largest supported length of containers.\n",
      "maxunicode -- the value of the largest Unicode code point\n",
      "platform -- platform identifier\n",
      "prefix -- prefix used to find the Python library\n",
      "thread_info -- a struct sequence with information about the thread implementation.\n",
      "version -- the version of this interpreter as a string\n",
      "version_info -- version information as a named tuple\n",
      "__stdin__ -- the original stdin; don't touch!\n",
      "__stdout__ -- the original stdout; don't touch!\n",
      "__stderr__ -- the original stderr; don't touch!\n",
      "__displayhook__ -- the original displayhook; don't touch!\n",
      "__excepthook__ -- the original excepthook; don't touch!\n",
      "\n",
      "Functions:\n",
      "\n",
      "displayhook() -- print an object to the screen, and save it in builtins._\n",
      "excepthook() -- print an exception and its traceback to sys.stderr\n",
      "exc_info() -- return thread-safe information about the current exception\n",
      "exit() -- exit the interpreter by raising SystemExit\n",
      "getdlopenflags() -- returns flags to be used for dlopen() calls\n",
      "getprofile() -- get the global profiling function\n",
      "getrefcount() -- return the reference count for an object (plus one :-)\n",
      "getrecursionlimit() -- return the max recursion depth for the interpreter\n",
      "getsizeof() -- return the size of an object in bytes\n",
      "gettrace() -- get the global debug tracing function\n",
      "setcheckinterval() -- control how often the interpreter checks for events\n",
      "setdlopenflags() -- set the flags to be used for dlopen() calls\n",
      "setprofile() -- set the global profiling function\n",
      "setrecursionlimit() -- set the max recursion depth for the interpreter\n",
      "settrace() -- set the global debug tracing function\n",
      "\n"
     ]
    }
   ],
   "source": [
    "print(sys.__doc__)"
   ]
  },
  {
   "cell_type": "code",
   "execution_count": 105,
   "metadata": {},
   "outputs": [
    {
     "data": {
      "text/plain": [
       "{1, 2, 3, 4}"
      ]
     },
     "execution_count": 105,
     "metadata": {},
     "output_type": "execute_result"
    }
   ],
   "source": [
    "{1,2,3}|{2,3,4}"
   ]
  },
  {
   "cell_type": "code",
   "execution_count": 106,
   "metadata": {},
   "outputs": [],
   "source": [
    "a = '123'\n",
    "a+='4'"
   ]
  },
  {
   "cell_type": "code",
   "execution_count": 107,
   "metadata": {},
   "outputs": [
    {
     "data": {
      "text/plain": [
       "'1234'"
      ]
     },
     "execution_count": 107,
     "metadata": {},
     "output_type": "execute_result"
    }
   ],
   "source": [
    "a"
   ]
  },
  {
   "cell_type": "code",
   "execution_count": 109,
   "metadata": {},
   "outputs": [],
   "source": [
    "def changea():\n",
    "    a = '234'\n",
    "changea()"
   ]
  },
  {
   "cell_type": "code",
   "execution_count": 110,
   "metadata": {},
   "outputs": [
    {
     "data": {
      "text/plain": [
       "'1234'"
      ]
     },
     "execution_count": 110,
     "metadata": {},
     "output_type": "execute_result"
    }
   ],
   "source": [
    "a"
   ]
  },
  {
   "cell_type": "code",
   "execution_count": 123,
   "metadata": {},
   "outputs": [
    {
     "data": {
      "text/plain": [
       "99"
      ]
     },
     "execution_count": 123,
     "metadata": {},
     "output_type": "execute_result"
    }
   ],
   "source": [
    "h = 99\n",
    "def changed():\n",
    "    global h\n",
    "    a = 1234\n",
    "changed()\n",
    "h"
   ]
  },
  {
   "cell_type": "code",
   "execution_count": 119,
   "metadata": {},
   "outputs": [
    {
     "data": {
      "text/plain": [
       "<zip at 0x1088da1c8>"
      ]
     },
     "execution_count": 119,
     "metadata": {},
     "output_type": "execute_result"
    }
   ],
   "source": [
    "import builtins\n",
    "a = [1,2,3]\n",
    "b = ['a','b','c']\n",
    "builtins.zip(b,a)"
   ]
  },
  {
   "cell_type": "code",
   "execution_count": 124,
   "metadata": {},
   "outputs": [
    {
     "data": {
      "text/plain": [
       "['__class__',\n",
       " '__contains__',\n",
       " '__delattr__',\n",
       " '__delitem__',\n",
       " '__dir__',\n",
       " '__doc__',\n",
       " '__eq__',\n",
       " '__format__',\n",
       " '__ge__',\n",
       " '__getattribute__',\n",
       " '__getitem__',\n",
       " '__gt__',\n",
       " '__hash__',\n",
       " '__init__',\n",
       " '__init_subclass__',\n",
       " '__iter__',\n",
       " '__le__',\n",
       " '__len__',\n",
       " '__lt__',\n",
       " '__ne__',\n",
       " '__new__',\n",
       " '__reduce__',\n",
       " '__reduce_ex__',\n",
       " '__repr__',\n",
       " '__setattr__',\n",
       " '__setitem__',\n",
       " '__sizeof__',\n",
       " '__str__',\n",
       " '__subclasshook__',\n",
       " 'clear',\n",
       " 'copy',\n",
       " 'fromkeys',\n",
       " 'get',\n",
       " 'items',\n",
       " 'keys',\n",
       " 'pop',\n",
       " 'popitem',\n",
       " 'setdefault',\n",
       " 'update',\n",
       " 'values']"
      ]
     },
     "execution_count": 124,
     "metadata": {},
     "output_type": "execute_result"
    }
   ],
   "source": [
    "dir(sys.modules)"
   ]
  },
  {
   "cell_type": "code",
   "execution_count": 125,
   "metadata": {},
   "outputs": [
    {
     "name": "stdout",
     "output_type": "stream",
     "text": [
      "88\n"
     ]
    }
   ],
   "source": [
    "X = 10\n",
    "def f1():\n",
    "    X = 88\n",
    "    def f2():\n",
    "        X = 100\n",
    "    print(X)\n",
    "    f2()\n",
    "f1()"
   ]
  },
  {
   "cell_type": "code",
   "execution_count": 1,
   "metadata": {},
   "outputs": [],
   "source": [
    "def make(N):\n",
    "    def action(X):\n",
    "        return X**N\n",
    "    return action"
   ]
  },
  {
   "cell_type": "code",
   "execution_count": 2,
   "metadata": {},
   "outputs": [
    {
     "ename": "SyntaxError",
     "evalue": "can't assign to operator (<ipython-input-2-ef396a324a61>, line 1)",
     "output_type": "error",
     "traceback": [
      "\u001b[0;36m  File \u001b[0;32m\"<ipython-input-2-ef396a324a61>\"\u001b[0;36m, line \u001b[0;32m1\u001b[0m\n\u001b[0;31m    (a,b/2)=(1,4)\u001b[0m\n\u001b[0m                 ^\u001b[0m\n\u001b[0;31mSyntaxError\u001b[0m\u001b[0;31m:\u001b[0m can't assign to operator\n"
     ]
    }
   ],
   "source": [
    "(a,b/2)=(1,4)"
   ]
  },
  {
   "cell_type": "code",
   "execution_count": 5,
   "metadata": {},
   "outputs": [],
   "source": [
    "act = []\n",
    "for i in range(5):\n",
    "    act.append((lambda x,i=i:x**i))\n",
    "    "
   ]
  },
  {
   "cell_type": "code",
   "execution_count": 6,
   "metadata": {},
   "outputs": [
    {
     "name": "stdout",
     "output_type": "stream",
     "text": [
      "[<function <lambda> at 0x108793ae8>, <function <lambda> at 0x108793d08>, <function <lambda> at 0x106623ae8>, <function <lambda> at 0x1087b2048>, <function <lambda> at 0x1087b20d0>]\n"
     ]
    }
   ],
   "source": [
    "print(act)"
   ]
  },
  {
   "cell_type": "code",
   "execution_count": 7,
   "metadata": {},
   "outputs": [
    {
     "data": {
      "text/plain": [
       "1"
      ]
     },
     "execution_count": 7,
     "metadata": {},
     "output_type": "execute_result"
    }
   ],
   "source": [
    "act[0](4)"
   ]
  },
  {
   "cell_type": "code",
   "execution_count": 8,
   "metadata": {},
   "outputs": [
    {
     "data": {
      "text/plain": [
       "4"
      ]
     },
     "execution_count": 8,
     "metadata": {},
     "output_type": "execute_result"
    }
   ],
   "source": [
    "act[1](4)"
   ]
  },
  {
   "cell_type": "code",
   "execution_count": 52,
   "metadata": {},
   "outputs": [],
   "source": [
    "def testers(start):\n",
    "    start=3\n",
    "\n"
   ]
  },
  {
   "cell_type": "code",
   "execution_count": 53,
   "metadata": {},
   "outputs": [],
   "source": [
    "a  =[1,2,3]\n",
    "testers(a)\n"
   ]
  },
  {
   "cell_type": "code",
   "execution_count": 54,
   "metadata": {},
   "outputs": [
    {
     "data": {
      "text/plain": [
       "[1, 2, 3]"
      ]
     },
     "execution_count": 54,
     "metadata": {},
     "output_type": "execute_result"
    }
   ],
   "source": [
    "a"
   ]
  },
  {
   "cell_type": "code",
   "execution_count": 42,
   "metadata": {},
   "outputs": [],
   "source": [
    "G = tester(6)"
   ]
  },
  {
   "cell_type": "code",
   "execution_count": 43,
   "metadata": {},
   "outputs": [
    {
     "name": "stdout",
     "output_type": "stream",
     "text": [
      "6 6\n"
     ]
    }
   ],
   "source": [
    "G(6)"
   ]
  },
  {
   "cell_type": "code",
   "execution_count": 44,
   "metadata": {},
   "outputs": [
    {
     "name": "stdout",
     "output_type": "stream",
     "text": [
      "7 7\n"
     ]
    }
   ],
   "source": [
    "G(7)"
   ]
  },
  {
   "cell_type": "code",
   "execution_count": 55,
   "metadata": {},
   "outputs": [],
   "source": [
    "def f(a,b,c):\n",
    "    print(a,b,c)\n",
    "    "
   ]
  },
  {
   "cell_type": "code",
   "execution_count": 57,
   "metadata": {},
   "outputs": [],
   "source": [
    "def f(a,b,*t,**d):\n",
    "    print(a,b,t,d)"
   ]
  },
  {
   "cell_type": "code",
   "execution_count": 58,
   "metadata": {},
   "outputs": [
    {
     "name": "stdout",
     "output_type": "stream",
     "text": [
      "1 2 (1, 2) {'x': 1, 'y': 2}\n"
     ]
    }
   ],
   "source": [
    "f(1,2,1,2,x=1,y=2)"
   ]
  },
  {
   "cell_type": "code",
   "execution_count": 59,
   "metadata": {},
   "outputs": [],
   "source": [
    "def g(a,*,b,d):\n",
    "    print(a,b,d)"
   ]
  },
  {
   "cell_type": "code",
   "execution_count": 62,
   "metadata": {},
   "outputs": [
    {
     "ename": "TypeError",
     "evalue": "g() takes 1 positional argument but 2 positional arguments (and 1 keyword-only argument) were given",
     "output_type": "error",
     "traceback": [
      "\u001b[0;31m---------------------------------------------------------------------------\u001b[0m",
      "\u001b[0;31mTypeError\u001b[0m                                 Traceback (most recent call last)",
      "\u001b[0;32m<ipython-input-62-8ce8ebc70b13>\u001b[0m in \u001b[0;36m<module>\u001b[0;34m()\u001b[0m\n\u001b[0;32m----> 1\u001b[0;31m \u001b[0mg\u001b[0m\u001b[0;34m(\u001b[0m\u001b[0;36m1\u001b[0m\u001b[0;34m,\u001b[0m\u001b[0;36m3\u001b[0m\u001b[0;34m,\u001b[0m\u001b[0md\u001b[0m\u001b[0;34m=\u001b[0m\u001b[0;36m4\u001b[0m\u001b[0;34m)\u001b[0m\u001b[0;34m\u001b[0m\u001b[0m\n\u001b[0m",
      "\u001b[0;31mTypeError\u001b[0m: g() takes 1 positional argument but 2 positional arguments (and 1 keyword-only argument) were given"
     ]
    }
   ],
   "source": [
    "g(1,3,d=4)"
   ]
  },
  {
   "cell_type": "code",
   "execution_count": 1,
   "metadata": {},
   "outputs": [],
   "source": [
    "def g(a,*,b,d):\n",
    "    print(a,b,d)"
   ]
  },
  {
   "cell_type": "code",
   "execution_count": 2,
   "metadata": {},
   "outputs": [
    {
     "data": {
      "text/plain": [
       "['__annotations__',\n",
       " '__call__',\n",
       " '__class__',\n",
       " '__closure__',\n",
       " '__code__',\n",
       " '__defaults__',\n",
       " '__delattr__',\n",
       " '__dict__',\n",
       " '__dir__',\n",
       " '__doc__',\n",
       " '__eq__',\n",
       " '__format__',\n",
       " '__ge__',\n",
       " '__get__',\n",
       " '__getattribute__',\n",
       " '__globals__',\n",
       " '__gt__',\n",
       " '__hash__',\n",
       " '__init__',\n",
       " '__init_subclass__',\n",
       " '__kwdefaults__',\n",
       " '__le__',\n",
       " '__lt__',\n",
       " '__module__',\n",
       " '__name__',\n",
       " '__ne__',\n",
       " '__new__',\n",
       " '__qualname__',\n",
       " '__reduce__',\n",
       " '__reduce_ex__',\n",
       " '__repr__',\n",
       " '__setattr__',\n",
       " '__sizeof__',\n",
       " '__str__',\n",
       " '__subclasshook__']"
      ]
     },
     "execution_count": 2,
     "metadata": {},
     "output_type": "execute_result"
    }
   ],
   "source": [
    "dir(g)"
   ]
  },
  {
   "cell_type": "code",
   "execution_count": 3,
   "metadata": {},
   "outputs": [],
   "source": [
    "g.a = 3"
   ]
  },
  {
   "cell_type": "code",
   "execution_count": 4,
   "metadata": {},
   "outputs": [
    {
     "data": {
      "text/plain": [
       "['__annotations__',\n",
       " '__call__',\n",
       " '__class__',\n",
       " '__closure__',\n",
       " '__code__',\n",
       " '__defaults__',\n",
       " '__delattr__',\n",
       " '__dict__',\n",
       " '__dir__',\n",
       " '__doc__',\n",
       " '__eq__',\n",
       " '__format__',\n",
       " '__ge__',\n",
       " '__get__',\n",
       " '__getattribute__',\n",
       " '__globals__',\n",
       " '__gt__',\n",
       " '__hash__',\n",
       " '__init__',\n",
       " '__init_subclass__',\n",
       " '__kwdefaults__',\n",
       " '__le__',\n",
       " '__lt__',\n",
       " '__module__',\n",
       " '__name__',\n",
       " '__ne__',\n",
       " '__new__',\n",
       " '__qualname__',\n",
       " '__reduce__',\n",
       " '__reduce_ex__',\n",
       " '__repr__',\n",
       " '__setattr__',\n",
       " '__sizeof__',\n",
       " '__str__',\n",
       " '__subclasshook__',\n",
       " 'a']"
      ]
     },
     "execution_count": 4,
     "metadata": {},
     "output_type": "execute_result"
    }
   ],
   "source": [
    "dir(g)"
   ]
  },
  {
   "cell_type": "code",
   "execution_count": 6,
   "metadata": {},
   "outputs": [],
   "source": [
    "def g(a:'spam'=4,b:3=5)->int:\n",
    "    print(a+b) "
   ]
  },
  {
   "cell_type": "code",
   "execution_count": 7,
   "metadata": {},
   "outputs": [
    {
     "name": "stdout",
     "output_type": "stream",
     "text": [
      "9\n"
     ]
    }
   ],
   "source": [
    "g()"
   ]
  },
  {
   "cell_type": "code",
   "execution_count": 8,
   "metadata": {},
   "outputs": [
    {
     "data": {
      "text/plain": [
       "{'a': 'spam', 'b': 3, 'return': int}"
      ]
     },
     "execution_count": 8,
     "metadata": {},
     "output_type": "execute_result"
    }
   ],
   "source": [
    "g.__annotations__"
   ]
  },
  {
   "cell_type": "markdown",
   "metadata": {},
   "source": [
    "行为列表"
   ]
  },
  {
   "cell_type": "code",
   "execution_count": 9,
   "metadata": {},
   "outputs": [],
   "source": [
    "def n_tims(num):\n",
    "    L = [lambda x:x,\n",
    "         lambda x:x**2,\n",
    "         lambda x:x**3,\n",
    "         lambda x:x**4]\n",
    "    for f in L:\n",
    "        print(f(num))"
   ]
  },
  {
   "cell_type": "code",
   "execution_count": 10,
   "metadata": {},
   "outputs": [
    {
     "name": "stdout",
     "output_type": "stream",
     "text": [
      "4\n",
      "16\n",
      "64\n",
      "256\n"
     ]
    }
   ],
   "source": [
    "n_tims(4)"
   ]
  },
  {
   "cell_type": "code",
   "execution_count": 13,
   "metadata": {},
   "outputs": [],
   "source": [
    "M = [[1,2,3],[4,5,6],[7,8,9]]\n",
    "N = [[x for x in range(3*y,3*y+3)] for y in range(3)]"
   ]
  },
  {
   "cell_type": "code",
   "execution_count": 14,
   "metadata": {},
   "outputs": [
    {
     "data": {
      "text/plain": [
       "[[0, 1, 2], [3, 4, 5], [6, 7, 8]]"
      ]
     },
     "execution_count": 14,
     "metadata": {},
     "output_type": "execute_result"
    }
   ],
   "source": [
    "N"
   ]
  },
  {
   "cell_type": "code",
   "execution_count": 38,
   "metadata": {},
   "outputs": [],
   "source": [
    "def gen(N):\n",
    "    for i in range(N):\n",
    "        i = yield i**2\n",
    "        print(\"print current i:\",i)"
   ]
  },
  {
   "cell_type": "code",
   "execution_count": 47,
   "metadata": {},
   "outputs": [],
   "source": [
    "g = gen(10)"
   ]
  },
  {
   "cell_type": "code",
   "execution_count": 48,
   "metadata": {},
   "outputs": [
    {
     "data": {
      "text/plain": [
       "0"
      ]
     },
     "execution_count": 48,
     "metadata": {},
     "output_type": "execute_result"
    }
   ],
   "source": [
    "next(g)"
   ]
  },
  {
   "cell_type": "code",
   "execution_count": 49,
   "metadata": {},
   "outputs": [
    {
     "name": "stdout",
     "output_type": "stream",
     "text": [
      "print current i: None\n"
     ]
    },
    {
     "data": {
      "text/plain": [
       "1"
      ]
     },
     "execution_count": 49,
     "metadata": {},
     "output_type": "execute_result"
    }
   ],
   "source": [
    "next(g)"
   ]
  },
  {
   "cell_type": "code",
   "execution_count": 50,
   "metadata": {},
   "outputs": [
    {
     "name": "stdout",
     "output_type": "stream",
     "text": [
      "print current i: None\n"
     ]
    },
    {
     "data": {
      "text/plain": [
       "4"
      ]
     },
     "execution_count": 50,
     "metadata": {},
     "output_type": "execute_result"
    }
   ],
   "source": [
    "next(g)"
   ]
  },
  {
   "cell_type": "code",
   "execution_count": 51,
   "metadata": {},
   "outputs": [
    {
     "name": "stdout",
     "output_type": "stream",
     "text": [
      "print current i: 5\n"
     ]
    },
    {
     "data": {
      "text/plain": [
       "9"
      ]
     },
     "execution_count": 51,
     "metadata": {},
     "output_type": "execute_result"
    }
   ],
   "source": [
    "g.send(5)"
   ]
  },
  {
   "cell_type": "code",
   "execution_count": 54,
   "metadata": {},
   "outputs": [
    {
     "name": "stdout",
     "output_type": "stream",
     "text": [
      "print current i: None\n"
     ]
    },
    {
     "data": {
      "text/plain": [
       "25"
      ]
     },
     "execution_count": 54,
     "metadata": {},
     "output_type": "execute_result"
    }
   ],
   "source": [
    "next(g)"
   ]
  },
  {
   "cell_type": "code",
   "execution_count": 55,
   "metadata": {},
   "outputs": [],
   "source": [
    "h = gen(10)"
   ]
  },
  {
   "cell_type": "code",
   "execution_count": 56,
   "metadata": {},
   "outputs": [
    {
     "data": {
      "text/plain": [
       "0"
      ]
     },
     "execution_count": 56,
     "metadata": {},
     "output_type": "execute_result"
    }
   ],
   "source": [
    "next(h)"
   ]
  },
  {
   "cell_type": "code",
   "execution_count": 57,
   "metadata": {},
   "outputs": [
    {
     "name": "stdout",
     "output_type": "stream",
     "text": [
      "print current i: None\n"
     ]
    },
    {
     "data": {
      "text/plain": [
       "36"
      ]
     },
     "execution_count": 57,
     "metadata": {},
     "output_type": "execute_result"
    }
   ],
   "source": [
    "next(g)"
   ]
  },
  {
   "cell_type": "code",
   "execution_count": 64,
   "metadata": {},
   "outputs": [],
   "source": [
    "G = (i**2 for i in range(3))"
   ]
  },
  {
   "cell_type": "code",
   "execution_count": 70,
   "metadata": {},
   "outputs": [
    {
     "ename": "StopIteration",
     "evalue": "",
     "output_type": "error",
     "traceback": [
      "\u001b[0;31m---------------------------------------------------------------------------\u001b[0m",
      "\u001b[0;31mStopIteration\u001b[0m                             Traceback (most recent call last)",
      "\u001b[0;32m<ipython-input-70-b4d1fcb0baf1>\u001b[0m in \u001b[0;36m<module>\u001b[0;34m()\u001b[0m\n\u001b[0;32m----> 1\u001b[0;31m \u001b[0mnext\u001b[0m\u001b[0;34m(\u001b[0m\u001b[0mG\u001b[0m\u001b[0;34m)\u001b[0m\u001b[0;34m\u001b[0m\u001b[0m\n\u001b[0m",
      "\u001b[0;31mStopIteration\u001b[0m: "
     ]
    }
   ],
   "source": [
    "next(G)"
   ]
  },
  {
   "cell_type": "code",
   "execution_count": 71,
   "metadata": {},
   "outputs": [],
   "source": [
    "g = iter(G)"
   ]
  },
  {
   "cell_type": "code",
   "execution_count": 72,
   "metadata": {},
   "outputs": [
    {
     "ename": "StopIteration",
     "evalue": "",
     "output_type": "error",
     "traceback": [
      "\u001b[0;31m---------------------------------------------------------------------------\u001b[0m",
      "\u001b[0;31mStopIteration\u001b[0m                             Traceback (most recent call last)",
      "\u001b[0;32m<ipython-input-72-e734f8aca5ac>\u001b[0m in \u001b[0;36m<module>\u001b[0;34m()\u001b[0m\n\u001b[0;32m----> 1\u001b[0;31m \u001b[0mnext\u001b[0m\u001b[0;34m(\u001b[0m\u001b[0mg\u001b[0m\u001b[0;34m)\u001b[0m\u001b[0;34m\u001b[0m\u001b[0m\n\u001b[0m",
      "\u001b[0;31mStopIteration\u001b[0m: "
     ]
    }
   ],
   "source": [
    "next(g)"
   ]
  },
  {
   "cell_type": "code",
   "execution_count": 62,
   "metadata": {},
   "outputs": [
    {
     "data": {
      "text/plain": [
       "True"
      ]
     },
     "execution_count": 62,
     "metadata": {},
     "output_type": "execute_result"
    }
   ],
   "source": [
    "G is iter(G)"
   ]
  },
  {
   "cell_type": "code",
   "execution_count": 78,
   "metadata": {},
   "outputs": [],
   "source": [
    "it = map(iter,[[1],[2],[3],[4]])"
   ]
  },
  {
   "cell_type": "code",
   "execution_count": 79,
   "metadata": {},
   "outputs": [
    {
     "data": {
      "text/plain": [
       "<map at 0x1088d9908>"
      ]
     },
     "execution_count": 79,
     "metadata": {},
     "output_type": "execute_result"
    }
   ],
   "source": [
    "it"
   ]
  },
  {
   "cell_type": "code",
   "execution_count": 80,
   "metadata": {},
   "outputs": [
    {
     "data": {
      "text/plain": [
       "[<list_iterator at 0x1088d99b0>,\n",
       " <list_iterator at 0x1088d9a58>,\n",
       " <list_iterator at 0x1088d94a8>,\n",
       " <list_iterator at 0x1088d9ac8>]"
      ]
     },
     "execution_count": 80,
     "metadata": {},
     "output_type": "execute_result"
    }
   ],
   "source": [
    "list(it)"
   ]
  },
  {
   "cell_type": "code",
   "execution_count": 81,
   "metadata": {},
   "outputs": [],
   "source": [
    "g = (i for i in range(5)if i %2==0)"
   ]
  },
  {
   "cell_type": "code",
   "execution_count": 85,
   "metadata": {},
   "outputs": [
    {
     "ename": "StopIteration",
     "evalue": "",
     "output_type": "error",
     "traceback": [
      "\u001b[0;31m---------------------------------------------------------------------------\u001b[0m",
      "\u001b[0;31mStopIteration\u001b[0m                             Traceback (most recent call last)",
      "\u001b[0;32m<ipython-input-85-e734f8aca5ac>\u001b[0m in \u001b[0;36m<module>\u001b[0;34m()\u001b[0m\n\u001b[0;32m----> 1\u001b[0;31m \u001b[0mnext\u001b[0m\u001b[0;34m(\u001b[0m\u001b[0mg\u001b[0m\u001b[0;34m)\u001b[0m\u001b[0;34m\u001b[0m\u001b[0m\n\u001b[0m",
      "\u001b[0;31mStopIteration\u001b[0m: "
     ]
    }
   ],
   "source": [
    "next(g)"
   ]
  },
  {
   "cell_type": "code",
   "execution_count": null,
   "metadata": {},
   "outputs": [],
   "source": [
    "%time\n",
    "list((i for i in range(int(1e10))))"
   ]
  },
  {
   "cell_type": "code",
   "execution_count": 93,
   "metadata": {},
   "outputs": [],
   "source": [
    "def f(b,a = []):\n",
    "    a.append(b)\n",
    "    print(a)"
   ]
  },
  {
   "cell_type": "code",
   "execution_count": 91,
   "metadata": {},
   "outputs": [
    {
     "data": {
      "text/plain": [
       "'<function f at 0x1088b29d8>'"
      ]
     },
     "execution_count": 91,
     "metadata": {},
     "output_type": "execute_result"
    }
   ],
   "source": [
    "repr(f)"
   ]
  },
  {
   "cell_type": "code",
   "execution_count": 94,
   "metadata": {},
   "outputs": [],
   "source": [
    "b={'a':'a'}"
   ]
  },
  {
   "cell_type": "code",
   "execution_count": 96,
   "metadata": {},
   "outputs": [
    {
     "data": {
      "text/plain": [
       "'a'"
      ]
     },
     "execution_count": 96,
     "metadata": {},
     "output_type": "execute_result"
    }
   ],
   "source": [
    "b['a']"
   ]
  },
  {
   "cell_type": "code",
   "execution_count": 97,
   "metadata": {},
   "outputs": [
    {
     "name": "stdout",
     "output_type": "stream",
     "text": [
      "{'builtins': <module 'builtins' (built-in)>, 'sys': <module 'sys' (built-in)>, '_frozen_importlib': <module 'importlib._bootstrap' (frozen)>, '_imp': <module '_imp' (built-in)>, '_warnings': <module '_warnings' (built-in)>, '_thread': <module '_thread' (built-in)>, '_weakref': <module '_weakref' (built-in)>, '_frozen_importlib_external': <module 'importlib._bootstrap_external' (frozen)>, '_io': <module 'io' (built-in)>, 'marshal': <module 'marshal' (built-in)>, 'posix': <module 'posix' (built-in)>, 'zipimport': <module 'zipimport' (built-in)>, 'encodings': <module 'encodings' from '/Library/Frameworks/Python.framework/Versions/3.6/lib/python3.6/encodings/__init__.py'>, 'codecs': <module 'codecs' from '/Library/Frameworks/Python.framework/Versions/3.6/lib/python3.6/codecs.py'>, '_codecs': <module '_codecs' (built-in)>, 'encodings.aliases': <module 'encodings.aliases' from '/Library/Frameworks/Python.framework/Versions/3.6/lib/python3.6/encodings/aliases.py'>, 'encodings.utf_8': <module 'encodings.utf_8' from '/Library/Frameworks/Python.framework/Versions/3.6/lib/python3.6/encodings/utf_8.py'>, '_signal': <module '_signal' (built-in)>, '__main__': <module '__main__'>, 'encodings.latin_1': <module 'encodings.latin_1' from '/Library/Frameworks/Python.framework/Versions/3.6/lib/python3.6/encodings/latin_1.py'>, 'io': <module 'io' from '/Library/Frameworks/Python.framework/Versions/3.6/lib/python3.6/io.py'>, 'abc': <module 'abc' from '/Library/Frameworks/Python.framework/Versions/3.6/lib/python3.6/abc.py'>, '_weakrefset': <module '_weakrefset' from '/Library/Frameworks/Python.framework/Versions/3.6/lib/python3.6/_weakrefset.py'>, '_bootlocale': <module '_bootlocale' from '/Library/Frameworks/Python.framework/Versions/3.6/lib/python3.6/_bootlocale.py'>, '_locale': <module '_locale' (built-in)>, 'site': <module 'site' from '/Library/Frameworks/Python.framework/Versions/3.6/lib/python3.6/site.py'>, 'os': <module 'os' from '/Library/Frameworks/Python.framework/Versions/3.6/lib/python3.6/os.py'>, 'errno': <module 'errno' (built-in)>, 'stat': <module 'stat' from '/Library/Frameworks/Python.framework/Versions/3.6/lib/python3.6/stat.py'>, '_stat': <module '_stat' (built-in)>, 'posixpath': <module 'posixpath' from '/Library/Frameworks/Python.framework/Versions/3.6/lib/python3.6/posixpath.py'>, 'genericpath': <module 'genericpath' from '/Library/Frameworks/Python.framework/Versions/3.6/lib/python3.6/genericpath.py'>, 'os.path': <module 'posixpath' from '/Library/Frameworks/Python.framework/Versions/3.6/lib/python3.6/posixpath.py'>, '_collections_abc': <module '_collections_abc' from '/Library/Frameworks/Python.framework/Versions/3.6/lib/python3.6/_collections_abc.py'>, '_sitebuiltins': <module '_sitebuiltins' from '/Library/Frameworks/Python.framework/Versions/3.6/lib/python3.6/_sitebuiltins.py'>, 'sysconfig': <module 'sysconfig' from '/Library/Frameworks/Python.framework/Versions/3.6/lib/python3.6/sysconfig.py'>, '_sysconfigdata_m_darwin_darwin': <module '_sysconfigdata_m_darwin_darwin' from '/Library/Frameworks/Python.framework/Versions/3.6/lib/python3.6/_sysconfigdata_m_darwin_darwin.py'>, '_osx_support': <module '_osx_support' from '/Library/Frameworks/Python.framework/Versions/3.6/lib/python3.6/_osx_support.py'>, 're': <module 're' from '/Library/Frameworks/Python.framework/Versions/3.6/lib/python3.6/re.py'>, 'enum': <module 'enum' from '/Library/Frameworks/Python.framework/Versions/3.6/lib/python3.6/enum.py'>, 'types': <module 'types' from '/Library/Frameworks/Python.framework/Versions/3.6/lib/python3.6/types.py'>, 'functools': <module 'functools' from '/Library/Frameworks/Python.framework/Versions/3.6/lib/python3.6/functools.py'>, '_functools': <module '_functools' (built-in)>, 'collections': <module 'collections' from '/Library/Frameworks/Python.framework/Versions/3.6/lib/python3.6/collections/__init__.py'>, 'operator': <module 'operator' from '/Library/Frameworks/Python.framework/Versions/3.6/lib/python3.6/operator.py'>, '_operator': <module '_operator' (built-in)>, 'keyword': <module 'keyword' from '/Library/Frameworks/Python.framework/Versions/3.6/lib/python3.6/keyword.py'>, 'heapq': <module 'heapq' from '/Library/Frameworks/Python.framework/Versions/3.6/lib/python3.6/heapq.py'>, '_heapq': <module '_heapq' from '/Library/Frameworks/Python.framework/Versions/3.6/lib/python3.6/lib-dynload/_heapq.cpython-36m-darwin.so'>, 'itertools': <module 'itertools' (built-in)>, 'reprlib': <module 'reprlib' from '/Library/Frameworks/Python.framework/Versions/3.6/lib/python3.6/reprlib.py'>, '_collections': <module '_collections' (built-in)>, 'weakref': <module 'weakref' from '/Library/Frameworks/Python.framework/Versions/3.6/lib/python3.6/weakref.py'>, 'collections.abc': <module 'collections.abc' from '/Library/Frameworks/Python.framework/Versions/3.6/lib/python3.6/collections/abc.py'>, 'sre_compile': <module 'sre_compile' from '/Library/Frameworks/Python.framework/Versions/3.6/lib/python3.6/sre_compile.py'>, '_sre': <module '_sre' (built-in)>, 'sre_parse': <module 'sre_parse' from '/Library/Frameworks/Python.framework/Versions/3.6/lib/python3.6/sre_parse.py'>, 'sre_constants': <module 'sre_constants' from '/Library/Frameworks/Python.framework/Versions/3.6/lib/python3.6/sre_constants.py'>, 'copyreg': <module 'copyreg' from '/Library/Frameworks/Python.framework/Versions/3.6/lib/python3.6/copyreg.py'>, 'importlib': <module 'importlib' from '/Library/Frameworks/Python.framework/Versions/3.6/lib/python3.6/importlib/__init__.py'>, 'importlib._bootstrap': <module 'importlib._bootstrap' (frozen)>, 'importlib._bootstrap_external': <module 'importlib._bootstrap_external' (frozen)>, 'warnings': <module 'warnings' from '/Library/Frameworks/Python.framework/Versions/3.6/lib/python3.6/warnings.py'>, 'importlib.util': <module 'importlib.util' from '/Library/Frameworks/Python.framework/Versions/3.6/lib/python3.6/importlib/util.py'>, 'importlib.abc': <module 'importlib.abc' from '/Library/Frameworks/Python.framework/Versions/3.6/lib/python3.6/importlib/abc.py'>, 'importlib.machinery': <module 'importlib.machinery' from '/Library/Frameworks/Python.framework/Versions/3.6/lib/python3.6/importlib/machinery.py'>, 'contextlib': <module 'contextlib' from '/Library/Frameworks/Python.framework/Versions/3.6/lib/python3.6/contextlib.py'>, 'mpl_toolkits': <module 'mpl_toolkits' (namespace)>, 'google': <module 'google' from '/Library/Frameworks/Python.framework/Versions/3.6/lib/python3.6/site-packages/google/__init__.py'>, 'runpy': <module 'runpy' from '/Library/Frameworks/Python.framework/Versions/3.6/lib/python3.6/runpy.py'>, 'pkgutil': <module 'pkgutil' from '/Library/Frameworks/Python.framework/Versions/3.6/lib/python3.6/pkgutil.py'>, 'ipykernel': <module 'ipykernel' from '/Users/fufeidu/Library/Python/3.6/lib/python/site-packages/ipykernel/__init__.py'>, 'ipykernel._version': <module 'ipykernel._version' from '/Users/fufeidu/Library/Python/3.6/lib/python/site-packages/ipykernel/_version.py'>, 'ipykernel.connect': <module 'ipykernel.connect' from '/Users/fufeidu/Library/Python/3.6/lib/python/site-packages/ipykernel/connect.py'>, '__future__': <module '__future__' from '/Library/Frameworks/Python.framework/Versions/3.6/lib/python3.6/__future__.py'>, 'json': <module 'json' from '/Library/Frameworks/Python.framework/Versions/3.6/lib/python3.6/json/__init__.py'>, 'json.decoder': <module 'json.decoder' from '/Library/Frameworks/Python.framework/Versions/3.6/lib/python3.6/json/decoder.py'>, 'json.scanner': <module 'json.scanner' from '/Library/Frameworks/Python.framework/Versions/3.6/lib/python3.6/json/scanner.py'>, '_json': <module '_json' from '/Library/Frameworks/Python.framework/Versions/3.6/lib/python3.6/lib-dynload/_json.cpython-36m-darwin.so'>, 'json.encoder': <module 'json.encoder' from '/Library/Frameworks/Python.framework/Versions/3.6/lib/python3.6/json/encoder.py'>, 'subprocess': <module 'subprocess' from '/Library/Frameworks/Python.framework/Versions/3.6/lib/python3.6/subprocess.py'>, 'time': <module 'time' (built-in)>, 'signal': <module 'signal' from '/Library/Frameworks/Python.framework/Versions/3.6/lib/python3.6/signal.py'>, '_posixsubprocess': <module '_posixsubprocess' from '/Library/Frameworks/Python.framework/Versions/3.6/lib/python3.6/lib-dynload/_posixsubprocess.cpython-36m-darwin.so'>, 'select': <module 'select' from '/Library/Frameworks/Python.framework/Versions/3.6/lib/python3.6/lib-dynload/select.cpython-36m-darwin.so'>, 'selectors': <module 'selectors' from '/Library/Frameworks/Python.framework/Versions/3.6/lib/python3.6/selectors.py'>, 'math': <module 'math' from '/Library/Frameworks/Python.framework/Versions/3.6/lib/python3.6/lib-dynload/math.cpython-36m-darwin.so'>, 'threading': <module 'threading' from '/Library/Frameworks/Python.framework/Versions/3.6/lib/python3.6/threading.py'>, 'traceback': <module 'traceback' from '/Library/Frameworks/Python.framework/Versions/3.6/lib/python3.6/traceback.py'>, 'linecache': <module 'linecache' from '/Library/Frameworks/Python.framework/Versions/3.6/lib/python3.6/linecache.py'>, 'tokenize': <module 'tokenize' from '/Library/Frameworks/Python.framework/Versions/3.6/lib/python3.6/tokenize.py'>, 'token': <module 'token' from '/Library/Frameworks/Python.framework/Versions/3.6/lib/python3.6/token.py'>, 'IPython': <module 'IPython' from '/Users/fufeidu/Library/Python/3.6/lib/python/site-packages/IPython/__init__.py'>, 'IPython.core': <module 'IPython.core' from '/Users/fufeidu/Library/Python/3.6/lib/python/site-packages/IPython/core/__init__.py'>, 'IPython.core.getipython': <module 'IPython.core.getipython' from '/Users/fufeidu/Library/Python/3.6/lib/python/site-packages/IPython/core/getipython.py'>, 'IPython.core.release': <module 'IPython.core.release' from '/Users/fufeidu/Library/Python/3.6/lib/python/site-packages/IPython/core/release.py'>, 'IPython.core.application': <module 'IPython.core.application' from '/Users/fufeidu/Library/Python/3.6/lib/python/site-packages/IPython/core/application.py'>, 'atexit': <module 'atexit' (built-in)>, 'copy': <module 'copy' from '/Library/Frameworks/Python.framework/Versions/3.6/lib/python3.6/copy.py'>, 'glob': <module 'glob' from '/Library/Frameworks/Python.framework/Versions/3.6/lib/python3.6/glob.py'>, 'fnmatch': <module 'fnmatch' from '/Library/Frameworks/Python.framework/Versions/3.6/lib/python3.6/fnmatch.py'>, 'logging': <module 'logging' from '/Library/Frameworks/Python.framework/Versions/3.6/lib/python3.6/logging/__init__.py'>, 'string': <module 'string' from '/Library/Frameworks/Python.framework/Versions/3.6/lib/python3.6/string.py'>, '_string': <module '_string' (built-in)>, 'shutil': <module 'shutil' from '/Library/Frameworks/Python.framework/Versions/3.6/lib/python3.6/shutil.py'>, 'zlib': <module 'zlib' from '/Library/Frameworks/Python.framework/Versions/3.6/lib/python3.6/lib-dynload/zlib.cpython-36m-darwin.so'>, 'bz2': <module 'bz2' from '/Library/Frameworks/Python.framework/Versions/3.6/lib/python3.6/bz2.py'>, '_compression': <module '_compression' from '/Library/Frameworks/Python.framework/Versions/3.6/lib/python3.6/_compression.py'>, '_bz2': <module '_bz2' from '/Library/Frameworks/Python.framework/Versions/3.6/lib/python3.6/lib-dynload/_bz2.cpython-36m-darwin.so'>, 'lzma': <module 'lzma' from '/Library/Frameworks/Python.framework/Versions/3.6/lib/python3.6/lzma.py'>, '_lzma': <module '_lzma' from '/Library/Frameworks/Python.framework/Versions/3.6/lib/python3.6/lib-dynload/_lzma.cpython-36m-darwin.so'>, 'pwd': <module 'pwd' (built-in)>, 'grp': <module 'grp' from '/Library/Frameworks/Python.framework/Versions/3.6/lib/python3.6/lib-dynload/grp.cpython-36m-darwin.so'>, 'traitlets': <module 'traitlets' from '/Users/fufeidu/Library/Python/3.6/lib/python/site-packages/traitlets/__init__.py'>, 'traitlets.traitlets': <module 'traitlets.traitlets' from '/Users/fufeidu/Library/Python/3.6/lib/python/site-packages/traitlets/traitlets.py'>, 'inspect': <module 'inspect' from '/Library/Frameworks/Python.framework/Versions/3.6/lib/python3.6/inspect.py'>, 'ast': <module 'ast' from '/Library/Frameworks/Python.framework/Versions/3.6/lib/python3.6/ast.py'>, '_ast': <module '_ast' (built-in)>, 'dis': <module 'dis' from '/Library/Frameworks/Python.framework/Versions/3.6/lib/python3.6/dis.py'>, 'opcode': <module 'opcode' from '/Library/Frameworks/Python.framework/Versions/3.6/lib/python3.6/opcode.py'>, '_opcode': <module '_opcode' from '/Library/Frameworks/Python.framework/Versions/3.6/lib/python3.6/lib-dynload/_opcode.cpython-36m-darwin.so'>, 'six': <module 'six' from '/Library/Frameworks/Python.framework/Versions/3.6/lib/python3.6/site-packages/six.py'>, 'struct': <module 'struct' from '/Library/Frameworks/Python.framework/Versions/3.6/lib/python3.6/struct.py'>, '_struct': <module '_struct' from '/Library/Frameworks/Python.framework/Versions/3.6/lib/python3.6/lib-dynload/_struct.cpython-36m-darwin.so'>, 'traitlets.utils': <module 'traitlets.utils' from '/Users/fufeidu/Library/Python/3.6/lib/python/site-packages/traitlets/utils/__init__.py'>, 'traitlets.utils.getargspec': <module 'traitlets.utils.getargspec' from '/Users/fufeidu/Library/Python/3.6/lib/python/site-packages/traitlets/utils/getargspec.py'>, 'traitlets.utils.importstring': <module 'traitlets.utils.importstring' from '/Users/fufeidu/Library/Python/3.6/lib/python/site-packages/traitlets/utils/importstring.py'>, 'ipython_genutils': <module 'ipython_genutils' from '/Users/fufeidu/Library/Python/3.6/lib/python/site-packages/ipython_genutils/__init__.py'>, 'ipython_genutils._version': <module 'ipython_genutils._version' from '/Users/fufeidu/Library/Python/3.6/lib/python/site-packages/ipython_genutils/_version.py'>, 'ipython_genutils.py3compat': <module 'ipython_genutils.py3compat' from '/Users/fufeidu/Library/Python/3.6/lib/python/site-packages/ipython_genutils/py3compat.py'>, 'ipython_genutils.encoding': <module 'ipython_genutils.encoding' from '/Users/fufeidu/Library/Python/3.6/lib/python/site-packages/ipython_genutils/encoding.py'>, 'locale': <module 'locale' from '/Library/Frameworks/Python.framework/Versions/3.6/lib/python3.6/locale.py'>, 'platform': <module 'platform' from '/Library/Frameworks/Python.framework/Versions/3.6/lib/python3.6/platform.py'>, 'traitlets.utils.sentinel': <module 'traitlets.utils.sentinel' from '/Users/fufeidu/Library/Python/3.6/lib/python/site-packages/traitlets/utils/sentinel.py'>, 'traitlets.utils.bunch': <module 'traitlets.utils.bunch' from '/Users/fufeidu/Library/Python/3.6/lib/python/site-packages/traitlets/utils/bunch.py'>, 'traitlets._version': <module 'traitlets._version' from '/Users/fufeidu/Library/Python/3.6/lib/python/site-packages/traitlets/_version.py'>, 'traitlets.config': <module 'traitlets.config' from '/Users/fufeidu/Library/Python/3.6/lib/python/site-packages/traitlets/config/__init__.py'>, 'traitlets.config.application': <module 'traitlets.config.application' from '/Users/fufeidu/Library/Python/3.6/lib/python/site-packages/traitlets/config/application.py'>, 'decorator': <module 'decorator' from '/Users/fufeidu/Library/Python/3.6/lib/python/site-packages/decorator.py'>, 'traitlets.config.configurable': <module 'traitlets.config.configurable' from '/Users/fufeidu/Library/Python/3.6/lib/python/site-packages/traitlets/config/configurable.py'>, 'traitlets.config.loader': <module 'traitlets.config.loader' from '/Users/fufeidu/Library/Python/3.6/lib/python/site-packages/traitlets/config/loader.py'>, 'argparse': <module 'argparse' from '/Library/Frameworks/Python.framework/Versions/3.6/lib/python3.6/argparse.py'>, 'textwrap': <module 'textwrap' from '/Library/Frameworks/Python.framework/Versions/3.6/lib/python3.6/textwrap.py'>, 'gettext': <module 'gettext' from '/Library/Frameworks/Python.framework/Versions/3.6/lib/python3.6/gettext.py'>, 'ipython_genutils.path': <module 'ipython_genutils.path' from '/Users/fufeidu/Library/Python/3.6/lib/python/site-packages/ipython_genutils/path.py'>, 'random': <module 'random' from '/Library/Frameworks/Python.framework/Versions/3.6/lib/python3.6/random.py'>, 'hashlib': <module 'hashlib' from '/Library/Frameworks/Python.framework/Versions/3.6/lib/python3.6/hashlib.py'>, '_hashlib': <module '_hashlib' from '/Library/Frameworks/Python.framework/Versions/3.6/lib/python3.6/lib-dynload/_hashlib.cpython-36m-darwin.so'>, '_blake2': <module '_blake2' from '/Library/Frameworks/Python.framework/Versions/3.6/lib/python3.6/lib-dynload/_blake2.cpython-36m-darwin.so'>, '_sha3': <module '_sha3' from '/Library/Frameworks/Python.framework/Versions/3.6/lib/python3.6/lib-dynload/_sha3.cpython-36m-darwin.so'>, 'bisect': <module 'bisect' from '/Library/Frameworks/Python.framework/Versions/3.6/lib/python3.6/bisect.py'>, '_bisect': <module '_bisect' from '/Library/Frameworks/Python.framework/Versions/3.6/lib/python3.6/lib-dynload/_bisect.cpython-36m-darwin.so'>, '_random': <module '_random' from '/Library/Frameworks/Python.framework/Versions/3.6/lib/python3.6/lib-dynload/_random.cpython-36m-darwin.so'>, 'ipython_genutils.text': <module 'ipython_genutils.text' from '/Users/fufeidu/Library/Python/3.6/lib/python/site-packages/ipython_genutils/text.py'>, 'ipython_genutils.importstring': <module 'ipython_genutils.importstring' from '/Users/fufeidu/Library/Python/3.6/lib/python/site-packages/ipython_genutils/importstring.py'>, 'IPython.core.crashhandler': <module 'IPython.core.crashhandler' from '/Users/fufeidu/Library/Python/3.6/lib/python/site-packages/IPython/core/crashhandler.py'>, 'pprint': <module 'pprint' from '/Library/Frameworks/Python.framework/Versions/3.6/lib/python3.6/pprint.py'>, 'IPython.core.ultratb': <module 'IPython.core.ultratb' from '/Users/fufeidu/Library/Python/3.6/lib/python/site-packages/IPython/core/ultratb.py'>, 'pydoc': <module 'pydoc' from '/Library/Frameworks/Python.framework/Versions/3.6/lib/python3.6/pydoc.py'>, 'urllib': <module 'urllib' from '/Library/Frameworks/Python.framework/Versions/3.6/lib/python3.6/urllib/__init__.py'>, 'urllib.parse': <module 'urllib.parse' from '/Library/Frameworks/Python.framework/Versions/3.6/lib/python3.6/urllib/parse.py'>, 'IPython.core.debugger': <module 'IPython.core.debugger' from '/Users/fufeidu/Library/Python/3.6/lib/python/site-packages/IPython/core/debugger.py'>, 'bdb': <module 'bdb' from '/Library/Frameworks/Python.framework/Versions/3.6/lib/python3.6/bdb.py'>, 'IPython.utils': <module 'IPython.utils' from '/Users/fufeidu/Library/Python/3.6/lib/python/site-packages/IPython/utils/__init__.py'>, 'IPython.utils.PyColorize': <module 'IPython.utils.PyColorize' from '/Users/fufeidu/Library/Python/3.6/lib/python/site-packages/IPython/utils/PyColorize.py'>, 'IPython.utils.coloransi': <module 'IPython.utils.coloransi' from '/Users/fufeidu/Library/Python/3.6/lib/python/site-packages/IPython/utils/coloransi.py'>, 'IPython.utils.ipstruct': <module 'IPython.utils.ipstruct' from '/Users/fufeidu/Library/Python/3.6/lib/python/site-packages/IPython/utils/ipstruct.py'>, 'IPython.utils.colorable': <module 'IPython.utils.colorable' from '/Users/fufeidu/Library/Python/3.6/lib/python/site-packages/IPython/utils/colorable.py'>, 'pygments': <module 'pygments' from '/Users/fufeidu/Library/Python/3.6/lib/python/site-packages/pygments/__init__.py'>, 'pygments.util': <module 'pygments.util' from '/Users/fufeidu/Library/Python/3.6/lib/python/site-packages/pygments/util.py'>, 'IPython.utils.py3compat': <module 'IPython.utils.py3compat' from '/Users/fufeidu/Library/Python/3.6/lib/python/site-packages/IPython/utils/py3compat.py'>, 'IPython.utils.encoding': <module 'IPython.utils.encoding' from '/Users/fufeidu/Library/Python/3.6/lib/python/site-packages/IPython/utils/encoding.py'>, 'IPython.core.excolors': <module 'IPython.core.excolors' from '/Users/fufeidu/Library/Python/3.6/lib/python/site-packages/IPython/core/excolors.py'>, 'IPython.testing': <module 'IPython.testing' from '/Users/fufeidu/Library/Python/3.6/lib/python/site-packages/IPython/testing/__init__.py'>, 'IPython.testing.skipdoctest': <module 'IPython.testing.skipdoctest' from '/Users/fufeidu/Library/Python/3.6/lib/python/site-packages/IPython/testing/skipdoctest.py'>, 'pdb': <module 'pdb' from '/Library/Frameworks/Python.framework/Versions/3.6/lib/python3.6/pdb.py'>, 'cmd': <module 'cmd' from '/Library/Frameworks/Python.framework/Versions/3.6/lib/python3.6/cmd.py'>, 'code': <module 'code' from '/Library/Frameworks/Python.framework/Versions/3.6/lib/python3.6/code.py'>, 'codeop': <module 'codeop' from '/Library/Frameworks/Python.framework/Versions/3.6/lib/python3.6/codeop.py'>, 'IPython.core.display_trap': <module 'IPython.core.display_trap' from '/Users/fufeidu/Library/Python/3.6/lib/python/site-packages/IPython/core/display_trap.py'>, 'IPython.utils.openpy': <module 'IPython.utils.openpy' from '/Users/fufeidu/Library/Python/3.6/lib/python/site-packages/IPython/utils/openpy.py'>, 'IPython.utils.path': <module 'IPython.utils.path' from '/Users/fufeidu/Library/Python/3.6/lib/python/site-packages/IPython/utils/path.py'>, 'IPython.utils.process': <module 'IPython.utils.process' from '/Users/fufeidu/Library/Python/3.6/lib/python/site-packages/IPython/utils/process.py'>, 'IPython.utils._process_posix': <module 'IPython.utils._process_posix' from '/Users/fufeidu/Library/Python/3.6/lib/python/site-packages/IPython/utils/_process_posix.py'>, 'pexpect': <module 'pexpect' from '/Users/fufeidu/Library/Python/3.6/lib/python/site-packages/pexpect/__init__.py'>, 'pexpect.exceptions': <module 'pexpect.exceptions' from '/Users/fufeidu/Library/Python/3.6/lib/python/site-packages/pexpect/exceptions.py'>, 'pexpect.utils': <module 'pexpect.utils' from '/Users/fufeidu/Library/Python/3.6/lib/python/site-packages/pexpect/utils.py'>, 'pexpect.expect': <module 'pexpect.expect' from '/Users/fufeidu/Library/Python/3.6/lib/python/site-packages/pexpect/expect.py'>, 'pexpect.pty_spawn': <module 'pexpect.pty_spawn' from '/Users/fufeidu/Library/Python/3.6/lib/python/site-packages/pexpect/pty_spawn.py'>, 'pty': <module 'pty' from '/Library/Frameworks/Python.framework/Versions/3.6/lib/python3.6/pty.py'>, 'tty': <module 'tty' from '/Library/Frameworks/Python.framework/Versions/3.6/lib/python3.6/tty.py'>, 'termios': <module 'termios' from '/Library/Frameworks/Python.framework/Versions/3.6/lib/python3.6/lib-dynload/termios.cpython-36m-darwin.so'>, 'ptyprocess': <module 'ptyprocess' from '/Users/fufeidu/Library/Python/3.6/lib/python/site-packages/ptyprocess/__init__.py'>, 'ptyprocess.ptyprocess': <module 'ptyprocess.ptyprocess' from '/Users/fufeidu/Library/Python/3.6/lib/python/site-packages/ptyprocess/ptyprocess.py'>, 'fcntl': <module 'fcntl' from '/Library/Frameworks/Python.framework/Versions/3.6/lib/python3.6/lib-dynload/fcntl.cpython-36m-darwin.so'>, 'resource': <module 'resource' from '/Library/Frameworks/Python.framework/Versions/3.6/lib/python3.6/lib-dynload/resource.cpython-36m-darwin.so'>, 'ptyprocess.util': <module 'ptyprocess.util' from '/Users/fufeidu/Library/Python/3.6/lib/python/site-packages/ptyprocess/util.py'>, 'pexpect.spawnbase': <module 'pexpect.spawnbase' from '/Users/fufeidu/Library/Python/3.6/lib/python/site-packages/pexpect/spawnbase.py'>, 'pexpect.run': <module 'pexpect.run' from '/Users/fufeidu/Library/Python/3.6/lib/python/site-packages/pexpect/run.py'>, 'IPython.utils._process_common': <module 'IPython.utils._process_common' from '/Users/fufeidu/Library/Python/3.6/lib/python/site-packages/IPython/utils/_process_common.py'>, 'shlex': <module 'shlex' from '/Library/Frameworks/Python.framework/Versions/3.6/lib/python3.6/shlex.py'>, 'IPython.utils.decorators': <module 'IPython.utils.decorators' from '/Users/fufeidu/Library/Python/3.6/lib/python/site-packages/IPython/utils/decorators.py'>, 'IPython.utils.data': <module 'IPython.utils.data' from '/Users/fufeidu/Library/Python/3.6/lib/python/site-packages/IPython/utils/data.py'>, 'IPython.utils.terminal': <module 'IPython.utils.terminal' from '/Users/fufeidu/Library/Python/3.6/lib/python/site-packages/IPython/utils/terminal.py'>, 'IPython.utils.sysinfo': <module 'IPython.utils.sysinfo' from '/Users/fufeidu/Library/Python/3.6/lib/python/site-packages/IPython/utils/sysinfo.py'>, 'IPython.utils._sysinfo': <module 'IPython.utils._sysinfo' from '/Users/fufeidu/Library/Python/3.6/lib/python/site-packages/IPython/utils/_sysinfo.py'>, 'IPython.core.profiledir': <module 'IPython.core.profiledir' from '/Users/fufeidu/Library/Python/3.6/lib/python/site-packages/IPython/core/profiledir.py'>, 'IPython.paths': <module 'IPython.paths' from '/Users/fufeidu/Library/Python/3.6/lib/python/site-packages/IPython/paths.py'>, 'tempfile': <module 'tempfile' from '/Library/Frameworks/Python.framework/Versions/3.6/lib/python3.6/tempfile.py'>, 'IPython.utils.importstring': <module 'IPython.utils.importstring' from '/Users/fufeidu/Library/Python/3.6/lib/python/site-packages/IPython/utils/importstring.py'>, 'IPython.terminal': <module 'IPython.terminal' from '/Users/fufeidu/Library/Python/3.6/lib/python/site-packages/IPython/terminal/__init__.py'>, 'IPython.terminal.embed': <module 'IPython.terminal.embed' from '/Users/fufeidu/Library/Python/3.6/lib/python/site-packages/IPython/terminal/embed.py'>, 'IPython.core.compilerop': <module 'IPython.core.compilerop' from '/Users/fufeidu/Library/Python/3.6/lib/python/site-packages/IPython/core/compilerop.py'>, 'IPython.core.magic_arguments': <module 'IPython.core.magic_arguments' from '/Users/fufeidu/Library/Python/3.6/lib/python/site-packages/IPython/core/magic_arguments.py'>, 'IPython.core.error': <module 'IPython.core.error' from '/Users/fufeidu/Library/Python/3.6/lib/python/site-packages/IPython/core/error.py'>, 'IPython.utils.text': <module 'IPython.utils.text' from '/Users/fufeidu/Library/Python/3.6/lib/python/site-packages/IPython/utils/text.py'>, 'pathlib': <module 'pathlib' from '/Library/Frameworks/Python.framework/Versions/3.6/lib/python3.6/pathlib.py'>, 'ntpath': <module 'ntpath' from '/Library/Frameworks/Python.framework/Versions/3.6/lib/python3.6/ntpath.py'>, 'IPython.core.magic': <module 'IPython.core.magic' from '/Users/fufeidu/Library/Python/3.6/lib/python/site-packages/IPython/core/magic.py'>, 'getopt': <module 'getopt' from '/Library/Frameworks/Python.framework/Versions/3.6/lib/python3.6/getopt.py'>, 'IPython.core.oinspect': <module 'IPython.core.oinspect' from '/Users/fufeidu/Library/Python/3.6/lib/python/site-packages/IPython/core/oinspect.py'>, 'IPython.core.page': <module 'IPython.core.page' from '/Users/fufeidu/Library/Python/3.6/lib/python/site-packages/IPython/core/page.py'>, 'IPython.core.display': <module 'IPython.core.display' from '/Users/fufeidu/Library/Python/3.6/lib/python/site-packages/IPython/core/display.py'>, 'binascii': <module 'binascii' from '/Library/Frameworks/Python.framework/Versions/3.6/lib/python3.6/lib-dynload/binascii.cpython-36m-darwin.so'>, 'mimetypes': <module 'mimetypes' from '/Library/Frameworks/Python.framework/Versions/3.6/lib/python3.6/mimetypes.py'>, 'IPython.lib': <module 'IPython.lib' from '/Users/fufeidu/Library/Python/3.6/lib/python/site-packages/IPython/lib/__init__.py'>, 'IPython.lib.security': <module 'IPython.lib.security' from '/Users/fufeidu/Library/Python/3.6/lib/python/site-packages/IPython/lib/security.py'>, 'getpass': <module 'getpass' from '/Library/Frameworks/Python.framework/Versions/3.6/lib/python3.6/getpass.py'>, 'IPython.lib.pretty': <module 'IPython.lib.pretty' from '/Users/fufeidu/Library/Python/3.6/lib/python/site-packages/IPython/lib/pretty.py'>, 'datetime': <module 'datetime' from '/Library/Frameworks/Python.framework/Versions/3.6/lib/python3.6/datetime.py'>, '_datetime': <module '_datetime' from '/Library/Frameworks/Python.framework/Versions/3.6/lib/python3.6/lib-dynload/_datetime.cpython-36m-darwin.so'>, 'IPython.utils.signatures': <module 'IPython.utils.signatures' from '/Users/fufeidu/Library/Python/3.6/lib/python/site-packages/IPython/utils/signatures.py'>, 'IPython.utils.dir2': <module 'IPython.utils.dir2' from '/Users/fufeidu/Library/Python/3.6/lib/python/site-packages/IPython/utils/dir2.py'>, 'IPython.utils.wildcard': <module 'IPython.utils.wildcard' from '/Users/fufeidu/Library/Python/3.6/lib/python/site-packages/IPython/utils/wildcard.py'>, 'pygments.lexers': <module 'pygments.lexers' from '/Users/fufeidu/Library/Python/3.6/lib/python/site-packages/pygments/lexers/__init__.py'>, 'pygments.lexers._mapping': <module 'pygments.lexers._mapping' from '/Users/fufeidu/Library/Python/3.6/lib/python/site-packages/pygments/lexers/_mapping.py'>, 'pygments.modeline': <module 'pygments.modeline' from '/Users/fufeidu/Library/Python/3.6/lib/python/site-packages/pygments/modeline.py'>, 'pygments.plugin': <module 'pygments.plugin' from '/Users/fufeidu/Library/Python/3.6/lib/python/site-packages/pygments/plugin.py'>, 'pygments.lexers.python': <module 'pygments.lexers.python' from '/Users/fufeidu/Library/Python/3.6/lib/python/site-packages/pygments/lexers/python.py'>, 'pygments.lexer': <module 'pygments.lexer' from '/Users/fufeidu/Library/Python/3.6/lib/python/site-packages/pygments/lexer.py'>, 'pygments.filter': <module 'pygments.filter' from '/Users/fufeidu/Library/Python/3.6/lib/python/site-packages/pygments/filter.py'>, 'pygments.filters': <module 'pygments.filters' from '/Users/fufeidu/Library/Python/3.6/lib/python/site-packages/pygments/filters/__init__.py'>, 'pygments.token': <module 'pygments.token' from '/Users/fufeidu/Library/Python/3.6/lib/python/site-packages/pygments/token.py'>, 'pygments.regexopt': <module 'pygments.regexopt' from '/Users/fufeidu/Library/Python/3.6/lib/python/site-packages/pygments/regexopt.py'>, 'pygments.unistring': <module 'pygments.unistring' from '/Users/fufeidu/Library/Python/3.6/lib/python/site-packages/pygments/unistring.py'>, 'pygments.formatters': <module 'pygments.formatters' from '/Users/fufeidu/Library/Python/3.6/lib/python/site-packages/pygments/formatters/__init__.py'>, 'pygments.formatters._mapping': <module 'pygments.formatters._mapping' from '/Users/fufeidu/Library/Python/3.6/lib/python/site-packages/pygments/formatters/_mapping.py'>, 'pygments.formatters.html': <module 'pygments.formatters.html' from '/Users/fufeidu/Library/Python/3.6/lib/python/site-packages/pygments/formatters/html.py'>, 'pygments.formatter': <module 'pygments.formatter' from '/Users/fufeidu/Library/Python/3.6/lib/python/site-packages/pygments/formatter.py'>, 'pygments.styles': <module 'pygments.styles' from '/Users/fufeidu/Library/Python/3.6/lib/python/site-packages/pygments/styles/__init__.py'>, 'IPython.core.inputsplitter': <module 'IPython.core.inputsplitter' from '/Users/fufeidu/Library/Python/3.6/lib/python/site-packages/IPython/core/inputsplitter.py'>, 'IPython.core.inputtransformer': <module 'IPython.core.inputtransformer' from '/Users/fufeidu/Library/Python/3.6/lib/python/site-packages/IPython/core/inputtransformer.py'>, 'IPython.core.splitinput': <module 'IPython.core.splitinput' from '/Users/fufeidu/Library/Python/3.6/lib/python/site-packages/IPython/core/splitinput.py'>, 'IPython.utils.tokenize2': <module 'IPython.utils.tokenize2' from '/Users/fufeidu/Library/Python/3.6/lib/python/site-packages/IPython/utils/tokenize2.py'>, 'IPython.core.interactiveshell': <module 'IPython.core.interactiveshell' from '/Users/fufeidu/Library/Python/3.6/lib/python/site-packages/IPython/core/interactiveshell.py'>, 'pickleshare': <module 'pickleshare' from '/Users/fufeidu/Library/Python/3.6/lib/python/site-packages/pickleshare.py'>, 'pickle': <module 'pickle' from '/Library/Frameworks/Python.framework/Versions/3.6/lib/python3.6/pickle.py'>, '_compat_pickle': <module '_compat_pickle' from '/Library/Frameworks/Python.framework/Versions/3.6/lib/python3.6/_compat_pickle.py'>, '_pickle': <module '_pickle' from '/Library/Frameworks/Python.framework/Versions/3.6/lib/python3.6/lib-dynload/_pickle.cpython-36m-darwin.so'>, 'IPython.core.prefilter': <module 'IPython.core.prefilter' from '/Users/fufeidu/Library/Python/3.6/lib/python/site-packages/IPython/core/prefilter.py'>, 'IPython.core.autocall': <module 'IPython.core.autocall' from '/Users/fufeidu/Library/Python/3.6/lib/python/site-packages/IPython/core/autocall.py'>, 'IPython.core.macro': <module 'IPython.core.macro' from '/Users/fufeidu/Library/Python/3.6/lib/python/site-packages/IPython/core/macro.py'>, 'IPython.core.alias': <module 'IPython.core.alias' from '/Users/fufeidu/Library/Python/3.6/lib/python/site-packages/IPython/core/alias.py'>, 'IPython.core.builtin_trap': <module 'IPython.core.builtin_trap' from '/Users/fufeidu/Library/Python/3.6/lib/python/site-packages/IPython/core/builtin_trap.py'>, 'IPython.core.events': <module 'IPython.core.events' from '/Users/fufeidu/Library/Python/3.6/lib/python/site-packages/IPython/core/events.py'>, 'backcall': <module 'backcall' from '/Users/fufeidu/Library/Python/3.6/lib/python/site-packages/backcall/__init__.py'>, 'backcall.backcall': <module 'backcall.backcall' from '/Users/fufeidu/Library/Python/3.6/lib/python/site-packages/backcall/backcall.py'>, 'IPython.core.displayhook': <module 'IPython.core.displayhook' from '/Users/fufeidu/Library/Python/3.6/lib/python/site-packages/IPython/core/displayhook.py'>, 'IPython.core.displaypub': <module 'IPython.core.displaypub' from '/Users/fufeidu/Library/Python/3.6/lib/python/site-packages/IPython/core/displaypub.py'>, 'IPython.core.extensions': <module 'IPython.core.extensions' from '/Users/fufeidu/Library/Python/3.6/lib/python/site-packages/IPython/core/extensions.py'>, 'IPython.core.formatters': <module 'IPython.core.formatters' from '/Users/fufeidu/Library/Python/3.6/lib/python/site-packages/IPython/core/formatters.py'>, 'IPython.utils.sentinel': <module 'IPython.utils.sentinel' from '/Users/fufeidu/Library/Python/3.6/lib/python/site-packages/IPython/utils/sentinel.py'>, 'IPython.core.history': <module 'IPython.core.history' from '/Users/fufeidu/Library/Python/3.6/lib/python/site-packages/IPython/core/history.py'>, 'sqlite3': <module 'sqlite3' from '/Library/Frameworks/Python.framework/Versions/3.6/lib/python3.6/sqlite3/__init__.py'>, 'sqlite3.dbapi2': <module 'sqlite3.dbapi2' from '/Library/Frameworks/Python.framework/Versions/3.6/lib/python3.6/sqlite3/dbapi2.py'>, '_sqlite3': <module '_sqlite3' from '/Library/Frameworks/Python.framework/Versions/3.6/lib/python3.6/lib-dynload/_sqlite3.cpython-36m-darwin.so'>, 'IPython.core.logger': <module 'IPython.core.logger' from '/Users/fufeidu/Library/Python/3.6/lib/python/site-packages/IPython/core/logger.py'>, 'IPython.core.payload': <module 'IPython.core.payload' from '/Users/fufeidu/Library/Python/3.6/lib/python/site-packages/IPython/core/payload.py'>, 'IPython.core.usage': <module 'IPython.core.usage' from '/Users/fufeidu/Library/Python/3.6/lib/python/site-packages/IPython/core/usage.py'>, 'IPython.display': <module 'IPython.display' from '/Users/fufeidu/Library/Python/3.6/lib/python/site-packages/IPython/display.py'>, 'IPython.lib.display': <module 'IPython.lib.display' from '/Users/fufeidu/Library/Python/3.6/lib/python/site-packages/IPython/lib/display.py'>, 'html': <module 'html' from '/Library/Frameworks/Python.framework/Versions/3.6/lib/python3.6/html/__init__.py'>, 'html.entities': <module 'html.entities' from '/Library/Frameworks/Python.framework/Versions/3.6/lib/python3.6/html/entities.py'>, 'IPython.utils.io': <module 'IPython.utils.io' from '/Users/fufeidu/Library/Python/3.6/lib/python/site-packages/IPython/utils/io.py'>, 'IPython.utils.capture': <module 'IPython.utils.capture' from '/Users/fufeidu/Library/Python/3.6/lib/python/site-packages/IPython/utils/capture.py'>, 'IPython.utils.strdispatch': <module 'IPython.utils.strdispatch' from '/Users/fufeidu/Library/Python/3.6/lib/python/site-packages/IPython/utils/strdispatch.py'>, 'IPython.core.hooks': <module 'IPython.core.hooks' from '/Users/fufeidu/Library/Python/3.6/lib/python/site-packages/IPython/core/hooks.py'>, 'IPython.utils.syspathcontext': <module 'IPython.utils.syspathcontext' from '/Users/fufeidu/Library/Python/3.6/lib/python/site-packages/IPython/utils/syspathcontext.py'>, 'IPython.utils.tempdir': <module 'IPython.utils.tempdir' from '/Users/fufeidu/Library/Python/3.6/lib/python/site-packages/IPython/utils/tempdir.py'>, 'typing': <module 'typing' from '/Library/Frameworks/Python.framework/Versions/3.6/lib/python3.6/typing.py'>, 'typing.io': <class 'typing.io'>, 'typing.re': <class 'typing.re'>, 'IPython.utils.contexts': <module 'IPython.utils.contexts' from '/Users/fufeidu/Library/Python/3.6/lib/python/site-packages/IPython/utils/contexts.py'>, 'IPython.terminal.interactiveshell': <module 'IPython.terminal.interactiveshell' from '/Users/fufeidu/Library/Python/3.6/lib/python/site-packages/IPython/terminal/interactiveshell.py'>, 'prompt_toolkit': <module 'prompt_toolkit' from '/Users/fufeidu/Library/Python/3.6/lib/python/site-packages/prompt_toolkit/__init__.py'>, 'prompt_toolkit.interface': <module 'prompt_toolkit.interface' from '/Users/fufeidu/Library/Python/3.6/lib/python/site-packages/prompt_toolkit/interface.py'>, 'prompt_toolkit.application': <module 'prompt_toolkit.application' from '/Users/fufeidu/Library/Python/3.6/lib/python/site-packages/prompt_toolkit/application.py'>, 'prompt_toolkit.buffer': <module 'prompt_toolkit.buffer' from '/Users/fufeidu/Library/Python/3.6/lib/python/site-packages/prompt_toolkit/buffer.py'>, 'prompt_toolkit.auto_suggest': <module 'prompt_toolkit.auto_suggest' from '/Users/fufeidu/Library/Python/3.6/lib/python/site-packages/prompt_toolkit/auto_suggest.py'>, 'prompt_toolkit.filters': <module 'prompt_toolkit.filters' from '/Users/fufeidu/Library/Python/3.6/lib/python/site-packages/prompt_toolkit/filters/__init__.py'>, 'prompt_toolkit.filters.base': <module 'prompt_toolkit.filters.base' from '/Users/fufeidu/Library/Python/3.6/lib/python/site-packages/prompt_toolkit/filters/base.py'>, 'prompt_toolkit.utils': <module 'prompt_toolkit.utils' from '/Users/fufeidu/Library/Python/3.6/lib/python/site-packages/prompt_toolkit/utils.py'>, 'wcwidth': <module 'wcwidth' from '/Users/fufeidu/Library/Python/3.6/lib/python/site-packages/wcwidth/__init__.py'>, 'wcwidth.wcwidth': <module 'wcwidth.wcwidth' from '/Users/fufeidu/Library/Python/3.6/lib/python/site-packages/wcwidth/wcwidth.py'>, 'wcwidth.table_wide': <module 'wcwidth.table_wide' from '/Users/fufeidu/Library/Python/3.6/lib/python/site-packages/wcwidth/table_wide.py'>, 'wcwidth.table_zero': <module 'wcwidth.table_zero' from '/Users/fufeidu/Library/Python/3.6/lib/python/site-packages/wcwidth/table_zero.py'>, 'six.moves': <module 'six.moves' (<six._SixMetaPathImporter object at 0x106487518>)>, 'prompt_toolkit.filters.cli': <module 'prompt_toolkit.filters.cli' from '/Users/fufeidu/Library/Python/3.6/lib/python/site-packages/prompt_toolkit/filters/cli.py'>, 'prompt_toolkit.enums': <module 'prompt_toolkit.enums' from '/Users/fufeidu/Library/Python/3.6/lib/python/site-packages/prompt_toolkit/enums.py'>, 'prompt_toolkit.key_binding': <module 'prompt_toolkit.key_binding' from '/Users/fufeidu/Library/Python/3.6/lib/python/site-packages/prompt_toolkit/key_binding/__init__.py'>, 'prompt_toolkit.key_binding.vi_state': <module 'prompt_toolkit.key_binding.vi_state' from '/Users/fufeidu/Library/Python/3.6/lib/python/site-packages/prompt_toolkit/key_binding/vi_state.py'>, 'prompt_toolkit.cache': <module 'prompt_toolkit.cache' from '/Users/fufeidu/Library/Python/3.6/lib/python/site-packages/prompt_toolkit/cache.py'>, 'prompt_toolkit.filters.types': <module 'prompt_toolkit.filters.types' from '/Users/fufeidu/Library/Python/3.6/lib/python/site-packages/prompt_toolkit/filters/types.py'>, 'prompt_toolkit.filters.utils': <module 'prompt_toolkit.filters.utils' from '/Users/fufeidu/Library/Python/3.6/lib/python/site-packages/prompt_toolkit/filters/utils.py'>, 'prompt_toolkit.clipboard': <module 'prompt_toolkit.clipboard' from '/Users/fufeidu/Library/Python/3.6/lib/python/site-packages/prompt_toolkit/clipboard/__init__.py'>, 'prompt_toolkit.clipboard.base': <module 'prompt_toolkit.clipboard.base' from '/Users/fufeidu/Library/Python/3.6/lib/python/site-packages/prompt_toolkit/clipboard/base.py'>, 'prompt_toolkit.selection': <module 'prompt_toolkit.selection' from '/Users/fufeidu/Library/Python/3.6/lib/python/site-packages/prompt_toolkit/selection.py'>, 'prompt_toolkit.clipboard.in_memory': <module 'prompt_toolkit.clipboard.in_memory' from '/Users/fufeidu/Library/Python/3.6/lib/python/site-packages/prompt_toolkit/clipboard/in_memory.py'>, 'prompt_toolkit.completion': <module 'prompt_toolkit.completion' from '/Users/fufeidu/Library/Python/3.6/lib/python/site-packages/prompt_toolkit/completion.py'>, 'prompt_toolkit.document': <module 'prompt_toolkit.document' from '/Users/fufeidu/Library/Python/3.6/lib/python/site-packages/prompt_toolkit/document.py'>, 'prompt_toolkit.history': <module 'prompt_toolkit.history' from '/Users/fufeidu/Library/Python/3.6/lib/python/site-packages/prompt_toolkit/history.py'>, 'prompt_toolkit.search_state': <module 'prompt_toolkit.search_state' from '/Users/fufeidu/Library/Python/3.6/lib/python/site-packages/prompt_toolkit/search_state.py'>, 'prompt_toolkit.validation': <module 'prompt_toolkit.validation' from '/Users/fufeidu/Library/Python/3.6/lib/python/site-packages/prompt_toolkit/validation.py'>, 'prompt_toolkit.buffer_mapping': <module 'prompt_toolkit.buffer_mapping' from '/Users/fufeidu/Library/Python/3.6/lib/python/site-packages/prompt_toolkit/buffer_mapping.py'>, 'prompt_toolkit.key_binding.bindings': <module 'prompt_toolkit.key_binding.bindings' from '/Users/fufeidu/Library/Python/3.6/lib/python/site-packages/prompt_toolkit/key_binding/bindings/__init__.py'>, 'prompt_toolkit.key_binding.bindings.basic': <module 'prompt_toolkit.key_binding.bindings.basic' from '/Users/fufeidu/Library/Python/3.6/lib/python/site-packages/prompt_toolkit/key_binding/bindings/basic.py'>, 'prompt_toolkit.keys': <module 'prompt_toolkit.keys' from '/Users/fufeidu/Library/Python/3.6/lib/python/site-packages/prompt_toolkit/keys.py'>, 'prompt_toolkit.layout': <module 'prompt_toolkit.layout' from '/Users/fufeidu/Library/Python/3.6/lib/python/site-packages/prompt_toolkit/layout/__init__.py'>, 'prompt_toolkit.layout.containers': <module 'prompt_toolkit.layout.containers' from '/Users/fufeidu/Library/Python/3.6/lib/python/site-packages/prompt_toolkit/layout/containers.py'>, 'prompt_toolkit.layout.controls': <module 'prompt_toolkit.layout.controls' from '/Users/fufeidu/Library/Python/3.6/lib/python/site-packages/prompt_toolkit/layout/controls.py'>, 'prompt_toolkit.mouse_events': <module 'prompt_toolkit.mouse_events' from '/Users/fufeidu/Library/Python/3.6/lib/python/site-packages/prompt_toolkit/mouse_events.py'>, 'prompt_toolkit.token': <module 'prompt_toolkit.token' from '/Users/fufeidu/Library/Python/3.6/lib/python/site-packages/prompt_toolkit/token.py'>, 'prompt_toolkit.layout.lexers': <module 'prompt_toolkit.layout.lexers' from '/Users/fufeidu/Library/Python/3.6/lib/python/site-packages/prompt_toolkit/layout/lexers.py'>, 'prompt_toolkit.layout.utils': <module 'prompt_toolkit.layout.utils' from '/Users/fufeidu/Library/Python/3.6/lib/python/site-packages/prompt_toolkit/layout/utils.py'>, 'prompt_toolkit.layout.processors': <module 'prompt_toolkit.layout.processors' from '/Users/fufeidu/Library/Python/3.6/lib/python/site-packages/prompt_toolkit/layout/processors.py'>, 'prompt_toolkit.reactive': <module 'prompt_toolkit.reactive' from '/Users/fufeidu/Library/Python/3.6/lib/python/site-packages/prompt_toolkit/reactive.py'>, 'prompt_toolkit.layout.screen': <module 'prompt_toolkit.layout.screen' from '/Users/fufeidu/Library/Python/3.6/lib/python/site-packages/prompt_toolkit/layout/screen.py'>, 'prompt_toolkit.layout.dimension': <module 'prompt_toolkit.layout.dimension' from '/Users/fufeidu/Library/Python/3.6/lib/python/site-packages/prompt_toolkit/layout/dimension.py'>, 'prompt_toolkit.layout.margins': <module 'prompt_toolkit.layout.margins' from '/Users/fufeidu/Library/Python/3.6/lib/python/site-packages/prompt_toolkit/layout/margins.py'>, 'prompt_toolkit.renderer': <module 'prompt_toolkit.renderer' from '/Users/fufeidu/Library/Python/3.6/lib/python/site-packages/prompt_toolkit/renderer.py'>, 'prompt_toolkit.layout.mouse_handlers': <module 'prompt_toolkit.layout.mouse_handlers' from '/Users/fufeidu/Library/Python/3.6/lib/python/site-packages/prompt_toolkit/layout/mouse_handlers.py'>, 'prompt_toolkit.output': <module 'prompt_toolkit.output' from '/Users/fufeidu/Library/Python/3.6/lib/python/site-packages/prompt_toolkit/output.py'>, 'prompt_toolkit.styles': <module 'prompt_toolkit.styles' from '/Users/fufeidu/Library/Python/3.6/lib/python/site-packages/prompt_toolkit/styles/__init__.py'>, 'prompt_toolkit.styles.base': <module 'prompt_toolkit.styles.base' from '/Users/fufeidu/Library/Python/3.6/lib/python/site-packages/prompt_toolkit/styles/base.py'>, 'prompt_toolkit.styles.defaults': <module 'prompt_toolkit.styles.defaults' from '/Users/fufeidu/Library/Python/3.6/lib/python/site-packages/prompt_toolkit/styles/defaults.py'>, 'prompt_toolkit.styles.from_dict': <module 'prompt_toolkit.styles.from_dict' from '/Users/fufeidu/Library/Python/3.6/lib/python/site-packages/prompt_toolkit/styles/from_dict.py'>, 'prompt_toolkit.styles.utils': <module 'prompt_toolkit.styles.utils' from '/Users/fufeidu/Library/Python/3.6/lib/python/site-packages/prompt_toolkit/styles/utils.py'>, 'prompt_toolkit.styles.from_pygments': <module 'prompt_toolkit.styles.from_pygments' from '/Users/fufeidu/Library/Python/3.6/lib/python/site-packages/prompt_toolkit/styles/from_pygments.py'>, 'pygments.style': <module 'pygments.style' from '/Users/fufeidu/Library/Python/3.6/lib/python/site-packages/pygments/style.py'>, 'pygments.styles.default': <module 'pygments.styles.default' from '/Users/fufeidu/Library/Python/3.6/lib/python/site-packages/pygments/styles/default.py'>, 'prompt_toolkit.key_binding.bindings.named_commands': <module 'prompt_toolkit.key_binding.bindings.named_commands' from '/Users/fufeidu/Library/Python/3.6/lib/python/site-packages/prompt_toolkit/key_binding/bindings/named_commands.py'>, 'prompt_toolkit.key_binding.bindings.completion': <module 'prompt_toolkit.key_binding.bindings.completion' from '/Users/fufeidu/Library/Python/3.6/lib/python/site-packages/prompt_toolkit/key_binding/bindings/completion.py'>, 'prompt_toolkit.key_binding.registry': <module 'prompt_toolkit.key_binding.registry' from '/Users/fufeidu/Library/Python/3.6/lib/python/site-packages/prompt_toolkit/key_binding/registry.py'>, 'prompt_toolkit.key_binding.input_processor': <module 'prompt_toolkit.key_binding.input_processor' from '/Users/fufeidu/Library/Python/3.6/lib/python/site-packages/prompt_toolkit/key_binding/input_processor.py'>, 'prompt_toolkit.key_binding.bindings.emacs': <module 'prompt_toolkit.key_binding.bindings.emacs' from '/Users/fufeidu/Library/Python/3.6/lib/python/site-packages/prompt_toolkit/key_binding/bindings/emacs.py'>, 'prompt_toolkit.key_binding.bindings.scroll': <module 'prompt_toolkit.key_binding.bindings.scroll' from '/Users/fufeidu/Library/Python/3.6/lib/python/site-packages/prompt_toolkit/key_binding/bindings/scroll.py'>, 'prompt_toolkit.key_binding.bindings.vi': <module 'prompt_toolkit.key_binding.bindings.vi' from '/Users/fufeidu/Library/Python/3.6/lib/python/site-packages/prompt_toolkit/key_binding/bindings/vi.py'>, 'prompt_toolkit.key_binding.digraphs': <module 'prompt_toolkit.key_binding.digraphs' from '/Users/fufeidu/Library/Python/3.6/lib/python/site-packages/prompt_toolkit/key_binding/digraphs.py'>, 'prompt_toolkit.key_binding.defaults': <module 'prompt_toolkit.key_binding.defaults' from '/Users/fufeidu/Library/Python/3.6/lib/python/site-packages/prompt_toolkit/key_binding/defaults.py'>, 'prompt_toolkit.eventloop': <module 'prompt_toolkit.eventloop' from '/Users/fufeidu/Library/Python/3.6/lib/python/site-packages/prompt_toolkit/eventloop/__init__.py'>, 'prompt_toolkit.eventloop.base': <module 'prompt_toolkit.eventloop.base' from '/Users/fufeidu/Library/Python/3.6/lib/python/site-packages/prompt_toolkit/eventloop/base.py'>, 'prompt_toolkit.eventloop.callbacks': <module 'prompt_toolkit.eventloop.callbacks' from '/Users/fufeidu/Library/Python/3.6/lib/python/site-packages/prompt_toolkit/eventloop/callbacks.py'>, 'prompt_toolkit.input': <module 'prompt_toolkit.input' from '/Users/fufeidu/Library/Python/3.6/lib/python/site-packages/prompt_toolkit/input.py'>, 'prompt_toolkit.terminal': <module 'prompt_toolkit.terminal' from '/Users/fufeidu/Library/Python/3.6/lib/python/site-packages/prompt_toolkit/terminal/__init__.py'>, 'prompt_toolkit.terminal.vt100_input': <module 'prompt_toolkit.terminal.vt100_input' from '/Users/fufeidu/Library/Python/3.6/lib/python/site-packages/prompt_toolkit/terminal/vt100_input.py'>, 'prompt_toolkit.shortcuts': <module 'prompt_toolkit.shortcuts' from '/Users/fufeidu/Library/Python/3.6/lib/python/site-packages/prompt_toolkit/shortcuts.py'>, 'prompt_toolkit.layout.menus': <module 'prompt_toolkit.layout.menus' from '/Users/fufeidu/Library/Python/3.6/lib/python/site-packages/prompt_toolkit/layout/menus.py'>, 'prompt_toolkit.layout.prompt': <module 'prompt_toolkit.layout.prompt' from '/Users/fufeidu/Library/Python/3.6/lib/python/site-packages/prompt_toolkit/layout/prompt.py'>, 'prompt_toolkit.layout.toolbars': <module 'prompt_toolkit.layout.toolbars' from '/Users/fufeidu/Library/Python/3.6/lib/python/site-packages/prompt_toolkit/layout/toolbars.py'>, 'prompt_toolkit.terminal.vt100_output': <module 'prompt_toolkit.terminal.vt100_output' from '/Users/fufeidu/Library/Python/3.6/lib/python/site-packages/prompt_toolkit/terminal/vt100_output.py'>, 'array': <module 'array' from '/Library/Frameworks/Python.framework/Versions/3.6/lib/python3.6/lib-dynload/array.cpython-36m-darwin.so'>, 'prompt_toolkit.key_binding.manager': <module 'prompt_toolkit.key_binding.manager' from '/Users/fufeidu/Library/Python/3.6/lib/python/site-packages/prompt_toolkit/key_binding/manager.py'>, 'IPython.terminal.debugger': <module 'IPython.terminal.debugger' from '/Users/fufeidu/Library/Python/3.6/lib/python/site-packages/IPython/terminal/debugger.py'>, 'IPython.core.completer': <module 'IPython.core.completer' from '/Users/fufeidu/Library/Python/3.6/lib/python/site-packages/IPython/core/completer.py'>, 'unicodedata': <module 'unicodedata' from '/Library/Frameworks/Python.framework/Versions/3.6/lib/python3.6/lib-dynload/unicodedata.cpython-36m-darwin.so'>, 'IPython.core.latex_symbols': <module 'IPython.core.latex_symbols' from '/Users/fufeidu/Library/Python/3.6/lib/python/site-packages/IPython/core/latex_symbols.py'>, 'IPython.utils.generics': <module 'IPython.utils.generics' from '/Users/fufeidu/Library/Python/3.6/lib/python/site-packages/IPython/utils/generics.py'>, 'simplegeneric': <module 'simplegeneric' from '/Users/fufeidu/Library/Python/3.6/lib/python/site-packages/simplegeneric.py'>, 'jedi': <module 'jedi' from '/Users/fufeidu/Library/Python/3.6/lib/python/site-packages/jedi/__init__.py'>, 'jedi.api': <module 'jedi.api' from '/Users/fufeidu/Library/Python/3.6/lib/python/site-packages/jedi/api/__init__.py'>, 'parso': <module 'parso' from '/Users/fufeidu/Library/Python/3.6/lib/python/site-packages/parso/__init__.py'>, 'parso.parser': <module 'parso.parser' from '/Users/fufeidu/Library/Python/3.6/lib/python/site-packages/parso/parser.py'>, 'parso.tree': <module 'parso.tree' from '/Users/fufeidu/Library/Python/3.6/lib/python/site-packages/parso/tree.py'>, 'parso._compatibility': <module 'parso._compatibility' from '/Users/fufeidu/Library/Python/3.6/lib/python/site-packages/parso/_compatibility.py'>, 'parso.pgen2': <module 'parso.pgen2' from '/Users/fufeidu/Library/Python/3.6/lib/python/site-packages/parso/pgen2/__init__.py'>, 'parso.pgen2.generator': <module 'parso.pgen2.generator' from '/Users/fufeidu/Library/Python/3.6/lib/python/site-packages/parso/pgen2/generator.py'>, 'parso.pgen2.grammar_parser': <module 'parso.pgen2.grammar_parser' from '/Users/fufeidu/Library/Python/3.6/lib/python/site-packages/parso/pgen2/grammar_parser.py'>, 'parso.python': <module 'parso.python' from '/Users/fufeidu/Library/Python/3.6/lib/python/site-packages/parso/python/__init__.py'>, 'parso.python.tokenize': <module 'parso.python.tokenize' from '/Users/fufeidu/Library/Python/3.6/lib/python/site-packages/parso/python/tokenize.py'>, 'parso.python.token': <module 'parso.python.token' from '/Users/fufeidu/Library/Python/3.6/lib/python/site-packages/parso/python/token.py'>, 'parso.utils': <module 'parso.utils' from '/Users/fufeidu/Library/Python/3.6/lib/python/site-packages/parso/utils.py'>, 'parso.grammar': <module 'parso.grammar' from '/Users/fufeidu/Library/Python/3.6/lib/python/site-packages/parso/grammar.py'>, 'parso.python.diff': <module 'parso.python.diff' from '/Users/fufeidu/Library/Python/3.6/lib/python/site-packages/parso/python/diff.py'>, 'difflib': <module 'difflib' from '/Library/Frameworks/Python.framework/Versions/3.6/lib/python3.6/difflib.py'>, 'parso.python.parser': <module 'parso.python.parser' from '/Users/fufeidu/Library/Python/3.6/lib/python/site-packages/parso/python/parser.py'>, 'parso.python.tree': <module 'parso.python.tree' from '/Users/fufeidu/Library/Python/3.6/lib/python/site-packages/parso/python/tree.py'>, 'parso.python.prefix': <module 'parso.python.prefix' from '/Users/fufeidu/Library/Python/3.6/lib/python/site-packages/parso/python/prefix.py'>, 'parso.cache': <module 'parso.cache' from '/Users/fufeidu/Library/Python/3.6/lib/python/site-packages/parso/cache.py'>, 'gc': <module 'gc' (built-in)>, 'parso.python.errors': <module 'parso.python.errors' from '/Users/fufeidu/Library/Python/3.6/lib/python/site-packages/parso/python/errors.py'>, 'parso.normalizer': <module 'parso.normalizer' from '/Users/fufeidu/Library/Python/3.6/lib/python/site-packages/parso/normalizer.py'>, 'parso.python.pep8': <module 'parso.python.pep8' from '/Users/fufeidu/Library/Python/3.6/lib/python/site-packages/parso/python/pep8.py'>, 'jedi._compatibility': <module 'jedi._compatibility' from '/Users/fufeidu/Library/Python/3.6/lib/python/site-packages/jedi/_compatibility.py'>, 'queue': <module 'queue' from '/Library/Frameworks/Python.framework/Versions/3.6/lib/python3.6/queue.py'>, 'jedi.parser_utils': <module 'jedi.parser_utils' from '/Users/fufeidu/Library/Python/3.6/lib/python/site-packages/jedi/parser_utils.py'>, 'jedi.debug': <module 'jedi.debug' from '/Users/fufeidu/Library/Python/3.6/lib/python/site-packages/jedi/debug.py'>, 'colorama': <module 'colorama' from '/Users/fufeidu/Library/Python/3.6/lib/python/site-packages/colorama/__init__.py'>, 'colorama.initialise': <module 'colorama.initialise' from '/Users/fufeidu/Library/Python/3.6/lib/python/site-packages/colorama/initialise.py'>, 'colorama.ansitowin32': <module 'colorama.ansitowin32' from '/Users/fufeidu/Library/Python/3.6/lib/python/site-packages/colorama/ansitowin32.py'>, 'colorama.ansi': <module 'colorama.ansi' from '/Users/fufeidu/Library/Python/3.6/lib/python/site-packages/colorama/ansi.py'>, 'colorama.winterm': <module 'colorama.winterm' from '/Users/fufeidu/Library/Python/3.6/lib/python/site-packages/colorama/winterm.py'>, 'colorama.win32': <module 'colorama.win32' from '/Users/fufeidu/Library/Python/3.6/lib/python/site-packages/colorama/win32.py'>, 'ctypes': <module 'ctypes' from '/Library/Frameworks/Python.framework/Versions/3.6/lib/python3.6/ctypes/__init__.py'>, '_ctypes': <module '_ctypes' from '/Library/Frameworks/Python.framework/Versions/3.6/lib/python3.6/lib-dynload/_ctypes.cpython-36m-darwin.so'>, 'ctypes._endian': <module 'ctypes._endian' from '/Library/Frameworks/Python.framework/Versions/3.6/lib/python3.6/ctypes/_endian.py'>, 'jedi.settings': <module 'jedi.settings' from '/Users/fufeidu/Library/Python/3.6/lib/python/site-packages/jedi/settings.py'>, 'jedi.cache': <module 'jedi.cache' from '/Users/fufeidu/Library/Python/3.6/lib/python/site-packages/jedi/cache.py'>, 'jedi.api.classes': <module 'jedi.api.classes' from '/Users/fufeidu/Library/Python/3.6/lib/python/site-packages/jedi/api/classes.py'>, 'jedi.evaluate': <module 'jedi.evaluate' from '/Users/fufeidu/Library/Python/3.6/lib/python/site-packages/jedi/evaluate/__init__.py'>, 'jedi.evaluate.utils': <module 'jedi.evaluate.utils' from '/Users/fufeidu/Library/Python/3.6/lib/python/site-packages/jedi/evaluate/utils.py'>, 'jedi.evaluate.imports': <module 'jedi.evaluate.imports' from '/Users/fufeidu/Library/Python/3.6/lib/python/site-packages/jedi/evaluate/imports.py'>, 'jedi.evaluate.sys_path': <module 'jedi.evaluate.sys_path' from '/Users/fufeidu/Library/Python/3.6/lib/python/site-packages/jedi/evaluate/sys_path.py'>, 'jedi.evaluate.cache': <module 'jedi.evaluate.cache' from '/Users/fufeidu/Library/Python/3.6/lib/python/site-packages/jedi/evaluate/cache.py'>, 'jedi.evaluate.base_context': <module 'jedi.evaluate.base_context' from '/Users/fufeidu/Library/Python/3.6/lib/python/site-packages/jedi/evaluate/base_context.py'>, 'jedi.common': <module 'jedi.common' from '/Users/fufeidu/Library/Python/3.6/lib/python/site-packages/jedi/common/__init__.py'>, 'jedi.common.context': <module 'jedi.common.context' from '/Users/fufeidu/Library/Python/3.6/lib/python/site-packages/jedi/common/context.py'>, 'jedi.evaluate.helpers': <module 'jedi.evaluate.helpers' from '/Users/fufeidu/Library/Python/3.6/lib/python/site-packages/jedi/evaluate/helpers.py'>, 'jedi.common.utils': <module 'jedi.common.utils' from '/Users/fufeidu/Library/Python/3.6/lib/python/site-packages/jedi/common/utils.py'>, 'jedi.evaluate.compiled': <module 'jedi.evaluate.compiled' from '/Users/fufeidu/Library/Python/3.6/lib/python/site-packages/jedi/evaluate/compiled/__init__.py'>, 'jedi.evaluate.compiled.context': <module 'jedi.evaluate.compiled.context' from '/Users/fufeidu/Library/Python/3.6/lib/python/site-packages/jedi/evaluate/compiled/context.py'>, 'jedi.evaluate.filters': <module 'jedi.evaluate.filters' from '/Users/fufeidu/Library/Python/3.6/lib/python/site-packages/jedi/evaluate/filters.py'>, 'jedi.evaluate.flow_analysis': <module 'jedi.evaluate.flow_analysis' from '/Users/fufeidu/Library/Python/3.6/lib/python/site-packages/jedi/evaluate/flow_analysis.py'>, 'jedi.evaluate.recursion': <module 'jedi.evaluate.recursion' from '/Users/fufeidu/Library/Python/3.6/lib/python/site-packages/jedi/evaluate/recursion.py'>, 'jedi.evaluate.lazy_context': <module 'jedi.evaluate.lazy_context' from '/Users/fufeidu/Library/Python/3.6/lib/python/site-packages/jedi/evaluate/lazy_context.py'>, 'jedi.evaluate.compiled.access': <module 'jedi.evaluate.compiled.access' from '/Users/fufeidu/Library/Python/3.6/lib/python/site-packages/jedi/evaluate/compiled/access.py'>, 'jedi.evaluate.compiled.getattr_static': <module 'jedi.evaluate.compiled.getattr_static' from '/Users/fufeidu/Library/Python/3.6/lib/python/site-packages/jedi/evaluate/compiled/getattr_static.py'>, 'jedi.evaluate.compiled.fake': <module 'jedi.evaluate.compiled.fake' from '/Users/fufeidu/Library/Python/3.6/lib/python/site-packages/jedi/evaluate/compiled/fake.py'>, 'jedi.evaluate.analysis': <module 'jedi.evaluate.analysis' from '/Users/fufeidu/Library/Python/3.6/lib/python/site-packages/jedi/evaluate/analysis.py'>, 'jedi.evaluate.context': <module 'jedi.evaluate.context' from '/Users/fufeidu/Library/Python/3.6/lib/python/site-packages/jedi/evaluate/context/__init__.py'>, 'jedi.evaluate.context.module': <module 'jedi.evaluate.context.module' from '/Users/fufeidu/Library/Python/3.6/lib/python/site-packages/jedi/evaluate/context/module.py'>, 'jedi.evaluate.context.klass': <module 'jedi.evaluate.context.klass' from '/Users/fufeidu/Library/Python/3.6/lib/python/site-packages/jedi/evaluate/context/klass.py'>, 'jedi.evaluate.context.function': <module 'jedi.evaluate.context.function' from '/Users/fufeidu/Library/Python/3.6/lib/python/site-packages/jedi/evaluate/context/function.py'>, 'jedi.evaluate.docstrings': <module 'jedi.evaluate.docstrings' from '/Users/fufeidu/Library/Python/3.6/lib/python/site-packages/jedi/evaluate/docstrings.py'>, 'jedi.evaluate.pep0484': <module 'jedi.evaluate.pep0484' from '/Users/fufeidu/Library/Python/3.6/lib/python/site-packages/jedi/evaluate/pep0484.py'>, 'jedi.evaluate.arguments': <module 'jedi.evaluate.arguments' from '/Users/fufeidu/Library/Python/3.6/lib/python/site-packages/jedi/evaluate/arguments.py'>, 'jedi.evaluate.context.iterable': <module 'jedi.evaluate.context.iterable' from '/Users/fufeidu/Library/Python/3.6/lib/python/site-packages/jedi/evaluate/context/iterable.py'>, 'jedi.evaluate.param': <module 'jedi.evaluate.param' from '/Users/fufeidu/Library/Python/3.6/lib/python/site-packages/jedi/evaluate/param.py'>, 'jedi.evaluate.context.asynchronous': <module 'jedi.evaluate.context.asynchronous' from '/Users/fufeidu/Library/Python/3.6/lib/python/site-packages/jedi/evaluate/context/asynchronous.py'>, 'jedi.evaluate.parser_cache': <module 'jedi.evaluate.parser_cache' from '/Users/fufeidu/Library/Python/3.6/lib/python/site-packages/jedi/evaluate/parser_cache.py'>, 'jedi.evaluate.context.instance': <module 'jedi.evaluate.context.instance' from '/Users/fufeidu/Library/Python/3.6/lib/python/site-packages/jedi/evaluate/context/instance.py'>, 'jedi.evaluate.syntax_tree': <module 'jedi.evaluate.syntax_tree' from '/Users/fufeidu/Library/Python/3.6/lib/python/site-packages/jedi/evaluate/syntax_tree.py'>, 'jedi.evaluate.finder': <module 'jedi.evaluate.finder' from '/Users/fufeidu/Library/Python/3.6/lib/python/site-packages/jedi/evaluate/finder.py'>, 'jedi.api.keywords': <module 'jedi.api.keywords' from '/Users/fufeidu/Library/Python/3.6/lib/python/site-packages/jedi/api/keywords.py'>, 'pydoc_data': <module 'pydoc_data' from '/Library/Frameworks/Python.framework/Versions/3.6/lib/python3.6/pydoc_data/__init__.py'>, 'pydoc_data.topics': <module 'pydoc_data.topics' from '/Library/Frameworks/Python.framework/Versions/3.6/lib/python3.6/pydoc_data/topics.py'>, 'jedi.api.interpreter': <module 'jedi.api.interpreter' from '/Users/fufeidu/Library/Python/3.6/lib/python/site-packages/jedi/api/interpreter.py'>, 'jedi.evaluate.compiled.mixed': <module 'jedi.evaluate.compiled.mixed' from '/Users/fufeidu/Library/Python/3.6/lib/python/site-packages/jedi/evaluate/compiled/mixed.py'>, 'jedi.api.helpers': <module 'jedi.api.helpers' from '/Users/fufeidu/Library/Python/3.6/lib/python/site-packages/jedi/api/helpers.py'>, 'jedi.api.completion': <module 'jedi.api.completion' from '/Users/fufeidu/Library/Python/3.6/lib/python/site-packages/jedi/api/completion.py'>, 'jedi.api.environment': <module 'jedi.api.environment' from '/Users/fufeidu/Library/Python/3.6/lib/python/site-packages/jedi/api/environment.py'>, 'filecmp': <module 'filecmp' from '/Library/Frameworks/Python.framework/Versions/3.6/lib/python3.6/filecmp.py'>, 'jedi.evaluate.compiled.subprocess': <module 'jedi.evaluate.compiled.subprocess' from '/Users/fufeidu/Library/Python/3.6/lib/python/site-packages/jedi/evaluate/compiled/subprocess/__init__.py'>, 'socket': <module 'socket' from '/Library/Frameworks/Python.framework/Versions/3.6/lib/python3.6/socket.py'>, '_socket': <module '_socket' from '/Library/Frameworks/Python.framework/Versions/3.6/lib/python3.6/lib-dynload/_socket.cpython-36m-darwin.so'>, 'jedi.evaluate.compiled.subprocess.functions': <module 'jedi.evaluate.compiled.subprocess.functions' from '/Users/fufeidu/Library/Python/3.6/lib/python/site-packages/jedi/evaluate/compiled/subprocess/functions.py'>, 'jedi.api.exceptions': <module 'jedi.api.exceptions' from '/Users/fufeidu/Library/Python/3.6/lib/python/site-packages/jedi/api/exceptions.py'>, 'jedi.api.project': <module 'jedi.api.project' from '/Users/fufeidu/Library/Python/3.6/lib/python/site-packages/jedi/api/project.py'>, 'jedi.evaluate.usages': <module 'jedi.evaluate.usages' from '/Users/fufeidu/Library/Python/3.6/lib/python/site-packages/jedi/evaluate/usages.py'>, 'IPython.terminal.ptutils': <module 'IPython.terminal.ptutils' from '/Users/fufeidu/Library/Python/3.6/lib/python/site-packages/IPython/terminal/ptutils.py'>, 'IPython.terminal.shortcuts': <module 'IPython.terminal.shortcuts' from '/Users/fufeidu/Library/Python/3.6/lib/python/site-packages/IPython/terminal/shortcuts.py'>, 'IPython.terminal.magics': <module 'IPython.terminal.magics' from '/Users/fufeidu/Library/Python/3.6/lib/python/site-packages/IPython/terminal/magics.py'>, 'IPython.lib.clipboard': <module 'IPython.lib.clipboard' from '/Users/fufeidu/Library/Python/3.6/lib/python/site-packages/IPython/lib/clipboard.py'>, 'IPython.terminal.pt_inputhooks': <module 'IPython.terminal.pt_inputhooks' from '/Users/fufeidu/Library/Python/3.6/lib/python/site-packages/IPython/terminal/pt_inputhooks/__init__.py'>, 'IPython.terminal.prompts': <module 'IPython.terminal.prompts' from '/Users/fufeidu/Library/Python/3.6/lib/python/site-packages/IPython/terminal/prompts.py'>, 'IPython.terminal.ipapp': <module 'IPython.terminal.ipapp' from '/Users/fufeidu/Library/Python/3.6/lib/python/site-packages/IPython/terminal/ipapp.py'>, 'IPython.core.magics': <module 'IPython.core.magics' from '/Users/fufeidu/Library/Python/3.6/lib/python/site-packages/IPython/core/magics/__init__.py'>, 'IPython.core.magics.auto': <module 'IPython.core.magics.auto' from '/Users/fufeidu/Library/Python/3.6/lib/python/site-packages/IPython/core/magics/auto.py'>, 'IPython.core.magics.basic': <module 'IPython.core.magics.basic' from '/Users/fufeidu/Library/Python/3.6/lib/python/site-packages/IPython/core/magics/basic.py'>, 'IPython.core.magics.code': <module 'IPython.core.magics.code' from '/Users/fufeidu/Library/Python/3.6/lib/python/site-packages/IPython/core/magics/code.py'>, 'IPython.core.magics.config': <module 'IPython.core.magics.config' from '/Users/fufeidu/Library/Python/3.6/lib/python/site-packages/IPython/core/magics/config.py'>, 'IPython.core.magics.display': <module 'IPython.core.magics.display' from '/Users/fufeidu/Library/Python/3.6/lib/python/site-packages/IPython/core/magics/display.py'>, 'IPython.core.magics.execution': <module 'IPython.core.magics.execution' from '/Users/fufeidu/Library/Python/3.6/lib/python/site-packages/IPython/core/magics/execution.py'>, 'timeit': <module 'timeit' from '/Library/Frameworks/Python.framework/Versions/3.6/lib/python3.6/timeit.py'>, 'cProfile': <module 'cProfile' from '/Library/Frameworks/Python.framework/Versions/3.6/lib/python3.6/cProfile.py'>, '_lsprof': <module '_lsprof' from '/Library/Frameworks/Python.framework/Versions/3.6/lib/python3.6/lib-dynload/_lsprof.cpython-36m-darwin.so'>, 'profile': <module 'profile' from '/Library/Frameworks/Python.framework/Versions/3.6/lib/python3.6/profile.py'>, 'optparse': <module 'optparse' from '/Library/Frameworks/Python.framework/Versions/3.6/lib/python3.6/optparse.py'>, 'pstats': <module 'pstats' from '/Library/Frameworks/Python.framework/Versions/3.6/lib/python3.6/pstats.py'>, 'IPython.utils.module_paths': <module 'IPython.utils.module_paths' from '/Users/fufeidu/Library/Python/3.6/lib/python/site-packages/IPython/utils/module_paths.py'>, 'imp': <module 'imp' from '/Library/Frameworks/Python.framework/Versions/3.6/lib/python3.6/imp.py'>, 'IPython.utils.timing': <module 'IPython.utils.timing' from '/Users/fufeidu/Library/Python/3.6/lib/python/site-packages/IPython/utils/timing.py'>, 'IPython.core.magics.extension': <module 'IPython.core.magics.extension' from '/Users/fufeidu/Library/Python/3.6/lib/python/site-packages/IPython/core/magics/extension.py'>, 'IPython.core.magics.history': <module 'IPython.core.magics.history' from '/Users/fufeidu/Library/Python/3.6/lib/python/site-packages/IPython/core/magics/history.py'>, 'IPython.core.magics.logging': <module 'IPython.core.magics.logging' from '/Users/fufeidu/Library/Python/3.6/lib/python/site-packages/IPython/core/magics/logging.py'>, 'IPython.core.magics.namespace': <module 'IPython.core.magics.namespace' from '/Users/fufeidu/Library/Python/3.6/lib/python/site-packages/IPython/core/magics/namespace.py'>, 'IPython.core.magics.osm': <module 'IPython.core.magics.osm' from '/Users/fufeidu/Library/Python/3.6/lib/python/site-packages/IPython/core/magics/osm.py'>, 'IPython.core.magics.pylab': <module 'IPython.core.magics.pylab' from '/Users/fufeidu/Library/Python/3.6/lib/python/site-packages/IPython/core/magics/pylab.py'>, 'IPython.core.pylabtools': <module 'IPython.core.pylabtools' from '/Users/fufeidu/Library/Python/3.6/lib/python/site-packages/IPython/core/pylabtools.py'>, 'IPython.core.magics.script': <module 'IPython.core.magics.script' from '/Users/fufeidu/Library/Python/3.6/lib/python/site-packages/IPython/core/magics/script.py'>, 'IPython.lib.backgroundjobs': <module 'IPython.lib.backgroundjobs' from '/Users/fufeidu/Library/Python/3.6/lib/python/site-packages/IPython/lib/backgroundjobs.py'>, 'IPython.core.shellapp': <module 'IPython.core.shellapp' from '/Users/fufeidu/Library/Python/3.6/lib/python/site-packages/IPython/core/shellapp.py'>, 'IPython.extensions': <module 'IPython.extensions' from '/Users/fufeidu/Library/Python/3.6/lib/python/site-packages/IPython/extensions/__init__.py'>, 'IPython.extensions.storemagic': <module 'IPython.extensions.storemagic' from '/Users/fufeidu/Library/Python/3.6/lib/python/site-packages/IPython/extensions/storemagic.py'>, 'IPython.utils.frame': <module 'IPython.utils.frame' from '/Users/fufeidu/Library/Python/3.6/lib/python/site-packages/IPython/utils/frame.py'>, 'jupyter_client': <module 'jupyter_client' from '/Users/fufeidu/Library/Python/3.6/lib/python/site-packages/jupyter_client/__init__.py'>, 'jupyter_client._version': <module 'jupyter_client._version' from '/Users/fufeidu/Library/Python/3.6/lib/python/site-packages/jupyter_client/_version.py'>, 'jupyter_client.connect': <module 'jupyter_client.connect' from '/Users/fufeidu/Library/Python/3.6/lib/python/site-packages/jupyter_client/connect.py'>, 'zmq': <module 'zmq' from '/Users/fufeidu/Library/Python/3.6/lib/python/site-packages/zmq/__init__.py'>, 'zmq.libzmq': <module 'zmq.libzmq' from '/Users/fufeidu/Library/Python/3.6/lib/python/site-packages/zmq/libzmq.cpython-36m-darwin.so'>, 'zmq.backend': <module 'zmq.backend' from '/Users/fufeidu/Library/Python/3.6/lib/python/site-packages/zmq/backend/__init__.py'>, 'zmq.backend.select': <module 'zmq.backend.select' from '/Users/fufeidu/Library/Python/3.6/lib/python/site-packages/zmq/backend/select.py'>, 'zmq.backend.cython': <module 'zmq.backend.cython' from '/Users/fufeidu/Library/Python/3.6/lib/python/site-packages/zmq/backend/cython/__init__.py'>, 'cython_runtime': <module 'cython_runtime'>, 'zmq.backend.cython.constants': <module 'zmq.backend.cython.constants' from '/Users/fufeidu/Library/Python/3.6/lib/python/site-packages/zmq/backend/cython/constants.cpython-36m-darwin.so'>, '_cython_0_27_3': <module '_cython_0_27_3'>, 'zmq.backend.cython.error': <module 'zmq.backend.cython.error' from '/Users/fufeidu/Library/Python/3.6/lib/python/site-packages/zmq/backend/cython/error.cpython-36m-darwin.so'>, 'zmq.utils': <module 'zmq.utils' from '/Users/fufeidu/Library/Python/3.6/lib/python/site-packages/zmq/utils/__init__.py'>, 'zmq.utils.strtypes': <module 'zmq.utils.strtypes' from '/Users/fufeidu/Library/Python/3.6/lib/python/site-packages/zmq/utils/strtypes.py'>, 'zmq.backend.cython.message': <module 'zmq.backend.cython.message' from '/Users/fufeidu/Library/Python/3.6/lib/python/site-packages/zmq/backend/cython/message.cpython-36m-darwin.so'>, 'zmq.error': <module 'zmq.error' from '/Users/fufeidu/Library/Python/3.6/lib/python/site-packages/zmq/error.py'>, 'zmq.backend.cython.context': <module 'zmq.backend.cython.context' from '/Users/fufeidu/Library/Python/3.6/lib/python/site-packages/zmq/backend/cython/context.cpython-36m-darwin.so'>, 'zmq.backend.cython.socket': <module 'zmq.backend.cython.socket' from '/Users/fufeidu/Library/Python/3.6/lib/python/site-packages/zmq/backend/cython/socket.cpython-36m-darwin.so'>, 'zmq.backend.cython.utils': <module 'zmq.backend.cython.utils' from '/Users/fufeidu/Library/Python/3.6/lib/python/site-packages/zmq/backend/cython/utils.cpython-36m-darwin.so'>, 'zmq.backend.cython._poll': <module 'zmq.backend.cython._poll' from '/Users/fufeidu/Library/Python/3.6/lib/python/site-packages/zmq/backend/cython/_poll.cpython-36m-darwin.so'>, 'zmq.backend.cython._version': <module 'zmq.backend.cython._version' from '/Users/fufeidu/Library/Python/3.6/lib/python/site-packages/zmq/backend/cython/_version.cpython-36m-darwin.so'>, 'zmq.backend.cython._device': <module 'zmq.backend.cython._device' from '/Users/fufeidu/Library/Python/3.6/lib/python/site-packages/zmq/backend/cython/_device.cpython-36m-darwin.so'>, 'zmq.sugar': <module 'zmq.sugar' from '/Users/fufeidu/Library/Python/3.6/lib/python/site-packages/zmq/sugar/__init__.py'>, 'zmq.sugar.constants': <module 'zmq.sugar.constants' from '/Users/fufeidu/Library/Python/3.6/lib/python/site-packages/zmq/sugar/constants.py'>, 'zmq.utils.constant_names': <module 'zmq.utils.constant_names' from '/Users/fufeidu/Library/Python/3.6/lib/python/site-packages/zmq/utils/constant_names.py'>, 'zmq.sugar.context': <module 'zmq.sugar.context' from '/Users/fufeidu/Library/Python/3.6/lib/python/site-packages/zmq/sugar/context.py'>, 'zmq.sugar.attrsettr': <module 'zmq.sugar.attrsettr' from '/Users/fufeidu/Library/Python/3.6/lib/python/site-packages/zmq/sugar/attrsettr.py'>, 'zmq.sugar.socket': <module 'zmq.sugar.socket' from '/Users/fufeidu/Library/Python/3.6/lib/python/site-packages/zmq/sugar/socket.py'>, 'zmq.sugar.poll': <module 'zmq.sugar.poll' from '/Users/fufeidu/Library/Python/3.6/lib/python/site-packages/zmq/sugar/poll.py'>, 'zmq.sugar.frame': <module 'zmq.sugar.frame' from '/Users/fufeidu/Library/Python/3.6/lib/python/site-packages/zmq/sugar/frame.py'>, 'zmq.sugar.tracker': <module 'zmq.sugar.tracker' from '/Users/fufeidu/Library/Python/3.6/lib/python/site-packages/zmq/sugar/tracker.py'>, 'zmq.sugar.version': <module 'zmq.sugar.version' from '/Users/fufeidu/Library/Python/3.6/lib/python/site-packages/zmq/sugar/version.py'>, 'zmq.sugar.stopwatch': <module 'zmq.sugar.stopwatch' from '/Users/fufeidu/Library/Python/3.6/lib/python/site-packages/zmq/sugar/stopwatch.py'>, 'jupyter_client.localinterfaces': <module 'jupyter_client.localinterfaces' from '/Users/fufeidu/Library/Python/3.6/lib/python/site-packages/jupyter_client/localinterfaces.py'>, 'jupyter_core': <module 'jupyter_core' from '/Users/fufeidu/Library/Python/3.6/lib/python/site-packages/jupyter_core/__init__.py'>, 'jupyter_core.version': <module 'jupyter_core.version' from '/Users/fufeidu/Library/Python/3.6/lib/python/site-packages/jupyter_core/version.py'>, 'jupyter_core.paths': <module 'jupyter_core.paths' from '/Users/fufeidu/Library/Python/3.6/lib/python/site-packages/jupyter_core/paths.py'>, 'jupyter_client.launcher': <module 'jupyter_client.launcher' from '/Users/fufeidu/Library/Python/3.6/lib/python/site-packages/jupyter_client/launcher.py'>, 'traitlets.log': <module 'traitlets.log' from '/Users/fufeidu/Library/Python/3.6/lib/python/site-packages/traitlets/log.py'>, 'jupyter_client.client': <module 'jupyter_client.client' from '/Users/fufeidu/Library/Python/3.6/lib/python/site-packages/jupyter_client/client.py'>, 'jupyter_client.channels': <module 'jupyter_client.channels' from '/Users/fufeidu/Library/Python/3.6/lib/python/site-packages/jupyter_client/channels.py'>, 'jupyter_client.channelsabc': <module 'jupyter_client.channelsabc' from '/Users/fufeidu/Library/Python/3.6/lib/python/site-packages/jupyter_client/channelsabc.py'>, 'jupyter_client.clientabc': <module 'jupyter_client.clientabc' from '/Users/fufeidu/Library/Python/3.6/lib/python/site-packages/jupyter_client/clientabc.py'>, 'jupyter_client.manager': <module 'jupyter_client.manager' from '/Users/fufeidu/Library/Python/3.6/lib/python/site-packages/jupyter_client/manager.py'>, 'jupyter_client.kernelspec': <module 'jupyter_client.kernelspec' from '/Users/fufeidu/Library/Python/3.6/lib/python/site-packages/jupyter_client/kernelspec.py'>, 'jupyter_client.managerabc': <module 'jupyter_client.managerabc' from '/Users/fufeidu/Library/Python/3.6/lib/python/site-packages/jupyter_client/managerabc.py'>, 'jupyter_client.blocking': <module 'jupyter_client.blocking' from '/Users/fufeidu/Library/Python/3.6/lib/python/site-packages/jupyter_client/blocking/__init__.py'>, 'jupyter_client.blocking.client': <module 'jupyter_client.blocking.client' from '/Users/fufeidu/Library/Python/3.6/lib/python/site-packages/jupyter_client/blocking/client.py'>, 'jupyter_client.blocking.channels': <module 'jupyter_client.blocking.channels' from '/Users/fufeidu/Library/Python/3.6/lib/python/site-packages/jupyter_client/blocking/channels.py'>, 'jupyter_client.multikernelmanager': <module 'jupyter_client.multikernelmanager' from '/Users/fufeidu/Library/Python/3.6/lib/python/site-packages/jupyter_client/multikernelmanager.py'>, 'uuid': <module 'uuid' from '/Library/Frameworks/Python.framework/Versions/3.6/lib/python3.6/uuid.py'>, 'ctypes.util': <module 'ctypes.util' from '/Library/Frameworks/Python.framework/Versions/3.6/lib/python3.6/ctypes/util.py'>, 'ctypes.macholib': <module 'ctypes.macholib' from '/Library/Frameworks/Python.framework/Versions/3.6/lib/python3.6/ctypes/macholib/__init__.py'>, 'ctypes.macholib.dyld': <module 'ctypes.macholib.dyld' from '/Library/Frameworks/Python.framework/Versions/3.6/lib/python3.6/ctypes/macholib/dyld.py'>, 'ctypes.macholib.framework': <module 'ctypes.macholib.framework' from '/Library/Frameworks/Python.framework/Versions/3.6/lib/python3.6/ctypes/macholib/framework.py'>, 'ctypes.macholib.dylib': <module 'ctypes.macholib.dylib' from '/Library/Frameworks/Python.framework/Versions/3.6/lib/python3.6/ctypes/macholib/dylib.py'>, 'ipykernel.kernelapp': <module 'ipykernel.kernelapp' from '/Users/fufeidu/Library/Python/3.6/lib/python/site-packages/ipykernel/kernelapp.py'>, 'tornado': <module 'tornado' from '/Users/fufeidu/Library/Python/3.6/lib/python/site-packages/tornado/__init__.py'>, 'tornado.ioloop': <module 'tornado.ioloop' from '/Users/fufeidu/Library/Python/3.6/lib/python/site-packages/tornado/ioloop.py'>, 'numbers': <module 'numbers' from '/Library/Frameworks/Python.framework/Versions/3.6/lib/python3.6/numbers.py'>, 'tornado.concurrent': <module 'tornado.concurrent' from '/Users/fufeidu/Library/Python/3.6/lib/python/site-packages/tornado/concurrent.py'>, 'tornado.log': <module 'tornado.log' from '/Users/fufeidu/Library/Python/3.6/lib/python/site-packages/tornado/log.py'>, 'logging.handlers': <module 'logging.handlers' from '/Library/Frameworks/Python.framework/Versions/3.6/lib/python3.6/logging/handlers.py'>, 'tornado.escape': <module 'tornado.escape' from '/Users/fufeidu/Library/Python/3.6/lib/python/site-packages/tornado/escape.py'>, 'tornado.util': <module 'tornado.util' from '/Users/fufeidu/Library/Python/3.6/lib/python/site-packages/tornado/util.py'>, 'tornado.speedups': <module 'tornado.speedups' from '/Users/fufeidu/Library/Python/3.6/lib/python/site-packages/tornado/speedups.cpython-36m-darwin.so'>, 'curses': <module 'curses' from '/Library/Frameworks/Python.framework/Versions/3.6/lib/python3.6/curses/__init__.py'>, '_curses': <module '_curses' from '/Library/Frameworks/Python.framework/Versions/3.6/lib/python3.6/lib-dynload/_curses.cpython-36m-darwin.so'>, 'tornado.stack_context': <module 'tornado.stack_context' from '/Users/fufeidu/Library/Python/3.6/lib/python/site-packages/tornado/stack_context.py'>, 'concurrent': <module 'concurrent' from '/Library/Frameworks/Python.framework/Versions/3.6/lib/python3.6/concurrent/__init__.py'>, 'concurrent.futures': <module 'concurrent.futures' from '/Library/Frameworks/Python.framework/Versions/3.6/lib/python3.6/concurrent/futures/__init__.py'>, 'concurrent.futures._base': <module 'concurrent.futures._base' from '/Library/Frameworks/Python.framework/Versions/3.6/lib/python3.6/concurrent/futures/_base.py'>, 'concurrent.futures.process': <module 'concurrent.futures.process' from '/Library/Frameworks/Python.framework/Versions/3.6/lib/python3.6/concurrent/futures/process.py'>, 'multiprocessing': <module 'multiprocessing' from '/Library/Frameworks/Python.framework/Versions/3.6/lib/python3.6/multiprocessing/__init__.py'>, 'multiprocessing.context': <module 'multiprocessing.context' from '/Library/Frameworks/Python.framework/Versions/3.6/lib/python3.6/multiprocessing/context.py'>, 'multiprocessing.process': <module 'multiprocessing.process' from '/Library/Frameworks/Python.framework/Versions/3.6/lib/python3.6/multiprocessing/process.py'>, 'multiprocessing.reduction': <module 'multiprocessing.reduction' from '/Library/Frameworks/Python.framework/Versions/3.6/lib/python3.6/multiprocessing/reduction.py'>, '__mp_main__': <module 'ipykernel_launcher' from '/Users/fufeidu/Library/Python/3.6/lib/python/site-packages/ipykernel_launcher.py'>, 'multiprocessing.connection': <module 'multiprocessing.connection' from '/Library/Frameworks/Python.framework/Versions/3.6/lib/python3.6/multiprocessing/connection.py'>, '_multiprocessing': <module '_multiprocessing' from '/Library/Frameworks/Python.framework/Versions/3.6/lib/python3.6/lib-dynload/_multiprocessing.cpython-36m-darwin.so'>, 'multiprocessing.util': <module 'multiprocessing.util' from '/Library/Frameworks/Python.framework/Versions/3.6/lib/python3.6/multiprocessing/util.py'>, 'concurrent.futures.thread': <module 'concurrent.futures.thread' from '/Library/Frameworks/Python.framework/Versions/3.6/lib/python3.6/concurrent/futures/thread.py'>, 'asyncio': <module 'asyncio' from '/Library/Frameworks/Python.framework/Versions/3.6/lib/python3.6/asyncio/__init__.py'>, 'asyncio.base_events': <module 'asyncio.base_events' from '/Library/Frameworks/Python.framework/Versions/3.6/lib/python3.6/asyncio/base_events.py'>, 'asyncio.compat': <module 'asyncio.compat' from '/Library/Frameworks/Python.framework/Versions/3.6/lib/python3.6/asyncio/compat.py'>, 'asyncio.coroutines': <module 'asyncio.coroutines' from '/Library/Frameworks/Python.framework/Versions/3.6/lib/python3.6/asyncio/coroutines.py'>, 'asyncio.events': <module 'asyncio.events' from '/Library/Frameworks/Python.framework/Versions/3.6/lib/python3.6/asyncio/events.py'>, 'asyncio.base_futures': <module 'asyncio.base_futures' from '/Library/Frameworks/Python.framework/Versions/3.6/lib/python3.6/asyncio/base_futures.py'>, 'asyncio.log': <module 'asyncio.log' from '/Library/Frameworks/Python.framework/Versions/3.6/lib/python3.6/asyncio/log.py'>, 'asyncio.futures': <module 'asyncio.futures' from '/Library/Frameworks/Python.framework/Versions/3.6/lib/python3.6/asyncio/futures.py'>, 'asyncio.base_tasks': <module 'asyncio.base_tasks' from '/Library/Frameworks/Python.framework/Versions/3.6/lib/python3.6/asyncio/base_tasks.py'>, '_asyncio': <module '_asyncio' from '/Library/Frameworks/Python.framework/Versions/3.6/lib/python3.6/lib-dynload/_asyncio.cpython-36m-darwin.so'>, 'asyncio.tasks': <module 'asyncio.tasks' from '/Library/Frameworks/Python.framework/Versions/3.6/lib/python3.6/asyncio/tasks.py'>, 'asyncio.locks': <module 'asyncio.locks' from '/Library/Frameworks/Python.framework/Versions/3.6/lib/python3.6/asyncio/locks.py'>, 'asyncio.protocols': <module 'asyncio.protocols' from '/Library/Frameworks/Python.framework/Versions/3.6/lib/python3.6/asyncio/protocols.py'>, 'asyncio.queues': <module 'asyncio.queues' from '/Library/Frameworks/Python.framework/Versions/3.6/lib/python3.6/asyncio/queues.py'>, 'asyncio.streams': <module 'asyncio.streams' from '/Library/Frameworks/Python.framework/Versions/3.6/lib/python3.6/asyncio/streams.py'>, 'asyncio.subprocess': <module 'asyncio.subprocess' from '/Library/Frameworks/Python.framework/Versions/3.6/lib/python3.6/asyncio/subprocess.py'>, 'asyncio.transports': <module 'asyncio.transports' from '/Library/Frameworks/Python.framework/Versions/3.6/lib/python3.6/asyncio/transports.py'>, 'asyncio.unix_events': <module 'asyncio.unix_events' from '/Library/Frameworks/Python.framework/Versions/3.6/lib/python3.6/asyncio/unix_events.py'>, 'asyncio.base_subprocess': <module 'asyncio.base_subprocess' from '/Library/Frameworks/Python.framework/Versions/3.6/lib/python3.6/asyncio/base_subprocess.py'>, 'asyncio.constants': <module 'asyncio.constants' from '/Library/Frameworks/Python.framework/Versions/3.6/lib/python3.6/asyncio/constants.py'>, 'asyncio.selector_events': <module 'asyncio.selector_events' from '/Library/Frameworks/Python.framework/Versions/3.6/lib/python3.6/asyncio/selector_events.py'>, 'ssl': <module 'ssl' from '/Library/Frameworks/Python.framework/Versions/3.6/lib/python3.6/ssl.py'>, 'ipaddress': <module 'ipaddress' from '/Library/Frameworks/Python.framework/Versions/3.6/lib/python3.6/ipaddress.py'>, '_ssl': <module '_ssl' from '/Library/Frameworks/Python.framework/Versions/3.6/lib/python3.6/lib-dynload/_ssl.cpython-36m-darwin.so'>, 'base64': <module 'base64' from '/Library/Frameworks/Python.framework/Versions/3.6/lib/python3.6/base64.py'>, 'asyncio.sslproto': <module 'asyncio.sslproto' from '/Library/Frameworks/Python.framework/Versions/3.6/lib/python3.6/asyncio/sslproto.py'>, 'tornado.platform': <module 'tornado.platform' from '/Users/fufeidu/Library/Python/3.6/lib/python/site-packages/tornado/platform/__init__.py'>, 'tornado.platform.auto': <module 'tornado.platform.auto' from '/Users/fufeidu/Library/Python/3.6/lib/python/site-packages/tornado/platform/auto.py'>, 'tornado.platform.posix': <module 'tornado.platform.posix' from '/Users/fufeidu/Library/Python/3.6/lib/python/site-packages/tornado/platform/posix.py'>, 'tornado.platform.common': <module 'tornado.platform.common' from '/Users/fufeidu/Library/Python/3.6/lib/python/site-packages/tornado/platform/common.py'>, 'tornado.platform.interface': <module 'tornado.platform.interface' from '/Users/fufeidu/Library/Python/3.6/lib/python/site-packages/tornado/platform/interface.py'>, 'zmq.eventloop': <module 'zmq.eventloop' from '/Users/fufeidu/Library/Python/3.6/lib/python/site-packages/zmq/eventloop/__init__.py'>, 'zmq.eventloop.ioloop': <module 'zmq.eventloop.ioloop' from '/Users/fufeidu/Library/Python/3.6/lib/python/site-packages/zmq/eventloop/ioloop.py'>, 'tornado.platform.asyncio': <module 'tornado.platform.asyncio' from '/Users/fufeidu/Library/Python/3.6/lib/python/site-packages/tornado/platform/asyncio.py'>, 'tornado.gen': <module 'tornado.gen' from '/Users/fufeidu/Library/Python/3.6/lib/python/site-packages/tornado/gen.py'>, 'zmq.eventloop.zmqstream': <module 'zmq.eventloop.zmqstream' from '/Users/fufeidu/Library/Python/3.6/lib/python/site-packages/zmq/eventloop/zmqstream.py'>, 'zmq.utils.jsonapi': <module 'zmq.utils.jsonapi' from '/Users/fufeidu/Library/Python/3.6/lib/python/site-packages/zmq/utils/jsonapi.py'>, 'ipykernel.iostream': <module 'ipykernel.iostream' from '/Users/fufeidu/Library/Python/3.6/lib/python/site-packages/ipykernel/iostream.py'>, 'jupyter_client.session': <module 'jupyter_client.session' from '/Users/fufeidu/Library/Python/3.6/lib/python/site-packages/jupyter_client/session.py'>, 'hmac': <module 'hmac' from '/Library/Frameworks/Python.framework/Versions/3.6/lib/python3.6/hmac.py'>, 'jupyter_client.jsonutil': <module 'jupyter_client.jsonutil' from '/Users/fufeidu/Library/Python/3.6/lib/python/site-packages/jupyter_client/jsonutil.py'>, 'dateutil': <module 'dateutil' from '/Users/fufeidu/Library/Python/3.6/lib/python/site-packages/dateutil/__init__.py'>, 'dateutil._version': <module 'dateutil._version' from '/Users/fufeidu/Library/Python/3.6/lib/python/site-packages/dateutil/_version.py'>, 'dateutil.parser': <module 'dateutil.parser' from '/Users/fufeidu/Library/Python/3.6/lib/python/site-packages/dateutil/parser.py'>, 'calendar': <module 'calendar' from '/Library/Frameworks/Python.framework/Versions/3.6/lib/python3.6/calendar.py'>, 'dateutil.relativedelta': <module 'dateutil.relativedelta' from '/Users/fufeidu/Library/Python/3.6/lib/python/site-packages/dateutil/relativedelta.py'>, 'dateutil._common': <module 'dateutil._common' from '/Users/fufeidu/Library/Python/3.6/lib/python/site-packages/dateutil/_common.py'>, 'dateutil.tz': <module 'dateutil.tz' from '/Users/fufeidu/Library/Python/3.6/lib/python/site-packages/dateutil/tz/__init__.py'>, 'dateutil.tz.tz': <module 'dateutil.tz.tz' from '/Users/fufeidu/Library/Python/3.6/lib/python/site-packages/dateutil/tz/tz.py'>, 'dateutil.tz._common': <module 'dateutil.tz._common' from '/Users/fufeidu/Library/Python/3.6/lib/python/site-packages/dateutil/tz/_common.py'>, '_strptime': <module '_strptime' from '/Library/Frameworks/Python.framework/Versions/3.6/lib/python3.6/_strptime.py'>, 'jupyter_client.adapter': <module 'jupyter_client.adapter' from '/Users/fufeidu/Library/Python/3.6/lib/python/site-packages/jupyter_client/adapter.py'>, 'ipykernel.heartbeat': <module 'ipykernel.heartbeat' from '/Users/fufeidu/Library/Python/3.6/lib/python/site-packages/ipykernel/heartbeat.py'>, 'ipykernel.ipkernel': <module 'ipykernel.ipkernel' from '/Users/fufeidu/Library/Python/3.6/lib/python/site-packages/ipykernel/ipkernel.py'>, 'IPython.utils.tokenutil': <module 'IPython.utils.tokenutil' from '/Users/fufeidu/Library/Python/3.6/lib/python/site-packages/IPython/utils/tokenutil.py'>, 'ipykernel.comm': <module 'ipykernel.comm' from '/Users/fufeidu/Library/Python/3.6/lib/python/site-packages/ipykernel/comm/__init__.py'>, 'ipykernel.comm.manager': <module 'ipykernel.comm.manager' from '/Users/fufeidu/Library/Python/3.6/lib/python/site-packages/ipykernel/comm/manager.py'>, 'ipykernel.comm.comm': <module 'ipykernel.comm.comm' from '/Users/fufeidu/Library/Python/3.6/lib/python/site-packages/ipykernel/comm/comm.py'>, 'ipykernel.kernelbase': <module 'ipykernel.kernelbase' from '/Users/fufeidu/Library/Python/3.6/lib/python/site-packages/ipykernel/kernelbase.py'>, 'ipykernel.jsonutil': <module 'ipykernel.jsonutil' from '/Users/fufeidu/Library/Python/3.6/lib/python/site-packages/ipykernel/jsonutil.py'>, 'ipykernel.zmqshell': <module 'ipykernel.zmqshell' from '/Users/fufeidu/Library/Python/3.6/lib/python/site-packages/ipykernel/zmqshell.py'>, 'IPython.core.payloadpage': <module 'IPython.core.payloadpage' from '/Users/fufeidu/Library/Python/3.6/lib/python/site-packages/IPython/core/payloadpage.py'>, 'ipykernel.displayhook': <module 'ipykernel.displayhook' from '/Users/fufeidu/Library/Python/3.6/lib/python/site-packages/ipykernel/displayhook.py'>, 'ipykernel.parentpoller': <module 'ipykernel.parentpoller' from '/Users/fufeidu/Library/Python/3.6/lib/python/site-packages/ipykernel/parentpoller.py'>, 'faulthandler': <module 'faulthandler' (built-in)>, 'ipykernel.datapub': <module 'ipykernel.datapub' from '/Users/fufeidu/Library/Python/3.6/lib/python/site-packages/ipykernel/datapub.py'>, 'ipykernel.serialize': <module 'ipykernel.serialize' from '/Users/fufeidu/Library/Python/3.6/lib/python/site-packages/ipykernel/serialize.py'>, 'ipykernel.pickleutil': <module 'ipykernel.pickleutil' from '/Users/fufeidu/Library/Python/3.6/lib/python/site-packages/ipykernel/pickleutil.py'>, 'ipykernel.codeutil': <module 'ipykernel.codeutil' from '/Users/fufeidu/Library/Python/3.6/lib/python/site-packages/ipykernel/codeutil.py'>, 'IPython.core.completerlib': <module 'IPython.core.completerlib' from '/Users/fufeidu/Library/Python/3.6/lib/python/site-packages/IPython/core/completerlib.py'>, 'storemagic': <module 'storemagic' from '/Users/fufeidu/Library/Python/3.6/lib/python/site-packages/IPython/extensions/storemagic.py'>, 'ipywidgets': <module 'ipywidgets' from '/Users/fufeidu/Library/Python/3.6/lib/python/site-packages/ipywidgets/__init__.py'>, 'ipywidgets._version': <module 'ipywidgets._version' from '/Users/fufeidu/Library/Python/3.6/lib/python/site-packages/ipywidgets/_version.py'>, 'ipywidgets.widgets': <module 'ipywidgets.widgets' from '/Users/fufeidu/Library/Python/3.6/lib/python/site-packages/ipywidgets/widgets/__init__.py'>, 'ipywidgets.widgets.widget': <module 'ipywidgets.widgets.widget' from '/Users/fufeidu/Library/Python/3.6/lib/python/site-packages/ipywidgets/widgets/widget.py'>, 'ipywidgets.widgets.domwidget': <module 'ipywidgets.widgets.domwidget' from '/Users/fufeidu/Library/Python/3.6/lib/python/site-packages/ipywidgets/widgets/domwidget.py'>, 'ipywidgets.widgets.trait_types': <module 'ipywidgets.widgets.trait_types' from '/Users/fufeidu/Library/Python/3.6/lib/python/site-packages/ipywidgets/widgets/trait_types.py'>, 'ipywidgets.widgets.widget_layout': <module 'ipywidgets.widgets.widget_layout' from '/Users/fufeidu/Library/Python/3.6/lib/python/site-packages/ipywidgets/widgets/widget_layout.py'>, 'ipywidgets.widgets.widget_style': <module 'ipywidgets.widgets.widget_style' from '/Users/fufeidu/Library/Python/3.6/lib/python/site-packages/ipywidgets/widgets/widget_style.py'>, 'ipywidgets.widgets.valuewidget': <module 'ipywidgets.widgets.valuewidget' from '/Users/fufeidu/Library/Python/3.6/lib/python/site-packages/ipywidgets/widgets/valuewidget.py'>, 'ipywidgets.widgets.widget_core': <module 'ipywidgets.widgets.widget_core' from '/Users/fufeidu/Library/Python/3.6/lib/python/site-packages/ipywidgets/widgets/widget_core.py'>, 'ipywidgets.widgets.widget_bool': <module 'ipywidgets.widgets.widget_bool' from '/Users/fufeidu/Library/Python/3.6/lib/python/site-packages/ipywidgets/widgets/widget_bool.py'>, 'ipywidgets.widgets.widget_description': <module 'ipywidgets.widgets.widget_description' from '/Users/fufeidu/Library/Python/3.6/lib/python/site-packages/ipywidgets/widgets/widget_description.py'>, 'ipywidgets.widgets.widget_button': <module 'ipywidgets.widgets.widget_button' from '/Users/fufeidu/Library/Python/3.6/lib/python/site-packages/ipywidgets/widgets/widget_button.py'>, 'ipywidgets.widgets.widget_box': <module 'ipywidgets.widgets.widget_box' from '/Users/fufeidu/Library/Python/3.6/lib/python/site-packages/ipywidgets/widgets/widget_box.py'>, 'ipywidgets.widgets.docutils': <module 'ipywidgets.widgets.docutils' from '/Users/fufeidu/Library/Python/3.6/lib/python/site-packages/ipywidgets/widgets/docutils.py'>, 'ipywidgets.widgets.widget_float': <module 'ipywidgets.widgets.widget_float' from '/Users/fufeidu/Library/Python/3.6/lib/python/site-packages/ipywidgets/widgets/widget_float.py'>, 'ipywidgets.widgets.widget_int': <module 'ipywidgets.widgets.widget_int' from '/Users/fufeidu/Library/Python/3.6/lib/python/site-packages/ipywidgets/widgets/widget_int.py'>, 'ipywidgets.widgets.widget_image': <module 'ipywidgets.widgets.widget_image' from '/Users/fufeidu/Library/Python/3.6/lib/python/site-packages/ipywidgets/widgets/widget_image.py'>, 'ipywidgets.widgets.widget_color': <module 'ipywidgets.widgets.widget_color' from '/Users/fufeidu/Library/Python/3.6/lib/python/site-packages/ipywidgets/widgets/widget_color.py'>, 'ipywidgets.widgets.widget_date': <module 'ipywidgets.widgets.widget_date' from '/Users/fufeidu/Library/Python/3.6/lib/python/site-packages/ipywidgets/widgets/widget_date.py'>, 'ipywidgets.widgets.widget_output': <module 'ipywidgets.widgets.widget_output' from '/Users/fufeidu/Library/Python/3.6/lib/python/site-packages/ipywidgets/widgets/widget_output.py'>, 'ipywidgets.widgets.widget_selection': <module 'ipywidgets.widgets.widget_selection' from '/Users/fufeidu/Library/Python/3.6/lib/python/site-packages/ipywidgets/widgets/widget_selection.py'>, 'ipywidgets.widgets.widget_selectioncontainer': <module 'ipywidgets.widgets.widget_selectioncontainer' from '/Users/fufeidu/Library/Python/3.6/lib/python/site-packages/ipywidgets/widgets/widget_selectioncontainer.py'>, 'ipywidgets.widgets.widget_string': <module 'ipywidgets.widgets.widget_string' from '/Users/fufeidu/Library/Python/3.6/lib/python/site-packages/ipywidgets/widgets/widget_string.py'>, 'ipywidgets.widgets.widget_controller': <module 'ipywidgets.widgets.widget_controller' from '/Users/fufeidu/Library/Python/3.6/lib/python/site-packages/ipywidgets/widgets/widget_controller.py'>, 'ipywidgets.widgets.interaction': <module 'ipywidgets.widgets.interaction' from '/Users/fufeidu/Library/Python/3.6/lib/python/site-packages/ipywidgets/widgets/interaction.py'>, 'ipywidgets.widgets.widget_link': <module 'ipywidgets.widgets.widget_link' from '/Users/fufeidu/Library/Python/3.6/lib/python/site-packages/ipywidgets/widgets/widget_link.py'>}\n"
     ]
    }
   ],
   "source": [
    "import sys\n",
    "print(sys.modules)"
   ]
  },
  {
   "cell_type": "code",
   "execution_count": 98,
   "metadata": {},
   "outputs": [
    {
     "name": "stdout",
     "output_type": "stream",
     "text": [
      "['', '/Library/Frameworks/Python.framework/Versions/3.6/lib/python36.zip', '/Library/Frameworks/Python.framework/Versions/3.6/lib/python3.6', '/Library/Frameworks/Python.framework/Versions/3.6/lib/python3.6/lib-dynload', '/Users/fufeidu/Library/Python/3.6/lib/python/site-packages', '/Library/Frameworks/Python.framework/Versions/3.6/lib/python3.6/site-packages', '/Users/fufeidu/Library/Python/3.6/lib/python/site-packages/IPython/extensions', '/Users/fufeidu/.ipython']\n"
     ]
    }
   ],
   "source": [
    "print(sys.path)"
   ]
  },
  {
   "cell_type": "code",
   "execution_count": 99,
   "metadata": {},
   "outputs": [],
   "source": [
    "from name_space import x,y"
   ]
  },
  {
   "cell_type": "code",
   "execution_count": 100,
   "metadata": {},
   "outputs": [
    {
     "data": {
      "text/plain": [
       "10"
      ]
     },
     "execution_count": 100,
     "metadata": {},
     "output_type": "execute_result"
    }
   ],
   "source": [
    "x"
   ]
  },
  {
   "cell_type": "code",
   "execution_count": 101,
   "metadata": {},
   "outputs": [
    {
     "data": {
      "text/plain": [
       "[1, 2, 3]"
      ]
     },
     "execution_count": 101,
     "metadata": {},
     "output_type": "execute_result"
    }
   ],
   "source": [
    "y"
   ]
  },
  {
   "cell_type": "code",
   "execution_count": 102,
   "metadata": {},
   "outputs": [],
   "source": [
    "y[2]=8"
   ]
  },
  {
   "cell_type": "code",
   "execution_count": 103,
   "metadata": {},
   "outputs": [
    {
     "data": {
      "text/plain": [
       "[1, 2, 8]"
      ]
     },
     "execution_count": 103,
     "metadata": {},
     "output_type": "execute_result"
    }
   ],
   "source": [
    "y"
   ]
  },
  {
   "cell_type": "code",
   "execution_count": 104,
   "metadata": {},
   "outputs": [],
   "source": [
    "import name_space"
   ]
  },
  {
   "cell_type": "code",
   "execution_count": 105,
   "metadata": {},
   "outputs": [
    {
     "data": {
      "text/plain": [
       "[1, 2, 8]"
      ]
     },
     "execution_count": 105,
     "metadata": {},
     "output_type": "execute_result"
    }
   ],
   "source": [
    "name_space.y"
   ]
  },
  {
   "cell_type": "code",
   "execution_count": 111,
   "metadata": {},
   "outputs": [],
   "source": [
    "name_space.x = 15"
   ]
  },
  {
   "cell_type": "code",
   "execution_count": 112,
   "metadata": {},
   "outputs": [
    {
     "data": {
      "text/plain": [
       "11"
      ]
     },
     "execution_count": 112,
     "metadata": {},
     "output_type": "execute_result"
    }
   ],
   "source": [
    "x"
   ]
  },
  {
   "cell_type": "code",
   "execution_count": 116,
   "metadata": {},
   "outputs": [
    {
     "data": {
      "text/plain": [
       "[('__name__', 'name_space'),\n",
       " ('__doc__', None),\n",
       " ('__package__', ''),\n",
       " ('__loader__', <_frozen_importlib_external.SourceFileLoader at 0x1088ba1d0>),\n",
       " ('__spec__',\n",
       "  ModuleSpec(name='name_space', loader=<_frozen_importlib_external.SourceFileLoader object at 0x1088ba1d0>, origin='/Users/fufeidu/GitHub/udacity/AI_Trade/learn/python/name_space.py')),\n",
       " ('__file__',\n",
       "  '/Users/fufeidu/GitHub/udacity/AI_Trade/learn/python/name_space.py'),\n",
       " ('__cached__',\n",
       "  '/Users/fufeidu/GitHub/udacity/AI_Trade/learn/python/__pycache__/name_space.cpython-36.pyc'),\n",
       " ('__builtins__',\n",
       "  {'__name__': 'builtins',\n",
       "   '__doc__': \"Built-in functions, exceptions, and other objects.\\n\\nNoteworthy: None is the `nil' object; Ellipsis represents `...' in slices.\",\n",
       "   '__package__': '',\n",
       "   '__loader__': _frozen_importlib.BuiltinImporter,\n",
       "   '__spec__': ModuleSpec(name='builtins', loader=<class '_frozen_importlib.BuiltinImporter'>),\n",
       "   '__build_class__': <function __build_class__>,\n",
       "   '__import__': <function __import__>,\n",
       "   'abs': <function abs(x, /)>,\n",
       "   'all': <function all(iterable, /)>,\n",
       "   'any': <function any(iterable, /)>,\n",
       "   'ascii': <function ascii(obj, /)>,\n",
       "   'bin': <function bin(number, /)>,\n",
       "   'callable': <function callable(obj, /)>,\n",
       "   'chr': <function chr(i, /)>,\n",
       "   'compile': <function compile(source, filename, mode, flags=0, dont_inherit=False, optimize=-1)>,\n",
       "   'delattr': <function delattr(obj, name, /)>,\n",
       "   'dir': <function dir>,\n",
       "   'divmod': <function divmod(x, y, /)>,\n",
       "   'eval': <function eval(source, globals=None, locals=None, /)>,\n",
       "   'exec': <function exec(source, globals=None, locals=None, /)>,\n",
       "   'format': <function format(value, format_spec='', /)>,\n",
       "   'getattr': <function getattr>,\n",
       "   'globals': <function globals()>,\n",
       "   'hasattr': <function hasattr(obj, name, /)>,\n",
       "   'hash': <function hash(obj, /)>,\n",
       "   'hex': <function hex(number, /)>,\n",
       "   'id': <function id(obj, /)>,\n",
       "   'input': <bound method Kernel.raw_input of <ipykernel.ipkernel.IPythonKernel object at 0x108651e48>>,\n",
       "   'isinstance': <function isinstance(obj, class_or_tuple, /)>,\n",
       "   'issubclass': <function issubclass(cls, class_or_tuple, /)>,\n",
       "   'iter': <function iter>,\n",
       "   'len': <function len(obj, /)>,\n",
       "   'locals': <function locals()>,\n",
       "   'max': <function max>,\n",
       "   'min': <function min>,\n",
       "   'next': <function next>,\n",
       "   'oct': <function oct(number, /)>,\n",
       "   'ord': <function ord(c, /)>,\n",
       "   'pow': <function pow(x, y, z=None, /)>,\n",
       "   'print': <function print>,\n",
       "   'repr': <function repr(obj, /)>,\n",
       "   'round': <function round>,\n",
       "   'setattr': <function setattr(obj, name, value, /)>,\n",
       "   'sorted': <function sorted(iterable, /, *, key=None, reverse=False)>,\n",
       "   'sum': <function sum(iterable, start=0, /)>,\n",
       "   'vars': <function vars>,\n",
       "   'None': None,\n",
       "   'Ellipsis': Ellipsis,\n",
       "   'NotImplemented': NotImplemented,\n",
       "   'False': False,\n",
       "   'True': True,\n",
       "   'bool': bool,\n",
       "   'memoryview': memoryview,\n",
       "   'bytearray': bytearray,\n",
       "   'bytes': bytes,\n",
       "   'classmethod': classmethod,\n",
       "   'complex': complex,\n",
       "   'dict': dict,\n",
       "   'enumerate': enumerate,\n",
       "   'filter': filter,\n",
       "   'float': float,\n",
       "   'frozenset': frozenset,\n",
       "   'property': property,\n",
       "   'int': int,\n",
       "   'list': list,\n",
       "   'map': map,\n",
       "   'object': object,\n",
       "   'range': range,\n",
       "   'reversed': reversed,\n",
       "   'set': set,\n",
       "   'slice': slice,\n",
       "   'staticmethod': staticmethod,\n",
       "   'str': str,\n",
       "   'super': super,\n",
       "   'tuple': tuple,\n",
       "   'type': type,\n",
       "   'zip': zip,\n",
       "   '__debug__': True,\n",
       "   'BaseException': BaseException,\n",
       "   'Exception': Exception,\n",
       "   'TypeError': TypeError,\n",
       "   'StopAsyncIteration': StopAsyncIteration,\n",
       "   'StopIteration': StopIteration,\n",
       "   'GeneratorExit': GeneratorExit,\n",
       "   'SystemExit': SystemExit,\n",
       "   'KeyboardInterrupt': KeyboardInterrupt,\n",
       "   'ImportError': ImportError,\n",
       "   'ModuleNotFoundError': ModuleNotFoundError,\n",
       "   'OSError': OSError,\n",
       "   'EnvironmentError': OSError,\n",
       "   'IOError': OSError,\n",
       "   'EOFError': EOFError,\n",
       "   'RuntimeError': RuntimeError,\n",
       "   'RecursionError': RecursionError,\n",
       "   'NotImplementedError': NotImplementedError,\n",
       "   'NameError': NameError,\n",
       "   'UnboundLocalError': UnboundLocalError,\n",
       "   'AttributeError': AttributeError,\n",
       "   'SyntaxError': SyntaxError,\n",
       "   'IndentationError': IndentationError,\n",
       "   'TabError': TabError,\n",
       "   'LookupError': LookupError,\n",
       "   'IndexError': IndexError,\n",
       "   'KeyError': KeyError,\n",
       "   'ValueError': ValueError,\n",
       "   'UnicodeError': UnicodeError,\n",
       "   'UnicodeEncodeError': UnicodeEncodeError,\n",
       "   'UnicodeDecodeError': UnicodeDecodeError,\n",
       "   'UnicodeTranslateError': UnicodeTranslateError,\n",
       "   'AssertionError': AssertionError,\n",
       "   'ArithmeticError': ArithmeticError,\n",
       "   'FloatingPointError': FloatingPointError,\n",
       "   'OverflowError': OverflowError,\n",
       "   'ZeroDivisionError': ZeroDivisionError,\n",
       "   'SystemError': SystemError,\n",
       "   'ReferenceError': ReferenceError,\n",
       "   'BufferError': BufferError,\n",
       "   'MemoryError': MemoryError,\n",
       "   'Warning': Warning,\n",
       "   'UserWarning': UserWarning,\n",
       "   'DeprecationWarning': DeprecationWarning,\n",
       "   'PendingDeprecationWarning': PendingDeprecationWarning,\n",
       "   'SyntaxWarning': SyntaxWarning,\n",
       "   'RuntimeWarning': RuntimeWarning,\n",
       "   'FutureWarning': FutureWarning,\n",
       "   'ImportWarning': ImportWarning,\n",
       "   'UnicodeWarning': UnicodeWarning,\n",
       "   'BytesWarning': BytesWarning,\n",
       "   'ResourceWarning': ResourceWarning,\n",
       "   'ConnectionError': ConnectionError,\n",
       "   'BlockingIOError': BlockingIOError,\n",
       "   'BrokenPipeError': BrokenPipeError,\n",
       "   'ChildProcessError': ChildProcessError,\n",
       "   'ConnectionAbortedError': ConnectionAbortedError,\n",
       "   'ConnectionRefusedError': ConnectionRefusedError,\n",
       "   'ConnectionResetError': ConnectionResetError,\n",
       "   'FileExistsError': FileExistsError,\n",
       "   'FileNotFoundError': FileNotFoundError,\n",
       "   'IsADirectoryError': IsADirectoryError,\n",
       "   'NotADirectoryError': NotADirectoryError,\n",
       "   'InterruptedError': InterruptedError,\n",
       "   'PermissionError': PermissionError,\n",
       "   'ProcessLookupError': ProcessLookupError,\n",
       "   'TimeoutError': TimeoutError,\n",
       "   'open': <function io.open(file, mode='r', buffering=-1, encoding=None, errors=None, newline=None, closefd=True, opener=None)>,\n",
       "   'copyright': Copyright (c) 2001-2017 Python Software Foundation.\n",
       "   All Rights Reserved.\n",
       "   \n",
       "   Copyright (c) 2000 BeOpen.com.\n",
       "   All Rights Reserved.\n",
       "   \n",
       "   Copyright (c) 1995-2001 Corporation for National Research Initiatives.\n",
       "   All Rights Reserved.\n",
       "   \n",
       "   Copyright (c) 1991-1995 Stichting Mathematisch Centrum, Amsterdam.\n",
       "   All Rights Reserved.,\n",
       "   'credits':     Thanks to CWI, CNRI, BeOpen.com, Zope Corporation and a cast of thousands\n",
       "       for supporting Python development.  See www.python.org for more information.,\n",
       "   'license': Type license() to see the full license text,\n",
       "   'help': Type help() for interactive help, or help(object) for help about object.,\n",
       "   '__IPYTHON__': True,\n",
       "   'display': <function IPython.core.display.display(*objs, include=None, exclude=None, metadata=None, transient=None, display_id=None, **kwargs)>,\n",
       "   'get_ipython': <bound method InteractiveShell.get_ipython of <ipykernel.zmqshell.ZMQInteractiveShell object at 0x108651cf8>>}),\n",
       " ('x', 15),\n",
       " ('y', [1, 2, 8])]"
      ]
     },
     "execution_count": 116,
     "metadata": {},
     "output_type": "execute_result"
    }
   ],
   "source": [
    "list(name_space.__dict__.items())"
   ]
  },
  {
   "cell_type": "code",
   "execution_count": 117,
   "metadata": {},
   "outputs": [
    {
     "ename": "NameError",
     "evalue": "name 'reload' is not defined",
     "output_type": "error",
     "traceback": [
      "\u001b[0;31m---------------------------------------------------------------------------\u001b[0m",
      "\u001b[0;31mNameError\u001b[0m                                 Traceback (most recent call last)",
      "\u001b[0;32m<ipython-input-117-470798f98135>\u001b[0m in \u001b[0;36m<module>\u001b[0;34m()\u001b[0m\n\u001b[0;32m----> 1\u001b[0;31m \u001b[0mreload\u001b[0m\u001b[0;34m(\u001b[0m\u001b[0;34m'name_space'\u001b[0m\u001b[0;34m)\u001b[0m\u001b[0;34m\u001b[0m\u001b[0m\n\u001b[0m",
      "\u001b[0;31mNameError\u001b[0m: name 'reload' is not defined"
     ]
    }
   ],
   "source": [
    "reload('name_space')"
   ]
  },
  {
   "cell_type": "code",
   "execution_count": 118,
   "metadata": {},
   "outputs": [],
   "source": [
    "import name_space"
   ]
  },
  {
   "cell_type": "code",
   "execution_count": 119,
   "metadata": {},
   "outputs": [],
   "source": [
    "X = 1"
   ]
  },
  {
   "cell_type": "code",
   "execution_count": 120,
   "metadata": {},
   "outputs": [
    {
     "ename": "AttributeError",
     "evalue": "module 'name_space' has no attribute 'ff'",
     "output_type": "error",
     "traceback": [
      "\u001b[0;31m---------------------------------------------------------------------------\u001b[0m",
      "\u001b[0;31mAttributeError\u001b[0m                            Traceback (most recent call last)",
      "\u001b[0;32m<ipython-input-120-02c2dfbbc0d6>\u001b[0m in \u001b[0;36m<module>\u001b[0;34m()\u001b[0m\n\u001b[0;32m----> 1\u001b[0;31m \u001b[0mname_space\u001b[0m\u001b[0;34m.\u001b[0m\u001b[0mff\u001b[0m\u001b[0;34m(\u001b[0m\u001b[0;34m)\u001b[0m\u001b[0;34m\u001b[0m\u001b[0m\n\u001b[0m",
      "\u001b[0;31mAttributeError\u001b[0m: module 'name_space' has no attribute 'ff'"
     ]
    }
   ],
   "source": [
    "name_space.ff()"
   ]
  },
  {
   "cell_type": "code",
   "execution_count": 121,
   "metadata": {},
   "outputs": [
    {
     "ename": "NameError",
     "evalue": "name 'reload' is not defined",
     "output_type": "error",
     "traceback": [
      "\u001b[0;31m---------------------------------------------------------------------------\u001b[0m",
      "\u001b[0;31mNameError\u001b[0m                                 Traceback (most recent call last)",
      "\u001b[0;32m<ipython-input-121-2acfd6834d1d>\u001b[0m in \u001b[0;36m<module>\u001b[0;34m()\u001b[0m\n\u001b[0;32m----> 1\u001b[0;31m \u001b[0mreload\u001b[0m\u001b[0;34m(\u001b[0m\u001b[0mname_space\u001b[0m\u001b[0;34m)\u001b[0m\u001b[0;34m\u001b[0m\u001b[0m\n\u001b[0m",
      "\u001b[0;31mNameError\u001b[0m: name 'reload' is not defined"
     ]
    }
   ],
   "source": [
    "reload(name_space)"
   ]
  },
  {
   "cell_type": "code",
   "execution_count": 124,
   "metadata": {},
   "outputs": [],
   "source": [
    "import importlib"
   ]
  },
  {
   "cell_type": "code",
   "execution_count": 126,
   "metadata": {},
   "outputs": [
    {
     "data": {
      "text/plain": [
       "<module 'name_space' from '/Users/fufeidu/GitHub/udacity/AI_Trade/learn/python/name_space.py'>"
      ]
     },
     "execution_count": 126,
     "metadata": {},
     "output_type": "execute_result"
    }
   ],
   "source": [
    "importlib.reload(name_space)"
   ]
  },
  {
   "cell_type": "code",
   "execution_count": 127,
   "metadata": {},
   "outputs": [],
   "source": [
    "name_space.ff()"
   ]
  },
  {
   "cell_type": "code",
   "execution_count": 128,
   "metadata": {},
   "outputs": [
    {
     "data": {
      "text/plain": [
       "1"
      ]
     },
     "execution_count": 128,
     "metadata": {},
     "output_type": "execute_result"
    }
   ],
   "source": [
    "X"
   ]
  },
  {
   "cell_type": "code",
   "execution_count": 129,
   "metadata": {},
   "outputs": [
    {
     "data": {
      "text/plain": [
       "100"
      ]
     },
     "execution_count": 129,
     "metadata": {},
     "output_type": "execute_result"
    }
   ],
   "source": [
    "name_space.X"
   ]
  },
  {
   "cell_type": "code",
   "execution_count": 9,
   "metadata": {},
   "outputs": [
    {
     "ename": "SyntaxError",
     "evalue": "unexpected character after line continuation character (<ipython-input-9-6183edef6333>, line 1)",
     "output_type": "error",
     "traceback": [
      "\u001b[0;36m  File \u001b[0;32m\"<ipython-input-9-6183edef6333>\"\u001b[0;36m, line \u001b[0;32m1\u001b[0m\n\u001b[0;31m    from ..\\test import tt\u001b[0m\n\u001b[0m                          ^\u001b[0m\n\u001b[0;31mSyntaxError\u001b[0m\u001b[0;31m:\u001b[0m unexpected character after line continuation character\n"
     ]
    }
   ],
   "source": [
    "from ..\\test import tt"
   ]
  },
  {
   "cell_type": "code",
   "execution_count": 10,
   "metadata": {},
   "outputs": [],
   "source": [
    "class a():\n",
    "    pass"
   ]
  },
  {
   "cell_type": "code",
   "execution_count": null,
   "metadata": {},
   "outputs": [],
   "source": []
  },
  {
   "cell_type": "code",
   "execution_count": 11,
   "metadata": {},
   "outputs": [],
   "source": [
    "a.test = 2"
   ]
  },
  {
   "cell_type": "code",
   "execution_count": 12,
   "metadata": {},
   "outputs": [],
   "source": [
    "class b():\n",
    "    test2=4"
   ]
  },
  {
   "cell_type": "code",
   "execution_count": 13,
   "metadata": {},
   "outputs": [
    {
     "data": {
      "text/plain": [
       "4"
      ]
     },
     "execution_count": 13,
     "metadata": {},
     "output_type": "execute_result"
    }
   ],
   "source": [
    "b.test2"
   ]
  },
  {
   "cell_type": "code",
   "execution_count": 14,
   "metadata": {},
   "outputs": [
    {
     "data": {
      "text/plain": [
       "2"
      ]
     },
     "execution_count": 14,
     "metadata": {},
     "output_type": "execute_result"
    }
   ],
   "source": [
    "a.test"
   ]
  },
  {
   "cell_type": "code",
   "execution_count": 64,
   "metadata": {},
   "outputs": [
    {
     "name": "stdout",
     "output_type": "stream",
     "text": [
      "init tractor\n"
     ]
    }
   ],
   "source": [
    "class tractor():\n",
    "    def __init__(self,func):\n",
    "        self.func = func\n",
    "        self.count = 0\n",
    "        print(\"init tractor\")\n",
    "\n",
    "    def __call__(self,*argv):\n",
    "        self.func(*argv)\n",
    "        self.count+=1\n",
    "        print(\"from __call__\",self.count)\n",
    "@tractor        \n",
    "def findTutu(tu,mumu):\n",
    "    print(tu,mumu)\n",
    "    "
   ]
  },
  {
   "cell_type": "code",
   "execution_count": 65,
   "metadata": {},
   "outputs": [
    {
     "name": "stdout",
     "output_type": "stream",
     "text": [
      "tu mumu\n",
      "from __call__ 1\n"
     ]
    }
   ],
   "source": [
    "findTutu(\"tu\",\"mumu\")"
   ]
  },
  {
   "cell_type": "code",
   "execution_count": 77,
   "metadata": {},
   "outputs": [],
   "source": [
    "class tu():\n",
    "    x = 1\n",
    "    def __init__(self,numb):\n",
    "        self.x = numb"
   ]
  },
  {
   "cell_type": "code",
   "execution_count": 79,
   "metadata": {},
   "outputs": [],
   "source": [
    "t = tu(10)"
   ]
  },
  {
   "cell_type": "code",
   "execution_count": 80,
   "metadata": {},
   "outputs": [
    {
     "data": {
      "text/plain": [
       "1"
      ]
     },
     "execution_count": 80,
     "metadata": {},
     "output_type": "execute_result"
    }
   ],
   "source": [
    "tu.x\n",
    "        "
   ]
  },
  {
   "cell_type": "code",
   "execution_count": 81,
   "metadata": {},
   "outputs": [
    {
     "data": {
      "text/plain": [
       "10"
      ]
     },
     "execution_count": 81,
     "metadata": {},
     "output_type": "execute_result"
    }
   ],
   "source": [
    "t.x"
   ]
  },
  {
   "cell_type": "code",
   "execution_count": 36,
   "metadata": {},
   "outputs": [
    {
     "name": "stdout",
     "output_type": "stream",
     "text": [
      "tutu\n"
     ]
    }
   ],
   "source": [
    "people.mul(tutu)"
   ]
  },
  {
   "cell_type": "code",
   "execution_count": 37,
   "metadata": {},
   "outputs": [],
   "source": [
    "people.data = ['red','blue','green']"
   ]
  },
  {
   "cell_type": "code",
   "execution_count": 38,
   "metadata": {},
   "outputs": [],
   "source": [
    "\n",
    "def gi(self,index):\n",
    "    return self.data[index]\n",
    "    "
   ]
  },
  {
   "cell_type": "code",
   "execution_count": 39,
   "metadata": {},
   "outputs": [],
   "source": [
    "people.__getitem__= gi"
   ]
  },
  {
   "cell_type": "code",
   "execution_count": 40,
   "metadata": {},
   "outputs": [],
   "source": [
    "ftutu = people('da',123,'d')"
   ]
  },
  {
   "cell_type": "code",
   "execution_count": 41,
   "metadata": {},
   "outputs": [
    {
     "data": {
      "text/plain": [
       "'blue'"
      ]
     },
     "execution_count": 41,
     "metadata": {},
     "output_type": "execute_result"
    }
   ],
   "source": [
    "ftutu[1]"
   ]
  },
  {
   "cell_type": "code",
   "execution_count": 42,
   "metadata": {},
   "outputs": [
    {
     "name": "stdout",
     "output_type": "stream",
     "text": [
      "red\n",
      "blue\n",
      "green\n"
     ]
    }
   ],
   "source": [
    "for i in ftutu:\n",
    "    print(i)"
   ]
  },
  {
   "cell_type": "code",
   "execution_count": 45,
   "metadata": {},
   "outputs": [
    {
     "data": {
      "text/plain": [
       "<function list.append>"
      ]
     },
     "execution_count": 45,
     "metadata": {},
     "output_type": "execute_result"
    }
   ],
   "source": [
    "getattr([1,2,3],'append')"
   ]
  },
  {
   "cell_type": "code",
   "execution_count": 48,
   "metadata": {},
   "outputs": [],
   "source": [
    "class wrapper:\n",
    "    def __init__(self,obj):\n",
    "        self.wappred = obj\n",
    "    def __getattr__(self,attrname):\n",
    "        print('Trace:',attrname)\n",
    "        return getattr(self.wappred,attrname)\n"
   ]
  },
  {
   "cell_type": "code",
   "execution_count": 49,
   "metadata": {},
   "outputs": [],
   "source": [
    "x = wrapper([1,2,3])"
   ]
  },
  {
   "cell_type": "code",
   "execution_count": 51,
   "metadata": {},
   "outputs": [
    {
     "name": "stdout",
     "output_type": "stream",
     "text": [
      "Trace: append\n"
     ]
    },
    {
     "data": {
      "text/plain": [
       "<function list.append>"
      ]
     },
     "execution_count": 51,
     "metadata": {},
     "output_type": "execute_result"
    }
   ],
   "source": [
    "x.append"
   ]
  },
  {
   "cell_type": "code",
   "execution_count": 82,
   "metadata": {},
   "outputs": [
    {
     "name": "stdout",
     "output_type": "stream",
     "text": [
      "tutu\n"
     ]
    },
    {
     "ename": "ZeroDivisionError",
     "evalue": "division by zero",
     "output_type": "error",
     "traceback": [
      "\u001b[0;31m---------------------------------------------------------------------------\u001b[0m",
      "\u001b[0;31mZeroDivisionError\u001b[0m                         Traceback (most recent call last)",
      "\u001b[0;32m<ipython-input-82-eab9489dd983>\u001b[0m in \u001b[0;36m<module>\u001b[0;34m()\u001b[0m\n\u001b[1;32m      1\u001b[0m \u001b[0;32mtry\u001b[0m\u001b[0;34m:\u001b[0m\u001b[0;34m\u001b[0m\u001b[0m\n\u001b[0;32m----> 2\u001b[0;31m     \u001b[0;36m1\u001b[0m\u001b[0;34m/\u001b[0m\u001b[0;36m0\u001b[0m\u001b[0;34m\u001b[0m\u001b[0m\n\u001b[0m\u001b[1;32m      3\u001b[0m \u001b[0;32mfinally\u001b[0m\u001b[0;34m:\u001b[0m\u001b[0;34m\u001b[0m\u001b[0m\n\u001b[1;32m      4\u001b[0m     \u001b[0mprint\u001b[0m\u001b[0;34m(\u001b[0m\u001b[0;34m\"tutu\"\u001b[0m\u001b[0;34m)\u001b[0m\u001b[0;34m\u001b[0m\u001b[0m\n\u001b[1;32m      5\u001b[0m \u001b[0mprint\u001b[0m\u001b[0;34m(\u001b[0m\u001b[0;34m'final tutu'\u001b[0m\u001b[0;34m)\u001b[0m\u001b[0;34m\u001b[0m\u001b[0m\n",
      "\u001b[0;31mZeroDivisionError\u001b[0m: division by zero"
     ]
    }
   ],
   "source": [
    "try:\n",
    "    1/0\n",
    "finally:\n",
    "    print(\"tutu\")\n",
    "print('final tutu')"
   ]
  },
  {
   "cell_type": "code",
   "execution_count": 85,
   "metadata": {},
   "outputs": [
    {
     "name": "stdout",
     "output_type": "stream",
     "text": [
      "None\n"
     ]
    }
   ],
   "source": [
    "import sys\n",
    "print(sys.exc_info()[0])"
   ]
  },
  {
   "cell_type": "code",
   "execution_count": 87,
   "metadata": {},
   "outputs": [
    {
     "ename": "TypeError",
     "evalue": "type() takes 1 or 3 arguments",
     "output_type": "error",
     "traceback": [
      "\u001b[0;31m---------------------------------------------------------------------------\u001b[0m",
      "\u001b[0;31mTypeError\u001b[0m                                 Traceback (most recent call last)",
      "\u001b[0;32m<ipython-input-87-32398863bbd1>\u001b[0m in \u001b[0;36m<module>\u001b[0;34m()\u001b[0m\n\u001b[0;32m----> 1\u001b[0;31m \u001b[0mwrapper\u001b[0m\u001b[0;34m.\u001b[0m\u001b[0m__class__\u001b[0m\u001b[0;34m(\u001b[0m\u001b[0;34m)\u001b[0m\u001b[0;34m\u001b[0m\u001b[0m\n\u001b[0m",
      "\u001b[0;31mTypeError\u001b[0m: type() takes 1 or 3 arguments"
     ]
    }
   ],
   "source": [
    "wrapper.__class__"
   ]
  },
  {
   "cell_type": "code",
   "execution_count": 88,
   "metadata": {},
   "outputs": [
    {
     "data": {
      "text/plain": [
       "type"
      ]
     },
     "execution_count": 88,
     "metadata": {},
     "output_type": "execute_result"
    }
   ],
   "source": [
    "people.__class__"
   ]
  },
  {
   "cell_type": "code",
   "execution_count": 91,
   "metadata": {},
   "outputs": [
    {
     "data": {
      "text/plain": [
       "'Ì'"
      ]
     },
     "execution_count": 91,
     "metadata": {},
     "output_type": "execute_result"
    }
   ],
   "source": [
    "chr(204)"
   ]
  },
  {
   "cell_type": "code",
   "execution_count": 101,
   "metadata": {},
   "outputs": [],
   "source": [
    "a = bytearray(b'ABCDE')"
   ]
  },
  {
   "cell_type": "code",
   "execution_count": 102,
   "metadata": {},
   "outputs": [],
   "source": [
    "a[2] = 33"
   ]
  },
  {
   "cell_type": "code",
   "execution_count": 103,
   "metadata": {},
   "outputs": [
    {
     "data": {
      "text/plain": [
       "bytearray(b'AB!DE')"
      ]
     },
     "execution_count": 103,
     "metadata": {},
     "output_type": "execute_result"
    }
   ],
   "source": [
    "a"
   ]
  },
  {
   "cell_type": "code",
   "execution_count": 152,
   "metadata": {},
   "outputs": [],
   "source": [
    "a = '\\xc4\\xc8'"
   ]
  },
  {
   "cell_type": "code",
   "execution_count": 124,
   "metadata": {},
   "outputs": [],
   "source": [
    "b = b'\\xc4\\xc8'"
   ]
  },
  {
   "cell_type": "code",
   "execution_count": 125,
   "metadata": {},
   "outputs": [
    {
     "data": {
      "text/plain": [
       "b'\\xc4\\xc8'"
      ]
     },
     "execution_count": 125,
     "metadata": {},
     "output_type": "execute_result"
    }
   ],
   "source": [
    "b"
   ]
  },
  {
   "cell_type": "code",
   "execution_count": 126,
   "metadata": {},
   "outputs": [
    {
     "data": {
      "text/plain": [
       "[196, 200]"
      ]
     },
     "execution_count": 126,
     "metadata": {},
     "output_type": "execute_result"
    }
   ],
   "source": [
    "list(b)"
   ]
  },
  {
   "cell_type": "code",
   "execution_count": 109,
   "metadata": {},
   "outputs": [
    {
     "data": {
      "text/plain": [
       "False"
      ]
     },
     "execution_count": 109,
     "metadata": {},
     "output_type": "execute_result"
    }
   ],
   "source": [
    "a is b"
   ]
  },
  {
   "cell_type": "code",
   "execution_count": 190,
   "metadata": {},
   "outputs": [],
   "source": [
    "b = b'\\xf234'"
   ]
  },
  {
   "cell_type": "code",
   "execution_count": 191,
   "metadata": {},
   "outputs": [
    {
     "data": {
      "text/plain": [
       "b'\\xf234'"
      ]
     },
     "execution_count": 191,
     "metadata": {},
     "output_type": "execute_result"
    }
   ],
   "source": [
    "b"
   ]
  },
  {
   "cell_type": "code",
   "execution_count": 195,
   "metadata": {},
   "outputs": [
    {
     "ename": "UnicodeDecodeError",
     "evalue": "'utf-16-le' codec can't decode byte 0x34 in position 2: truncated data",
     "output_type": "error",
     "traceback": [
      "\u001b[0;31m---------------------------------------------------------------------------\u001b[0m",
      "\u001b[0;31mUnicodeDecodeError\u001b[0m                        Traceback (most recent call last)",
      "\u001b[0;32m<ipython-input-195-e67bad9fd369>\u001b[0m in \u001b[0;36m<module>\u001b[0;34m()\u001b[0m\n\u001b[0;32m----> 1\u001b[0;31m \u001b[0mb\u001b[0m\u001b[0;34m.\u001b[0m\u001b[0mdecode\u001b[0m\u001b[0;34m(\u001b[0m\u001b[0;34m'utf-16'\u001b[0m\u001b[0;34m)\u001b[0m\u001b[0;34m\u001b[0m\u001b[0m\n\u001b[0m",
      "\u001b[0;31mUnicodeDecodeError\u001b[0m: 'utf-16-le' codec can't decode byte 0x34 in position 2: truncated data"
     ]
    }
   ],
   "source": [
    "b.decode('utf-16')"
   ]
  },
  {
   "cell_type": "code",
   "execution_count": 177,
   "metadata": {},
   "outputs": [
    {
     "data": {
      "text/plain": [
       "b'de'"
      ]
     },
     "execution_count": 177,
     "metadata": {},
     "output_type": "execute_result"
    }
   ],
   "source": [
    "s.encode('latin-1')"
   ]
  },
  {
   "cell_type": "code",
   "execution_count": 187,
   "metadata": {},
   "outputs": [],
   "source": [
    "b = '0b1110000'"
   ]
  },
  {
   "cell_type": "code",
   "execution_count": 189,
   "metadata": {},
   "outputs": [
    {
     "data": {
      "text/plain": [
       "str"
      ]
     },
     "execution_count": 189,
     "metadata": {},
     "output_type": "execute_result"
    }
   ],
   "source": [
    "type(b)"
   ]
  },
  {
   "cell_type": "code",
   "execution_count": 218,
   "metadata": {},
   "outputs": [],
   "source": [
    "class Name:\n",
    "    \"name descriptor docs\"\n",
    "    def __get__(self, instance, owner):\n",
    "        print(self,instance,owner)\n",
    "        return instance._n\n",
    "    def __set__(self, instance, value):\n",
    "        print('change...')\n",
    "        instance._n = value\n",
    "    def __delete__(self, instance):\n",
    "        print('remove...') \n",
    "        del instance._n\n",
    "class Person:\n",
    "    def __init__(self, na):\n",
    "        self._n = na\n",
    "    name = Name()"
   ]
  },
  {
   "cell_type": "code",
   "execution_count": 221,
   "metadata": {},
   "outputs": [
    {
     "name": "stdout",
     "output_type": "stream",
     "text": [
      "<__main__.Name object at 0x108a05048> <__main__.Person object at 0x108a1b898> <class '__main__.Person'>\n"
     ]
    },
    {
     "data": {
      "text/plain": [
       "'Bob Smith'"
      ]
     },
     "execution_count": 221,
     "metadata": {},
     "output_type": "execute_result"
    }
   ],
   "source": [
    "bob = Person('Bob Smith')\n",
    "sm = Person('Bob Smih')\n",
    "\n"
   ]
  },
  {
   "cell_type": "code",
   "execution_count": 233,
   "metadata": {},
   "outputs": [
    {
     "data": {
      "text/plain": [
       "'tu'"
      ]
     },
     "execution_count": 233,
     "metadata": {},
     "output_type": "execute_result"
    }
   ],
   "source": [
    "class catcher():\n",
    "    def __init__(self,tut):\n",
    "        self.tut = tut\n",
    "    def __getattr__(self,attr):\n",
    "        print('get ',attr)\n",
    "        if attr in self.__dict__:\n",
    "            return self.__dict__[attr]\n",
    "        else:\n",
    "            raise Exception('Key error')\n",
    "        \n",
    "    def __setattr__(self,attr,value):\n",
    "        self.__dict__[attr]=value\n",
    "        \n",
    "x = catcher('tu')\n",
    "\n",
    "x.tut"
   ]
  },
  {
   "cell_type": "code",
   "execution_count": 234,
   "metadata": {},
   "outputs": [],
   "source": [
    "x.t = 'datutu'"
   ]
  },
  {
   "cell_type": "code",
   "execution_count": 235,
   "metadata": {},
   "outputs": [
    {
     "data": {
      "text/plain": [
       "'datutu'"
      ]
     },
     "execution_count": 235,
     "metadata": {},
     "output_type": "execute_result"
    }
   ],
   "source": [
    "x.t"
   ]
  },
  {
   "cell_type": "code",
   "execution_count": 254,
   "metadata": {},
   "outputs": [],
   "source": [
    "def decorator(cls):\n",
    "    class Wrapper():\n",
    "        def __init__(self,*argv):\n",
    "            self.cls = cls(*argv)\n",
    "        def __getattr__(self,key):\n",
    "            return getattr(self.cls,key) \n",
    "    \n",
    "    return Wrapper\n",
    "@decorator\n",
    "class C():\n",
    "    def __init__(self,x,y):\n",
    "        self.argv = 'tutu'\n",
    "        self.x = x\n",
    "        self.y =y\n",
    "    def __getattr__(self,key):\n",
    "        if key=='argv':\n",
    "            return self.__dict__['argv']\n",
    "        else:\n",
    "            return 'None'\n",
    "\n",
    "        "
   ]
  },
  {
   "cell_type": "code",
   "execution_count": 255,
   "metadata": {},
   "outputs": [],
   "source": [
    "c1 = C(2,3)"
   ]
  },
  {
   "cell_type": "code",
   "execution_count": 256,
   "metadata": {},
   "outputs": [
    {
     "data": {
      "text/plain": [
       "'None'"
      ]
     },
     "execution_count": 256,
     "metadata": {},
     "output_type": "execute_result"
    }
   ],
   "source": [
    "c1.arg\n"
   ]
  },
  {
   "cell_type": "code",
   "execution_count": 262,
   "metadata": {},
   "outputs": [],
   "source": [
    "\n",
    "class decorator():\n",
    "    def __init__(self,c):\n",
    "        self.cls = c\n",
    "        \n",
    "    def __call__(self,*argv):\n",
    "        self.ins = self.cls(*argv) #This will replace the original instance\n",
    "        return self\n",
    "        \n",
    "    def __getattr__(self,key):\n",
    "        return getattr(self.ins,key) \n",
    "\n",
    "@decorator\n",
    "class C():\n",
    "    def __init__(self,x,y):\n",
    "        self.argv = 'tutu'\n",
    "        self.x = x\n",
    "        self.y =y\n",
    "    def __getattr__(self,key):\n",
    "            return self.__dict__['argv']\n",
    "\n",
    "x = C(3,4)\n",
    "y = C(5,6)"
   ]
  },
  {
   "cell_type": "code",
   "execution_count": 263,
   "metadata": {},
   "outputs": [
    {
     "data": {
      "text/plain": [
       "4"
      ]
     },
     "execution_count": 263,
     "metadata": {},
     "output_type": "execute_result"
    }
   ],
   "source": [
    "x.y"
   ]
  },
  {
   "cell_type": "code",
   "execution_count": null,
   "metadata": {},
   "outputs": [],
   "source": []
  }
 ],
 "metadata": {
  "kernelspec": {
   "display_name": "Python 3",
   "language": "python",
   "name": "python3"
  },
  "language_info": {
   "codemirror_mode": {
    "name": "ipython",
    "version": 3
   },
   "file_extension": ".py",
   "mimetype": "text/x-python",
   "name": "python",
   "nbconvert_exporter": "python",
   "pygments_lexer": "ipython3",
   "version": "3.6.2"
  }
 },
 "nbformat": 4,
 "nbformat_minor": 2
}
