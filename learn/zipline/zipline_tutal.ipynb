{
 "cells": [
  {
   "cell_type": "code",
   "execution_count": 6,
   "metadata": {},
   "outputs": [
    {
     "name": "stdout",
     "output_type": "stream",
     "text": [
      "Collecting alphalens==0.3.2 (from -r requirements.txt (line 1))\n",
      "\u001b[?25l  Downloading https://files.pythonhosted.org/packages/a5/dc/2f9cd107d0d4cf6223d37d81ddfbbdbf0d703d03669b83810fa6b97f32e5/alphalens-0.3.2.tar.gz (18.9MB)\n",
      "\u001b[K    100% |████████████████████████████████| 18.9MB 1.6MB/s eta 0:00:01\n",
      "\u001b[?25hRequirement already satisfied: colour==0.1.5 in /Library/Frameworks/Python.framework/Versions/3.6/lib/python3.6/site-packages (from -r requirements.txt (line 2)) (0.1.5)\n",
      "Requirement already satisfied: cvxpy==1.0.3 in /Library/Frameworks/Python.framework/Versions/3.6/lib/python3.6/site-packages (from -r requirements.txt (line 3)) (1.0.3)\n",
      "Requirement already satisfied: cycler==0.10.0 in /Users/fufeidu/Library/Python/3.6/lib/python/site-packages (from -r requirements.txt (line 4)) (0.10.0)\n",
      "Collecting numpy==1.14.5 (from -r requirements.txt (line 5))\n",
      "  Using cached https://files.pythonhosted.org/packages/f6/cd/b2c50b5190b66c711c23ef23c41d450297eb5a54d2033f8dcb3b8b13ac85/numpy-1.14.5-cp36-cp36m-macosx_10_6_intel.macosx_10_9_intel.macosx_10_9_x86_64.macosx_10_10_intel.macosx_10_10_x86_64.whl\n",
      "Collecting pandas==0.18.1 (from -r requirements.txt (line 6))\n",
      "\u001b[?25l  Downloading https://files.pythonhosted.org/packages/11/09/e66eb844daba8680ddff26335d5b4fead77f60f957678243549a8dd4830d/pandas-0.18.1.tar.gz (7.3MB)\n",
      "\u001b[K    100% |████████████████████████████████| 7.3MB 2.7MB/s ta 0:00:011\n",
      "\u001b[?25hRequirement already satisfied: plotly==2.2.3 in /Library/Frameworks/Python.framework/Versions/3.6/lib/python3.6/site-packages (from -r requirements.txt (line 7)) (2.2.3)\n",
      "Requirement already satisfied: pyparsing==2.2.0 in /Users/fufeidu/Library/Python/3.6/lib/python/site-packages (from -r requirements.txt (line 8)) (2.2.0)\n",
      "Requirement already satisfied: python-dateutil==2.6.1 in /Users/fufeidu/Library/Python/3.6/lib/python/site-packages (from -r requirements.txt (line 9)) (2.6.1)\n",
      "Requirement already satisfied: pytz==2017.3 in /Library/Frameworks/Python.framework/Versions/3.6/lib/python3.6/site-packages (from -r requirements.txt (line 10)) (2017.3)\n",
      "Requirement already satisfied: requests==2.18.4 in /Library/Frameworks/Python.framework/Versions/3.6/lib/python3.6/site-packages (from -r requirements.txt (line 11)) (2.18.4)\n",
      "Requirement already satisfied: scipy==1.0.0 in /Library/Frameworks/Python.framework/Versions/3.6/lib/python3.6/site-packages (from -r requirements.txt (line 12)) (1.0.0)\n",
      "Requirement already satisfied: scikit-learn==0.19.1 in /Library/Frameworks/Python.framework/Versions/3.6/lib/python3.6/site-packages (from -r requirements.txt (line 13)) (0.19.1)\n",
      "Requirement already satisfied: six==1.11.0 in /Library/Frameworks/Python.framework/Versions/3.6/lib/python3.6/site-packages (from -r requirements.txt (line 14)) (1.11.0)\n",
      "Requirement already satisfied: tqdm==4.19.5 in /Library/Frameworks/Python.framework/Versions/3.6/lib/python3.6/site-packages (from -r requirements.txt (line 15)) (4.19.5)\n",
      "Collecting zipline===1.2.0 (from -r requirements.txt (line 16))\n",
      "\u001b[?25l  Downloading https://files.pythonhosted.org/packages/15/d3/689f2a940478b82ac57c751a40460598221fd82b0449a7a8f7eef47a3bcc/zipline-1.2.0.tar.gz (659kB)\n",
      "\u001b[K    100% |████████████████████████████████| 665kB 8.0MB/s ta 0:00:011\n",
      "\u001b[?25hRequirement already satisfied: matplotlib>=1.4.0 in /Users/fufeidu/Library/Python/3.6/lib/python/site-packages (from alphalens==0.3.2->-r requirements.txt (line 1)) (2.2.2)\n",
      "Requirement already satisfied: seaborn>=0.6.0 in /Library/Frameworks/Python.framework/Versions/3.6/lib/python3.6/site-packages (from alphalens==0.3.2->-r requirements.txt (line 1)) (0.9.0)\n",
      "Collecting statsmodels>=0.6.1 (from alphalens==0.3.2->-r requirements.txt (line 1))\n",
      "\u001b[?25l  Downloading https://files.pythonhosted.org/packages/29/df/1f8233500d8bb90f16fd066560f3805197e568af611ca97eddd5fb81b012/statsmodels-0.9.0-cp36-cp36m-macosx_10_6_intel.macosx_10_9_intel.macosx_10_9_x86_64.macosx_10_10_intel.macosx_10_10_x86_64.whl (9.6MB)\n",
      "\u001b[K    100% |████████████████████████████████| 9.6MB 1.5MB/s ta 0:00:011\n",
      "\u001b[?25hRequirement already satisfied: IPython>=3.2.3 in /Users/fufeidu/Library/Python/3.6/lib/python/site-packages (from alphalens==0.3.2->-r requirements.txt (line 1)) (6.4.0)\n",
      "Requirement already satisfied: osqp in /Library/Frameworks/Python.framework/Versions/3.6/lib/python3.6/site-packages (from cvxpy==1.0.3->-r requirements.txt (line 3)) (0.4.0)\n",
      "Requirement already satisfied: ecos>=2 in /Library/Frameworks/Python.framework/Versions/3.6/lib/python3.6/site-packages (from cvxpy==1.0.3->-r requirements.txt (line 3)) (2.0.5)\n",
      "Requirement already satisfied: scs>=1.1.3 in /Library/Frameworks/Python.framework/Versions/3.6/lib/python3.6/site-packages (from cvxpy==1.0.3->-r requirements.txt (line 3)) (2.0.2)\n",
      "Requirement already satisfied: multiprocess in /Library/Frameworks/Python.framework/Versions/3.6/lib/python3.6/site-packages (from cvxpy==1.0.3->-r requirements.txt (line 3)) (0.70.6.1)\n",
      "Requirement already satisfied: fastcache in /Library/Frameworks/Python.framework/Versions/3.6/lib/python3.6/site-packages (from cvxpy==1.0.3->-r requirements.txt (line 3)) (1.0.2)\n",
      "Requirement already satisfied: toolz in /Library/Frameworks/Python.framework/Versions/3.6/lib/python3.6/site-packages (from cvxpy==1.0.3->-r requirements.txt (line 3)) (0.9.0)\n",
      "Requirement already satisfied: decorator>=4.0.6 in /Users/fufeidu/Library/Python/3.6/lib/python/site-packages (from plotly==2.2.3->-r requirements.txt (line 7)) (4.3.0)\n",
      "Requirement already satisfied: nbformat>=4.2 in /Users/fufeidu/Library/Python/3.6/lib/python/site-packages (from plotly==2.2.3->-r requirements.txt (line 7)) (4.4.0)\n",
      "Requirement already satisfied: certifi>=2017.4.17 in /Library/Frameworks/Python.framework/Versions/3.6/lib/python3.6/site-packages (from requests==2.18.4->-r requirements.txt (line 11)) (2017.7.27.1)\n",
      "Requirement already satisfied: chardet<3.1.0,>=3.0.2 in /Library/Frameworks/Python.framework/Versions/3.6/lib/python3.6/site-packages (from requests==2.18.4->-r requirements.txt (line 11)) (3.0.4)\n",
      "Requirement already satisfied: idna<2.7,>=2.5 in /Library/Frameworks/Python.framework/Versions/3.6/lib/python3.6/site-packages (from requests==2.18.4->-r requirements.txt (line 11)) (2.5)\n",
      "Requirement already satisfied: urllib3<1.23,>=1.21.1 in /Library/Frameworks/Python.framework/Versions/3.6/lib/python3.6/site-packages (from requests==2.18.4->-r requirements.txt (line 11)) (1.22)\n",
      "Requirement already satisfied: pip>=7.1.0 in /Library/Frameworks/Python.framework/Versions/3.6/lib/python3.6/site-packages (from zipline===1.2.0->-r requirements.txt (line 16)) (18.1)\n",
      "Requirement already satisfied: setuptools>18.0 in /Library/Frameworks/Python.framework/Versions/3.6/lib/python3.6/site-packages (from zipline===1.2.0->-r requirements.txt (line 16)) (28.8.0)\n",
      "Collecting Logbook>=0.12.5 (from zipline===1.2.0->-r requirements.txt (line 16))\n",
      "\u001b[?25l  Downloading https://files.pythonhosted.org/packages/74/fc/3e7557ed1ef1bd4e3ee189fc670416abfc7192b550e8d3c1d858a63f41ab/Logbook-1.4.1.tar.gz (84kB)\n",
      "\u001b[K    100% |████████████████████████████████| 92kB 8.5MB/s ta 0:00:011\n",
      "\u001b[?25hCollecting requests-file>=1.4.1 (from zipline===1.2.0->-r requirements.txt (line 16))\n",
      "  Downloading https://files.pythonhosted.org/packages/23/9c/6e63c23c39e53d3df41c77a3d05a49a42c4e1383a6d2a5e3233161b89dbf/requests_file-1.4.3-py2.py3-none-any.whl\n",
      "Collecting pandas-datareader<0.6,>=0.2.1 (from zipline===1.2.0->-r requirements.txt (line 16))\n",
      "\u001b[?25l  Downloading https://files.pythonhosted.org/packages/40/c5/cc720f531bbde0efeab940de400d0fcc95e87770a3abcd7f90d6d52a3302/pandas_datareader-0.5.0-py2.py3-none-any.whl (74kB)\n",
      "\u001b[K    100% |████████████████████████████████| 81kB 7.8MB/s ta 0:00:011\n",
      "\u001b[?25hCollecting patsy>=0.4.0 (from zipline===1.2.0->-r requirements.txt (line 16))\n",
      "\u001b[?25l  Downloading https://files.pythonhosted.org/packages/ea/0c/5f61f1a3d4385d6bf83b83ea495068857ff8dfb89e74824c6e9eb63286d8/patsy-0.5.1-py2.py3-none-any.whl (231kB)\n",
      "\u001b[K    100% |████████████████████████████████| 235kB 8.3MB/s ta 0:00:01\n",
      "\u001b[?25hRequirement already satisfied: Cython>=0.25.2 in /Library/Frameworks/Python.framework/Versions/3.6/lib/python3.6/site-packages (from zipline===1.2.0->-r requirements.txt (line 16)) (0.28.5)\n",
      "Collecting cyordereddict>=0.2.2 (from zipline===1.2.0->-r requirements.txt (line 16))\n"
     ]
    },
    {
     "name": "stdout",
     "output_type": "stream",
     "text": [
      "\u001b[?25l  Downloading https://files.pythonhosted.org/packages/d1/1a/364cbfd927be1b743c7f0a985a7f1f7e8a51469619f9fefe4ee9240ba210/cyordereddict-1.0.0.tar.gz (138kB)\n",
      "\u001b[K    100% |████████████████████████████████| 143kB 15.6MB/s ta 0:00:01\n",
      "\u001b[?25hCollecting bottleneck>=1.0.0 (from zipline===1.2.0->-r requirements.txt (line 16))\n",
      "\u001b[?25l  Downloading https://files.pythonhosted.org/packages/05/ae/cedf5323f398ab4e4ff92d6c431a3e1c6a186f9b41ab3e8258dff786a290/Bottleneck-1.2.1.tar.gz (105kB)\n",
      "\u001b[K    100% |████████████████████████████████| 112kB 11.0MB/s ta 0:00:01\n",
      "\u001b[?25hCollecting contextlib2>=0.4.0 (from zipline===1.2.0->-r requirements.txt (line 16))\n",
      "  Downloading https://files.pythonhosted.org/packages/a2/71/8273a7eeed0aff6a854237ab5453bc9aa67deb49df4832801c21f0ff3782/contextlib2-0.5.5-py2.py3-none-any.whl\n",
      "Collecting networkx<2.0,>=1.9.1 (from zipline===1.2.0->-r requirements.txt (line 16))\n",
      "\u001b[?25l  Downloading https://files.pythonhosted.org/packages/d3/2c/e473e54afc9fae58dfa97066ef6709a7e35a1dd1c28c5a3842989322be00/networkx-1.11-py2.py3-none-any.whl (1.3MB)\n",
      "\u001b[K    100% |████████████████████████████████| 1.3MB 6.4MB/s ta 0:00:011\n",
      "\u001b[?25hCollecting numexpr>=2.6.1 (from zipline===1.2.0->-r requirements.txt (line 16))\n",
      "\u001b[?25l  Downloading https://files.pythonhosted.org/packages/53/e4/4ea4e519ddbf8b2c26edccfba6a6011419208044c07f8e4f01b3fb3028ba/numexpr-2.6.8-cp36-cp36m-macosx_10_6_intel.macosx_10_9_intel.macosx_10_9_x86_64.macosx_10_10_intel.macosx_10_10_x86_64.whl (181kB)\n",
      "\u001b[K    100% |████████████████████████████████| 184kB 12.2MB/s ta 0:00:01\n",
      "\u001b[?25hCollecting bcolz<1,>=0.12.1 (from zipline===1.2.0->-r requirements.txt (line 16))\n",
      "\u001b[?25l  Downloading https://files.pythonhosted.org/packages/6c/8b/1ffa01f872cac36173c5eb95b58c01040d8d25f1b242c48577f4104cd3ab/bcolz-0.12.1.tar.gz (622kB)\n",
      "\u001b[K    100% |████████████████████████████████| 624kB 8.1MB/s eta 0:00:01\n",
      "\u001b[?25hRequirement already satisfied: click>=4.0.0 in /Library/Frameworks/Python.framework/Versions/3.6/lib/python3.6/site-packages (from zipline===1.2.0->-r requirements.txt (line 16)) (6.7)\n",
      "Collecting multipledispatch>=0.4.8 (from zipline===1.2.0->-r requirements.txt (line 16))\n",
      "  Downloading https://files.pythonhosted.org/packages/89/79/429ecef45fd5e4504f7474d4c3c3c4668c267be3370e4c2fd33e61506833/multipledispatch-0.6.0-py3-none-any.whl\n",
      "Requirement already satisfied: MarkupSafe>=0.23 in /Library/Frameworks/Python.framework/Versions/3.6/lib/python3.6/site-packages (from zipline===1.2.0->-r requirements.txt (line 16)) (1.0)\n",
      "Collecting Mako>=1.0.1 (from zipline===1.2.0->-r requirements.txt (line 16))\n",
      "\u001b[?25l  Downloading https://files.pythonhosted.org/packages/eb/f3/67579bb486517c0d49547f9697e36582cd19dafb5df9e687ed8e22de57fa/Mako-1.0.7.tar.gz (564kB)\n",
      "\u001b[K    100% |████████████████████████████████| 573kB 7.9MB/s ta 0:00:011\n",
      "\u001b[?25hRequirement already satisfied: sqlalchemy>=1.0.8 in /Library/Frameworks/Python.framework/Versions/3.6/lib/python3.6/site-packages (from zipline===1.2.0->-r requirements.txt (line 16)) (1.1.14)\n",
      "Collecting alembic>=0.7.7 (from zipline===1.2.0->-r requirements.txt (line 16))\n",
      "\u001b[?25l  Downloading https://files.pythonhosted.org/packages/1c/65/b8e4f5b2f345bb13b5e0a3fddd892b0b3f0e8ad4880e954fdc6a50d00d84/alembic-1.0.5.tar.gz (1.0MB)\n",
      "\u001b[K    100% |████████████████████████████████| 1.0MB 6.6MB/s ta 0:00:011\n",
      "\u001b[?25hCollecting sortedcontainers>=1.4.4 (from zipline===1.2.0->-r requirements.txt (line 16))\n",
      "  Downloading https://files.pythonhosted.org/packages/13/f3/cf85f7c3a2dbd1a515d51e1f1676d971abe41bba6f4ab5443240d9a78e5b/sortedcontainers-2.1.0-py2.py3-none-any.whl\n",
      "Collecting intervaltree>=2.1.0 (from zipline===1.2.0->-r requirements.txt (line 16))\n",
      "  Downloading https://files.pythonhosted.org/packages/ca/c1/450d109b70fa58ca9d77972b02f69222412f9175ccf99fdeaf167be9583c/intervaltree-2.1.0.tar.gz\n",
      "Collecting lru-dict>=1.1.4 (from zipline===1.2.0->-r requirements.txt (line 16))\n",
      "  Downloading https://files.pythonhosted.org/packages/00/a5/32ed6e10246cd341ca8cc205acea5d208e4053f48a4dced2b1b31d45ba3f/lru-dict-1.1.6.tar.gz\n",
      "Collecting empyrical>=0.4.2 (from zipline===1.2.0->-r requirements.txt (line 16))\n",
      "\u001b[?25l  Downloading https://files.pythonhosted.org/packages/7b/55/a01b05162b764830dbbac868462f44cd847a5b6523a01ca9f955721819da/empyrical-0.5.0.tar.gz (49kB)\n",
      "\u001b[K    100% |████████████████████████████████| 51kB 13.3MB/s ta 0:00:01\n",
      "\u001b[?25hCollecting tables>=3.3.0 (from zipline===1.2.0->-r requirements.txt (line 16))\n",
      "\u001b[?25l  Downloading https://files.pythonhosted.org/packages/bc/5f/79643d50fcf927dcd4b3bd118062550fdcfbd247d63cad1dfb305c6852b5/tables-3.4.4-cp36-cp36m-macosx_10_6_intel.macosx_10_9_intel.macosx_10_9_x86_64.macosx_10_10_intel.macosx_10_10_x86_64.whl (7.0MB)\n",
      "\u001b[K    100% |████████████████████████████████| 7.0MB 4.4MB/s eta 0:00:01\n",
      "\u001b[?25hRequirement already satisfied: kiwisolver>=1.0.1 in /Users/fufeidu/Library/Python/3.6/lib/python/site-packages (from matplotlib>=1.4.0->alphalens==0.3.2->-r requirements.txt (line 1)) (1.0.1)\n",
      "Requirement already satisfied: prompt-toolkit<2.0.0,>=1.0.15 in /Users/fufeidu/Library/Python/3.6/lib/python/site-packages (from IPython>=3.2.3->alphalens==0.3.2->-r requirements.txt (line 1)) (1.0.15)\n",
      "Requirement already satisfied: traitlets>=4.2 in /Users/fufeidu/Library/Python/3.6/lib/python/site-packages (from IPython>=3.2.3->alphalens==0.3.2->-r requirements.txt (line 1)) (4.3.2)\n",
      "Requirement already satisfied: backcall in /Users/fufeidu/Library/Python/3.6/lib/python/site-packages (from IPython>=3.2.3->alphalens==0.3.2->-r requirements.txt (line 1)) (0.1.0)\n",
      "Requirement already satisfied: appnope; sys_platform == \"darwin\" in /Users/fufeidu/Library/Python/3.6/lib/python/site-packages (from IPython>=3.2.3->alphalens==0.3.2->-r requirements.txt (line 1)) (0.1.0)\n",
      "Requirement already satisfied: pexpect; sys_platform != \"win32\" in /Users/fufeidu/Library/Python/3.6/lib/python/site-packages (from IPython>=3.2.3->alphalens==0.3.2->-r requirements.txt (line 1)) (4.6.0)\n",
      "Requirement already satisfied: pygments in /Users/fufeidu/Library/Python/3.6/lib/python/site-packages (from IPython>=3.2.3->alphalens==0.3.2->-r requirements.txt (line 1)) (2.2.0)\n",
      "Requirement already satisfied: simplegeneric>0.8 in /Users/fufeidu/Library/Python/3.6/lib/python/site-packages (from IPython>=3.2.3->alphalens==0.3.2->-r requirements.txt (line 1)) (0.8.1)\n",
      "Requirement already satisfied: pickleshare in /Users/fufeidu/Library/Python/3.6/lib/python/site-packages (from IPython>=3.2.3->alphalens==0.3.2->-r requirements.txt (line 1)) (0.7.4)\n",
      "Requirement already satisfied: jedi>=0.10 in /Users/fufeidu/Library/Python/3.6/lib/python/site-packages (from IPython>=3.2.3->alphalens==0.3.2->-r requirements.txt (line 1)) (0.12.1)\n",
      "Requirement already satisfied: future in /Library/Frameworks/Python.framework/Versions/3.6/lib/python3.6/site-packages (from osqp->cvxpy==1.0.3->-r requirements.txt (line 3)) (0.16.0)\n",
      "Requirement already satisfied: dill>=0.2.8.1 in /Library/Frameworks/Python.framework/Versions/3.6/lib/python3.6/site-packages (from multiprocess->cvxpy==1.0.3->-r requirements.txt (line 3)) (0.2.8.2)\n",
      "Requirement already satisfied: ipython-genutils in /Users/fufeidu/Library/Python/3.6/lib/python/site-packages (from nbformat>=4.2->plotly==2.2.3->-r requirements.txt (line 7)) (0.2.0)\n",
      "Requirement already satisfied: jupyter-core in /Users/fufeidu/Library/Python/3.6/lib/python/site-packages (from nbformat>=4.2->plotly==2.2.3->-r requirements.txt (line 7)) (4.4.0)\n",
      "Requirement already satisfied: jsonschema!=2.5.0,>=2.4 in /Users/fufeidu/Library/Python/3.6/lib/python/site-packages (from nbformat>=4.2->plotly==2.2.3->-r requirements.txt (line 7)) (2.6.0)\n",
      "Collecting requests-ftp (from pandas-datareader<0.6,>=0.2.1->zipline===1.2.0->-r requirements.txt (line 16))\n",
      "  Downloading https://files.pythonhosted.org/packages/3d/ca/14b2ad1e93b5195eeaf56b86b7ecfd5ea2d5754a68d17aeb1e5b9f95b3cf/requests-ftp-0.3.1.tar.gz\n",
      "Collecting python-editor>=0.3 (from alembic>=0.7.7->zipline===1.2.0->-r requirements.txt (line 16))\n",
      "  Downloading https://files.pythonhosted.org/packages/65/1e/adf6e000ea5dc909aa420352d6ba37f16434c8a3c2fa030445411a1ed545/python-editor-1.0.3.tar.gz\n",
      "Requirement already satisfied: wcwidth in /Users/fufeidu/Library/Python/3.6/lib/python/site-packages (from prompt-toolkit<2.0.0,>=1.0.15->IPython>=3.2.3->alphalens==0.3.2->-r requirements.txt (line 1)) (0.1.7)\n",
      "Requirement already satisfied: ptyprocess>=0.5 in /Users/fufeidu/Library/Python/3.6/lib/python/site-packages (from pexpect; sys_platform != \"win32\"->IPython>=3.2.3->alphalens==0.3.2->-r requirements.txt (line 1)) (0.6.0)\n",
      "Requirement already satisfied: parso>=0.3.0 in /Users/fufeidu/Library/Python/3.6/lib/python/site-packages (from jedi>=0.10->IPython>=3.2.3->alphalens==0.3.2->-r requirements.txt (line 1)) (0.3.1)\n"
     ]
    },
    {
     "name": "stdout",
     "output_type": "stream",
     "text": [
      "Installing collected packages: numpy, pandas, patsy, statsmodels, alphalens, Logbook, requests-file, requests-ftp, pandas-datareader, cyordereddict, bottleneck, contextlib2, networkx, numexpr, bcolz, multipledispatch, Mako, python-editor, alembic, sortedcontainers, intervaltree, lru-dict, empyrical, tables, zipline\n",
      "  Found existing installation: numpy 1.13.3\n",
      "    Uninstalling numpy-1.13.3:\n",
      "      Successfully uninstalled numpy-1.13.3\n",
      "  Found existing installation: pandas 0.23.4\n",
      "    Uninstalling pandas-0.23.4:\n",
      "      Successfully uninstalled pandas-0.23.4\n",
      "  Running setup.py install for pandas ... \u001b[?25ldone\n",
      "\u001b[?25h  Running setup.py install for alphalens ... \u001b[?25ldone\n",
      "\u001b[?25h  Running setup.py install for Logbook ... \u001b[?25ldone\n",
      "\u001b[?25h  Running setup.py install for requests-ftp ... \u001b[?25ldone\n",
      "\u001b[?25h  Running setup.py install for cyordereddict ... \u001b[?25ldone\n",
      "\u001b[?25h  Running setup.py install for bottleneck ... \u001b[?25ldone\n",
      "\u001b[?25h  Running setup.py install for bcolz ... \u001b[?25ldone\n",
      "\u001b[?25h  Running setup.py install for Mako ... \u001b[?25ldone\n",
      "\u001b[?25h  Running setup.py install for python-editor ... \u001b[?25ldone\n",
      "\u001b[?25h  Running setup.py install for alembic ... \u001b[?25ldone\n",
      "\u001b[?25h  Running setup.py install for intervaltree ... \u001b[?25ldone\n",
      "\u001b[?25h  Running setup.py install for lru-dict ... \u001b[?25ldone\n",
      "\u001b[?25h  Running setup.py install for empyrical ... \u001b[?25ldone\n",
      "\u001b[?25h  Running setup.py install for zipline ... \u001b[?25ldone\n",
      "\u001b[?25hSuccessfully installed Logbook-1.4.1 Mako-1.0.7 alembic-1.0.5 alphalens-0.3.2 bcolz-0.12.1 bottleneck-1.2.1 contextlib2-0.5.5 cyordereddict-1.0.0 empyrical-0.5.0 intervaltree-2.1.0 lru-dict-1.1.6 multipledispatch-0.6.0 networkx-1.11 numexpr-2.6.8 numpy-1.14.5 pandas-0.18.1 pandas-datareader-0.5.0 patsy-0.5.1 python-editor-1.0.3 requests-file-1.4.3 requests-ftp-0.3.1 sortedcontainers-2.1.0 statsmodels-0.9.0 tables-3.4.4 zipline-1.2.0\n"
     ]
    }
   ],
   "source": [
    "import sys\n",
    "!{sys.executable} -m pip install -r requirements.txt\n"
   ]
  },
  {
   "cell_type": "code",
   "execution_count": 7,
   "metadata": {},
   "outputs": [],
   "source": [
    "from zipline.api import order, record, symbol"
   ]
  },
  {
   "cell_type": "code",
   "execution_count": 8,
   "metadata": {},
   "outputs": [
    {
     "ename": "ModuleNotFoundError",
     "evalue": "No module named 'talib'",
     "output_type": "error",
     "traceback": [
      "\u001b[0;31m---------------------------------------------------------------------------\u001b[0m",
      "\u001b[0;31mModuleNotFoundError\u001b[0m                       Traceback (most recent call last)",
      "\u001b[0;32m<ipython-input-8-2ab9218fdf43>\u001b[0m in \u001b[0;36m<module>\u001b[0;34m()\u001b[0m\n\u001b[0;32m----> 1\u001b[0;31m \u001b[0;32mfrom\u001b[0m \u001b[0mzipline\u001b[0m\u001b[0;34m.\u001b[0m\u001b[0mexamples\u001b[0m \u001b[0;32mimport\u001b[0m \u001b[0mbuyapple\u001b[0m\u001b[0;34m\u001b[0m\u001b[0m\n\u001b[0m",
      "\u001b[0;32m/Library/Frameworks/Python.framework/Versions/3.6/lib/python3.6/site-packages/zipline/examples/__init__.py\u001b[0m in \u001b[0;36m<module>\u001b[0;34m()\u001b[0m\n\u001b[1;32m     15\u001b[0m         \u001b[0;32mcontinue\u001b[0m\u001b[0;34m\u001b[0m\u001b[0m\n\u001b[1;32m     16\u001b[0m     \u001b[0mmodname\u001b[0m \u001b[0;34m=\u001b[0m \u001b[0mf\u001b[0m\u001b[0;34m[\u001b[0m\u001b[0;34m:\u001b[0m\u001b[0;34m-\u001b[0m\u001b[0mlen\u001b[0m\u001b[0;34m(\u001b[0m\u001b[0;34m'.py'\u001b[0m\u001b[0;34m)\u001b[0m\u001b[0;34m]\u001b[0m\u001b[0;34m\u001b[0m\u001b[0m\n\u001b[0;32m---> 17\u001b[0;31m     \u001b[0mmod\u001b[0m \u001b[0;34m=\u001b[0m \u001b[0mimport_module\u001b[0m\u001b[0;34m(\u001b[0m\u001b[0;34m'.'\u001b[0m \u001b[0;34m+\u001b[0m \u001b[0mmodname\u001b[0m\u001b[0;34m,\u001b[0m \u001b[0mpackage\u001b[0m\u001b[0;34m=\u001b[0m\u001b[0m__name__\u001b[0m\u001b[0;34m)\u001b[0m\u001b[0;34m\u001b[0m\u001b[0m\n\u001b[0m\u001b[1;32m     18\u001b[0m     \u001b[0mEXAMPLE_MODULES\u001b[0m\u001b[0;34m[\u001b[0m\u001b[0mmodname\u001b[0m\u001b[0;34m]\u001b[0m \u001b[0;34m=\u001b[0m \u001b[0mmod\u001b[0m\u001b[0;34m\u001b[0m\u001b[0m\n\u001b[1;32m     19\u001b[0m     \u001b[0mglobals\u001b[0m\u001b[0;34m(\u001b[0m\u001b[0;34m)\u001b[0m\u001b[0;34m[\u001b[0m\u001b[0mmodname\u001b[0m\u001b[0;34m]\u001b[0m \u001b[0;34m=\u001b[0m \u001b[0mmod\u001b[0m\u001b[0;34m\u001b[0m\u001b[0m\n",
      "\u001b[0;32m/Library/Frameworks/Python.framework/Versions/3.6/lib/python3.6/importlib/__init__.py\u001b[0m in \u001b[0;36mimport_module\u001b[0;34m(name, package)\u001b[0m\n\u001b[1;32m    124\u001b[0m                 \u001b[0;32mbreak\u001b[0m\u001b[0;34m\u001b[0m\u001b[0m\n\u001b[1;32m    125\u001b[0m             \u001b[0mlevel\u001b[0m \u001b[0;34m+=\u001b[0m \u001b[0;36m1\u001b[0m\u001b[0;34m\u001b[0m\u001b[0m\n\u001b[0;32m--> 126\u001b[0;31m     \u001b[0;32mreturn\u001b[0m \u001b[0m_bootstrap\u001b[0m\u001b[0;34m.\u001b[0m\u001b[0m_gcd_import\u001b[0m\u001b[0;34m(\u001b[0m\u001b[0mname\u001b[0m\u001b[0;34m[\u001b[0m\u001b[0mlevel\u001b[0m\u001b[0;34m:\u001b[0m\u001b[0;34m]\u001b[0m\u001b[0;34m,\u001b[0m \u001b[0mpackage\u001b[0m\u001b[0;34m,\u001b[0m \u001b[0mlevel\u001b[0m\u001b[0;34m)\u001b[0m\u001b[0;34m\u001b[0m\u001b[0m\n\u001b[0m\u001b[1;32m    127\u001b[0m \u001b[0;34m\u001b[0m\u001b[0m\n\u001b[1;32m    128\u001b[0m \u001b[0;34m\u001b[0m\u001b[0m\n",
      "\u001b[0;32m/Library/Frameworks/Python.framework/Versions/3.6/lib/python3.6/site-packages/zipline/examples/dual_ema_talib.py\u001b[0m in \u001b[0;36m<module>\u001b[0;34m()\u001b[0m\n\u001b[1;32m     28\u001b[0m \u001b[0;32mfrom\u001b[0m \u001b[0mzipline\u001b[0m\u001b[0;34m.\u001b[0m\u001b[0mfinance\u001b[0m \u001b[0;32mimport\u001b[0m \u001b[0mcommission\u001b[0m\u001b[0;34m,\u001b[0m \u001b[0mslippage\u001b[0m\u001b[0;34m\u001b[0m\u001b[0m\n\u001b[1;32m     29\u001b[0m \u001b[0;31m# Import exponential moving average from talib wrapper\u001b[0m\u001b[0;34m\u001b[0m\u001b[0;34m\u001b[0m\u001b[0m\n\u001b[0;32m---> 30\u001b[0;31m \u001b[0;32mfrom\u001b[0m \u001b[0mtalib\u001b[0m \u001b[0;32mimport\u001b[0m \u001b[0mEMA\u001b[0m\u001b[0;34m\u001b[0m\u001b[0m\n\u001b[0m\u001b[1;32m     31\u001b[0m \u001b[0;34m\u001b[0m\u001b[0m\n\u001b[1;32m     32\u001b[0m \u001b[0;34m\u001b[0m\u001b[0m\n",
      "\u001b[0;31mModuleNotFoundError\u001b[0m: No module named 'talib'"
     ]
    }
   ],
   "source": []
  },
  {
   "cell_type": "code",
   "execution_count": 5,
   "metadata": {},
   "outputs": [
    {
     "ename": "ModuleNotFoundError",
     "evalue": "No module named 'zipline'",
     "output_type": "error",
     "traceback": [
      "\u001b[0;31m---------------------------------------------------------------------------\u001b[0m",
      "\u001b[0;31mModuleNotFoundError\u001b[0m                       Traceback (most recent call last)",
      "\u001b[0;32m<ipython-input-5-cc06eb8d3f68>\u001b[0m in \u001b[0;36m<module>\u001b[0;34m()\u001b[0m\n\u001b[0;32m----> 1\u001b[0;31m \u001b[0;32mfrom\u001b[0m \u001b[0mzipline\u001b[0m\u001b[0;34m.\u001b[0m\u001b[0mapi\u001b[0m \u001b[0;32mimport\u001b[0m \u001b[0morder\u001b[0m\u001b[0;34m,\u001b[0m \u001b[0mrecord\u001b[0m\u001b[0;34m,\u001b[0m \u001b[0msymbol\u001b[0m\u001b[0;34m\u001b[0m\u001b[0m\n\u001b[0m",
      "\u001b[0;31mModuleNotFoundError\u001b[0m: No module named 'zipline'"
     ]
    }
   ],
   "source": [
    "from zipline.api import order, record, symbol"
   ]
  },
  {
   "cell_type": "code",
   "execution_count": 6,
   "metadata": {},
   "outputs": [
    {
     "data": {
      "text/plain": [
       "['',\n",
       " '/Library/Frameworks/Python.framework/Versions/3.6/lib/python36.zip',\n",
       " '/Library/Frameworks/Python.framework/Versions/3.6/lib/python3.6',\n",
       " '/Library/Frameworks/Python.framework/Versions/3.6/lib/python3.6/lib-dynload',\n",
       " '/Users/fufeidu/Library/Python/3.6/lib/python/site-packages',\n",
       " '/Library/Frameworks/Python.framework/Versions/3.6/lib/python3.6/site-packages',\n",
       " '/Users/fufeidu/Library/Python/3.6/lib/python/site-packages/IPython/extensions',\n",
       " '/Users/fufeidu/.ipython']"
      ]
     },
     "execution_count": 6,
     "metadata": {},
     "output_type": "execute_result"
    }
   ],
   "source": [
    "import sys\n",
    "sys.path"
   ]
  },
  {
   "cell_type": "code",
   "execution_count": 7,
   "metadata": {},
   "outputs": [
    {
     "name": "stdout",
     "output_type": "stream",
     "text": [
      "Available kernels:\r\n",
      "  python3    /Users/fufeidu/Library/Jupyter/kernels/python3\r\n",
      "  python2    /Users/fufeidu/anaconda2/envs/env_zipline/share/jupyter/kernels/python2\r\n"
     ]
    }
   ],
   "source": [
    "!jupyter kernelspec list"
   ]
  },
  {
   "cell_type": "code",
   "execution_count": 4,
   "metadata": {},
   "outputs": [
    {
     "name": "stdout",
     "output_type": "stream",
     "text": [
      "Solving environment: done\n",
      "\n",
      "## Package Plan ##\n",
      "\n",
      "  environment location: /Library/Frameworks/Python.framework/Versions/3.6\n",
      "\n",
      "  added / updated specs: \n",
      "    - zipline\n",
      "\n",
      "\n",
      "The following NEW packages will be INSTALLED:\n",
      "\n",
      "    alembic:           0.7.7-py27_0            Quantopian\n",
      "    asn1crypto:        0.24.0-py27_0                     \n",
      "    bcolz:             0.12.1-np111py27_0      Quantopian\n",
      "    blas:              1.0-mkl                           \n",
      "    blosc:             1.14.4-hd9629dc_0                 \n",
      "    bottleneck:        1.2.1-py27h1d22016_1              \n",
      "    bzip2:             1.0.6-h1de35cc_5                  \n",
      "    ca-certificates:   2018.03.07-0                      \n",
      "    certifi:           2018.10.15-py27_0                 \n",
      "    cffi:              1.11.5-py27h6174b99_1             \n",
      "    chardet:           3.0.4-py27_1                      \n",
      "    click:             7.0-py27_0                        \n",
      "    contextlib2:       0.5.5-py27h9cb85f4_0              \n",
      "    cryptography:      2.4.1-py27ha12b0ac_0              \n",
      "    cyordereddict:     0.2.2-py27_0            Quantopian\n",
      "    cython:            0.29-py27h0a44026_0               \n",
      "    decorator:         4.3.0-py27_0                      \n",
      "    empyrical:         0.5.0-py27_0            Quantopian\n",
      "    enum34:            1.1.6-py27_1                      \n",
      "    hdf5:              1.10.2-hfa1e0ec_1                 \n",
      "    icu:               58.2-h4b95b61_1                   \n",
      "    idna:              2.7-py27_0                        \n",
      "    intel-openmp:      2019.1-144                        \n",
      "    intervaltree:      2.1.0-py27_0            Quantopian\n",
      "    ipaddress:         1.0.22-py27_0                     \n",
      "    libcxx:            4.0.1-hcfea43d_1                  \n",
      "    libcxxabi:         4.0.1-hcfea43d_1                  \n",
      "    libedit:           3.1.20170329-hb402a30_2           \n",
      "    libffi:            3.2.1-h475c297_4                  \n",
      "    libgfortran:       3.0.1-h93005f0_2                  \n",
      "    libiconv:          1.15-hdd342a3_7                   \n",
      "    libxml2:           2.9.8-hab757c2_1                  \n",
      "    libxslt:           1.1.32-hb819dd2_0                 \n",
      "    logbook:           0.12.5-py27_0           Quantopian\n",
      "    lru-dict:          1.1.4-py27_0            Quantopian\n",
      "    lxml:              4.2.5-py27hef8c89e_0              \n",
      "    lzo:               2.10-h362108e_2                   \n",
      "    mako:              1.0.7-py27_0                      \n",
      "    markupsafe:        1.1.0-py27h1de35cc_0              \n",
      "    mkl:               2018.0.3-1                        \n",
      "    multipledispatch:  0.6.0-py27_0                      \n",
      "    ncurses:           6.1-h0a44026_1                    \n",
      "    networkx:          1.11-py27_1                       \n",
      "    numexpr:           2.6.8-py27h1dc9127_0              \n",
      "    numpy:             1.11.3-py27heee0a97_5             \n",
      "    openssl:           1.1.1a-h1de35cc_0                 \n",
      "    pandas:            0.22.0-py27h0a44026_0             \n",
      "    pandas-datareader: 0.7.0-py27_0                      \n",
      "    patsy:             0.5.1-py27_0                      \n",
      "    pip:               18.1-py27_0                       \n",
      "    pycparser:         2.19-py27_0                       \n",
      "    pyopenssl:         18.0.0-py27_0                     \n",
      "    pysocks:           1.6.8-py27_0                      \n",
      "    pytables:          3.4.4-py27h13cba08_0              \n",
      "    python:            2.7.15-h8f8e585_4                 \n",
      "    python-dateutil:   2.7.5-py27_0                      \n",
      "    pytz:              2018.7-py27_0                     \n",
      "    readline:          7.0-h1de35cc_5                    \n",
      "    requests:          2.20.1-py27_0                     \n",
      "    requests-file:     1.4.3-py27_0                      \n",
      "    scipy:             1.1.0-py27hf5b7bf4_0              \n",
      "    setuptools:        40.6.2-py27_0                     \n",
      "    six:               1.11.0-py27_1                     \n",
      "    snappy:            1.1.7-he62c110_3                  \n",
      "    sortedcontainers:  1.4.4-py27_0            Quantopian\n",
      "    sqlalchemy:        1.2.14-py27h1de35cc_0             \n",
      "    sqlite:            3.25.3-ha441bb4_0                 \n",
      "    statsmodels:       0.9.0-py27h1d22016_0              \n",
      "    tk:                8.6.8-ha441bb4_0                  \n",
      "    toolz:             0.9.0-py27_0                      \n",
      "    trading-calendars: 1.5.1-py27_0            Quantopian\n",
      "    urllib3:           1.23-py27_0                       \n",
      "    wheel:             0.32.3-py27_0                     \n",
      "    wrapt:             1.10.11-py27h1de35cc_2            \n",
      "    xz:                5.2.4-h1de35cc_4                  \n",
      "    zipline:           1.3.0-np111py27_0       Quantopian\n",
      "    zlib:              1.2.11-h1de35cc_3                 \n",
      "\n",
      "Preparing transaction: done\n",
      "Verifying transaction: done\n",
      "Executing transaction: done\n"
     ]
    }
   ],
   "source": [
    "import sys\n",
    "!conda install --yes --prefix {sys.prefix} -c Quantopian zipline"
   ]
  },
  {
   "cell_type": "code",
   "execution_count": 5,
   "metadata": {},
   "outputs": [
    {
     "ename": "ModuleNotFoundError",
     "evalue": "No module named 'zipline'",
     "output_type": "error",
     "traceback": [
      "\u001b[0;31m---------------------------------------------------------------------------\u001b[0m",
      "\u001b[0;31mModuleNotFoundError\u001b[0m                       Traceback (most recent call last)",
      "\u001b[0;32m<ipython-input-5-ab8bff6e5ffb>\u001b[0m in \u001b[0;36m<module>\u001b[0;34m()\u001b[0m\n\u001b[0;32m----> 1\u001b[0;31m \u001b[0;32mimport\u001b[0m \u001b[0mzipline\u001b[0m\u001b[0;34m\u001b[0m\u001b[0m\n\u001b[0m",
      "\u001b[0;31mModuleNotFoundError\u001b[0m: No module named 'zipline'"
     ]
    }
   ],
   "source": [
    "import zipline"
   ]
  },
  {
   "cell_type": "code",
   "execution_count": null,
   "metadata": {},
   "outputs": [],
   "source": []
  }
 ],
 "metadata": {
  "kernelspec": {
   "display_name": "Python 3",
   "language": "python",
   "name": "python3"
  },
  "language_info": {
   "codemirror_mode": {
    "name": "ipython",
    "version": 3
   },
   "file_extension": ".py",
   "mimetype": "text/x-python",
   "name": "python",
   "nbconvert_exporter": "python",
   "pygments_lexer": "ipython3",
   "version": "3.6.2"
  }
 },
 "nbformat": 4,
 "nbformat_minor": 2
}
